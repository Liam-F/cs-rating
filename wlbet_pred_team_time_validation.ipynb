{
 "cells": [
  {
   "cell_type": "markdown",
   "metadata": {},
   "source": [
    "## Win/Loss Rating Model Prediction\n",
    "\n",
    "Load the model and make predictions"
   ]
  },
  {
   "cell_type": "code",
   "execution_count": 39,
   "metadata": {},
   "outputs": [],
   "source": [
    "import requests\n",
    "import pandas as pd\n",
    "import numpy as np\n",
    "import pymc3 as pm\n",
    "import seaborn as sns\n",
    "import datetime as dt\n",
    "import matplotlib.pyplot as plt\n",
    "from scipy.stats import norm\n",
    "from wl_model.spcl_case import *\n",
    "plt.style.use('fivethirtyeight')\n",
    "%matplotlib inline"
   ]
  },
  {
   "cell_type": "markdown",
   "metadata": {},
   "source": [
    "### Get a list of all CS Games"
   ]
  },
  {
   "cell_type": "markdown",
   "metadata": {},
   "source": [
    "## Load Ratings Model"
   ]
  },
  {
   "cell_type": "code",
   "execution_count": 40,
   "metadata": {},
   "outputs": [],
   "source": [
    "TEAM_SET = 'eslpl_time'\n",
    "\n",
    "teams = np.load('wl_model/saved_model/'+TEAM_SET+'/teams.npy')\n",
    "maps = np.load('wl_model/saved_model/'+TEAM_SET+'/maps.npy')\n",
    "periods = np.load('wl_model/saved_model/'+TEAM_SET+'/periods.npy')\n",
    "filt = np.load('wl_model/saved_model/'+TEAM_SET+'/filter_teams.npy')\n",
    "h_teams = pd.read_csv('wl_model/hltv_csv/teams_w_ranking.csv')\n",
    "h_teams = fix_teams(h_teams.set_index('ID').loc[teams])\n",
    "h_teams_filt = h_teams[h_teams.Name.isin(filt)]\n",
    "\n",
    "rating_model = prep_pymc_time_model(len(teams), len(maps), len(periods))\n",
    "trace = pm.backends.text.load('wl_model/saved_model/'+TEAM_SET+'/trace', model=rating_model)"
   ]
  },
  {
   "cell_type": "markdown",
   "metadata": {
    "collapsed": true
   },
   "source": [
    "## Sample A test set"
   ]
  },
  {
   "cell_type": "code",
   "execution_count": null,
   "metadata": {
    "collapsed": true
   },
   "outputs": [],
   "source": [
    "h_matches = pd.read_csv('hltv_csv/matchResults.csv').set_index('Match ID')\n",
    "h_matches['Date'] = pd.to_datetime(h_matches.Date)\n",
    "h_matches = h_matches[(h_matches.Date >= dt.datetime(2017,1,1)) &\n",
    "         (h_matches['Team 1 ID'].isin(h_teams_filt.index)) &\n",
    "         (h_matches['Team 2 ID'].isin(h_teams_filt.index))]\n",
    "sample_valid_set = h_matches.sample(1000, replace=False, random_state=200)\n",
    "sample_valid_set['Winner'] = sample_valid_set['Team 1 Score'] >= sample_valid_set['Team 2 Score']"
   ]
  },
  {
   "cell_type": "code",
   "execution_count": 44,
   "metadata": {
    "collapsed": true
   },
   "outputs": [],
   "source": [
    "sample_valid_set = pd.read_csv('sample_valid_set.csv')\n",
    "sample_valid_set = sample_valid_set[['Date', 'Team 1 ID', 'Team 2 ID', 'Map', 'Winner']]\n",
    "sample_valid_set['Date'] = pd.to_datetime(sample_valid_set.Date)\n",
    "sample_valid_set['Period'] = sample_valid_set['Date'].dt.to_period('M')"
   ]
  },
  {
   "cell_type": "markdown",
   "metadata": {},
   "source": [
    "# Generate Predictions"
   ]
  },
  {
   "cell_type": "code",
   "execution_count": 49,
   "metadata": {
    "scrolled": false
   },
   "outputs": [
    {
     "data": {
      "application/vnd.jupyter.widget-view+json": {
       "model_id": "9a004d7b2163410ab0472f748a4aac51",
       "version_major": 2,
       "version_minor": 0
      },
      "text/plain": [
       "A Jupyter Widget"
      ]
     },
     "metadata": {},
     "output_type": "display_data"
    },
    {
     "name": "stdout",
     "output_type": "stream",
     "text": [
      "\n"
     ]
    }
   ],
   "source": [
    "def sig(x):\n",
    "    return 1 / (1 + np.exp(-x))\n",
    "\n",
    "from tqdm import tqdm_notebook\n",
    "\n",
    "valid_set = []\n",
    "for i,v in tqdm_notebook(sample_valid_set.iterrows()):\n",
    "    t1_ind = np.where(teams == v['Team 1 ID'])[0][0]; t2_ind = np.where(teams == v['Team 2 ID'])[0][0];\n",
    "    m_ind = np.where(maps == v['Map'])[0][0];\n",
    "    per_ind = np.where(periods == v['Period']-1)[0][0] #make sure to test with previous period\n",
    "    \n",
    "    trace_1 = trace['rating_%i' % per_ind][:,t1_ind]; trace_2 = trace['rating_%i' % per_ind][:,t2_ind]\n",
    "    diff = trace_1-trace_2\n",
    "    p_wl = 0.5*np.tanh(diff)+0.5\n",
    "    #wr_uncond = p_wl.mean()\n",
    "    wr_uncond = np.mean(p_wl)\n",
    "    \n",
    "    #trace_1 = t_ratingmap[:,m_ind,t1_ind]; trace_2 = t_ratingmap[:,m_ind,t2_ind]\n",
    "    #diff = trace_1-trace_2\n",
    "    #p_wl = 0.5*np.tanh(diff)+0.5\n",
    "    ##wr_cond = p_wl.mean()\n",
    "    #wr_cond = np.mean(p_wl)\n",
    "    \n",
    "    valid_set.append([int(v['Winner']), wr_uncond, wr_uncond])\n",
    "validation = np.array(valid_set)"
   ]
  },
  {
   "cell_type": "code",
   "execution_count": 50,
   "metadata": {
    "collapsed": true
   },
   "outputs": [],
   "source": [
    "from sklearn.metrics import roc_curve, confusion_matrix, log_loss\n",
    "def print_validation_results(validation):\n",
    "    print('Log Loss U: %.5f' % log_loss(validation[:,0], validation[:,1]))\n",
    "    print('Log Loss C: %.5f' % log_loss(validation[:,0], validation[:,2]))\n",
    "\n",
    "    fpr, tpr, tresh = roc_curve(validation[:,0], validation[:,1])\n",
    "    fig, ax = plt.subplots(figsize=(8, 6))\n",
    "    ax.plot(fpr, tpr, color='darkorange', lw=2, label='ROC curve - U')\n",
    "    ax.plot([0, 1], [0, 1], color='navy', lw=2, linestyle='--')\n",
    "    fpr, tpr, tresh = roc_curve(validation[:,0], validation[:,2])\n",
    "    ax.plot(fpr, tpr, color='orangered', lw=2, label='ROC curve - C')\n",
    "    ax.legend(loc=\"lower right\")\n",
    "\n",
    "    validation_binary = validation.copy()\n",
    "    validation_binary[:,1] = (validation_binary[:,1] > 0.5).astype(int)\n",
    "    validation_binary[:,2] = (validation_binary[:,2] > 0.5).astype(int)\n",
    "\n",
    "    cm = confusion_matrix(validation_binary[:,0], validation_binary[:,1])\n",
    "    print(\"CM Unconditional\")\n",
    "    print(cm.astype('float') / cm.sum(axis=1)[:, np.newaxis])\n",
    "    cm = confusion_matrix(validation_binary[:,0], validation_binary[:,2])\n",
    "    print(\"CM Conditional\")\n",
    "    print(cm.astype('float') / cm.sum(axis=1)[:, np.newaxis])\n",
    "\n",
    "    bins = np.vstack([np.arange(0,1,0.1), np.arange(0.1,1.1,0.1)]).T\n",
    "    binned = {'U': [], 'C': []}\n",
    "    for r in bins:\n",
    "        binned['U'].append(validation[(validation[:,1] >= r[0])&(validation[:,1] < r[1]),0].mean())\n",
    "        binned['C'].append(validation[(validation[:,2] >= r[0])&(validation[:,2] < r[1]),0].mean())\n",
    "\n",
    "    fig, ax = plt.subplots(figsize=(8, 6))\n",
    "    ax.plot(bins.sum(axis=1)/2,binned['U'], lw=2, label='U')\n",
    "    ax.plot(bins.sum(axis=1)/2,binned['C'], lw=2, label='C')\n",
    "    ax.plot(bins.sum(axis=1)/2,bins.sum(axis=1)/2, lw=2, linestyle='--')\n",
    "    ax.legend(loc=\"lower right\")"
   ]
  },
  {
   "cell_type": "code",
   "execution_count": 51,
   "metadata": {},
   "outputs": [
    {
     "name": "stdout",
     "output_type": "stream",
     "text": [
      "Log Loss U: 0.62094\n",
      "Log Loss C: 0.62094\n",
      "CM Unconditional\n",
      "[[ 0.61693548  0.38306452]\n",
      " [ 0.29365079  0.70634921]]\n",
      "CM Conditional\n",
      "[[ 0.61693548  0.38306452]\n",
      " [ 0.29365079  0.70634921]]\n"
     ]
    },
    {
     "data": {
      "image/png": "[encoded data removed]",
      "text/plain": [
       "<matplotlib.figure.Figure at 0x21307705f98>"
      ]
     },
     "metadata": {},
     "output_type": "display_data"
    },
    {
     "data": {
      "image/png": "[encoded data removed]",
      "text/plain": [
       "<matplotlib.figure.Figure at 0x21307c3f860>"
      ]
     },
     "metadata": {},
     "output_type": "display_data"
    }
   ],
   "source": [
    "print_validation_results(validation)"
   ]
  },
  {
   "cell_type": "code",
   "execution_count": null,
   "metadata": {},
   "outputs": [],
   "source": [
    "from scipy.stats import beta\n",
    "print(\"rand guessing\")\n",
    "rand_guess = beta.rvs(a=10, b=10, size=(validation.shape[0],2))\n",
    "validation[:,[1,2]] = rand_guess\n",
    "print_validation_results(validation)"
   ]
  },
  {
   "cell_type": "code",
   "execution_count": null,
   "metadata": {
    "collapsed": true
   },
   "outputs": [],
   "source": [
    "sample_valid_set.reset_index(drop=True).to_csv('sample_valid_set.csv',index=False)"
   ]
  },
  {
   "cell_type": "code",
   "execution_count": null,
   "metadata": {
    "collapsed": true
   },
   "outputs": [],
   "source": []
  },
  {
   "cell_type": "code",
   "execution_count": null,
   "metadata": {
    "collapsed": true
   },
   "outputs": [],
   "source": []
  }
 ],
 "metadata": {
  "kernelspec": {
   "display_name": "Python 3",
   "language": "python",
   "name": "python3"
  },
  "language_info": {
   "codemirror_mode": {
    "name": "ipython",
    "version": 3
   },
   "file_extension": ".py",
   "mimetype": "text/x-python",
   "name": "python",
   "nbconvert_exporter": "python",
   "pygments_lexer": "ipython3",
   "version": "3.6.2"
  }
 },
 "nbformat": 4,
 "nbformat_minor": 2
}
