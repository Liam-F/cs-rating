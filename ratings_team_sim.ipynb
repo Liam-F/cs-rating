{
 "cells": [
  {
   "cell_type": "markdown",
   "metadata": {},
   "source": [
    "## Testing the Rating System\n",
    "\n",
    "Let's generate some bernoulli based data based on my soon to be rating model and see if we can recover the parameters"
   ]
  },
  {
   "cell_type": "code",
   "execution_count": 87,
   "metadata": {
    "collapsed": true
   },
   "outputs": [],
   "source": [
    "import pandas as pd\n",
    "import numpy as np\n",
    "from scipy.stats import norm, bernoulli\n",
    "%matplotlib inline\n",
    "import matplotlib.pyplot as plt\n",
    "import seaborn as sns\n",
    "plt.style.use('fivethirtyeight')"
   ]
  },
  {
   "cell_type": "markdown",
   "metadata": {},
   "source": [
    "Generate teams and Data with timevarying skill"
   ]
  },
  {
   "cell_type": "code",
   "execution_count": 281,
   "metadata": {},
   "outputs": [
    {
     "name": "stdout",
     "output_type": "stream",
     "text": [
      "718 Number of Generated Matchups\n",
      "718 Time set matches -- 0: 144  1: 359  2: 215\n"
     ]
    }
   ],
   "source": [
    "true_team_skill = {\n",
    "    'A': [[1200, 100], [1300, 90], [1650, 150]],\n",
    "    'B': [[1100, 200], [1100, 200], [1200, 200]],\n",
    "    'C': [[800, 100], [1100, 300], [500, 120]],\n",
    "    'D': [[850, 120], [700, 500], [1200, 500]],\n",
    "    'E': [[700, 500], [400, 800], [900, 600]],\n",
    "}\n",
    "beta = 50\n",
    "\n",
    "num_matches = 1000\n",
    "n_teams = len(true_team_skill)\n",
    "\n",
    "match_ups = np.random.choice(list(true_team_skill.keys()), (num_matches, 2), p=[0.1, 0.25, 0.25, 0.35, 0.05])\n",
    "match_ups = match_ups[match_ups[:,0] != match_ups[:,1]]\n",
    "print(\"%i Number of Generated Matchups\" % len(match_ups))\n",
    "\n",
    "num_matches = len(match_ups)\n",
    "p_time = np.round(np.array([0.2, 0.5, 0.3])*num_matches).astype(int)\n",
    "t = np.array([0]*p_time[0] + [1]*p_time[1] + [2]*p_time[2])\n",
    "print(\"%s Time set matches -- 0: %i  1: %i  2: %i\" % ((len(t),)+tuple(t for t in p_time)))\n",
    "\n",
    "match_ups = np.column_stack([match_ups,t])"
   ]
  },
  {
   "cell_type": "markdown",
   "metadata": {},
   "source": [
    "Now let's generate three set of time seried matches"
   ]
  },
  {
   "cell_type": "code",
   "execution_count": 282,
   "metadata": {},
   "outputs": [],
   "source": [
    "\n",
    "winner = []\n",
    "for match in match_ups:\n",
    "    param_one = true_team_skill[match[0]][int(match[2])]\n",
    "    param_two = true_team_skill[match[1]][int(match[2])]\n",
    "    \n",
    "    p_one = 1.-norm.cdf(0, loc=param_one[0]-param_two[0], scale=np.sqrt(param_one[1]**2 + param_two[1]**2 + 2*beta**2))\n",
    "    res = bernoulli.rvs(p_one)\n",
    "    #print('%s vs %s - p: %.1f - %s won' % (match[0], match[1], p_one*100., match[int(np.logical_not(res))]))\n",
    "    winner.append(match[int(np.logical_not(res))])"
   ]
  },
  {
   "cell_type": "code",
   "execution_count": 283,
   "metadata": {},
   "outputs": [
    {
     "data": {
      "text/html": [
       "<div>\n",
       "<style>\n",
       "    .dataframe thead tr:only-child th {\n",
       "        text-align: right;\n",
       "    }\n",
       "\n",
       "    .dataframe thead th {\n",
       "        text-align: left;\n",
       "    }\n",
       "\n",
       "    .dataframe tbody tr th {\n",
       "        vertical-align: top;\n",
       "    }\n",
       "</style>\n",
       "<table border=\"1\" class=\"dataframe\">\n",
       "  <thead>\n",
       "    <tr style=\"text-align: right;\">\n",
       "      <th></th>\n",
       "      <th>Team 1</th>\n",
       "      <th>Team 2</th>\n",
       "      <th>t</th>\n",
       "      <th>winner</th>\n",
       "    </tr>\n",
       "  </thead>\n",
       "  <tbody>\n",
       "    <tr>\n",
       "      <th>0</th>\n",
       "      <td>E</td>\n",
       "      <td>B</td>\n",
       "      <td>0</td>\n",
       "      <td>B</td>\n",
       "    </tr>\n",
       "    <tr>\n",
       "      <th>1</th>\n",
       "      <td>B</td>\n",
       "      <td>C</td>\n",
       "      <td>0</td>\n",
       "      <td>B</td>\n",
       "    </tr>\n",
       "    <tr>\n",
       "      <th>2</th>\n",
       "      <td>D</td>\n",
       "      <td>B</td>\n",
       "      <td>0</td>\n",
       "      <td>D</td>\n",
       "    </tr>\n",
       "    <tr>\n",
       "      <th>3</th>\n",
       "      <td>D</td>\n",
       "      <td>B</td>\n",
       "      <td>0</td>\n",
       "      <td>B</td>\n",
       "    </tr>\n",
       "    <tr>\n",
       "      <th>4</th>\n",
       "      <td>C</td>\n",
       "      <td>D</td>\n",
       "      <td>0</td>\n",
       "      <td>D</td>\n",
       "    </tr>\n",
       "  </tbody>\n",
       "</table>\n",
       "</div>"
      ],
      "text/plain": [
       "  Team 1 Team 2  t winner\n",
       "0      E      B  0      B\n",
       "1      B      C  0      B\n",
       "2      D      B  0      D\n",
       "3      D      B  0      B\n",
       "4      C      D  0      D"
      ]
     },
     "execution_count": 283,
     "metadata": {},
     "output_type": "execute_result"
    }
   ],
   "source": [
    "obs = pd.DataFrame(match_ups, columns=['Team 1', 'Team 2', 't'])\n",
    "obs['t'] = obs['t'].astype(int)\n",
    "obs['winner'] = winner\n",
    "obs.head()"
   ]
  },
  {
   "cell_type": "markdown",
   "metadata": {},
   "source": [
    "## Non-MCMC Model"
   ]
  },
  {
   "cell_type": "code",
   "execution_count": 300,
   "metadata": {
    "collapsed": true
   },
   "outputs": [],
   "source": [
    "def vec2dict(s, n_teams, n_periods):\n",
    "    return {\n",
    "        'mu': np.array(s[:n_teams]),\n",
    "        'sigma': np.array(s[n_teams:n_teams*2]),\n",
    "        'alpha': np.array(s[n_teams*2:n_periods*n_teams+n_teams*2]).reshape(n_periods, n_teams),\n",
    "        'beta': s[-2],\n",
    "        'omega': s[-1]\n",
    "    }\n",
    "\n",
    "def dict2vec(s):\n",
    "    return s['mu'].tolist()+s['sigma'].tolist()+s['alpha'].flatten().tolist()+[s['beta'], s['omega']]"
   ]
  },
  {
   "cell_type": "code",
   "execution_count": 319,
   "metadata": {},
   "outputs": [],
   "source": [
    "skills_0 = dict2vec({\n",
    "    'mu': np.array([1000]*n_teams),\n",
    "    'sigma': np.array([150]*n_teams),\n",
    "    'alpha': np.zeros(shape=(n_periods, n_teams)),\n",
    "    'beta': 50,\n",
    "    'omega': 150,\n",
    "})"
   ]
  },
  {
   "cell_type": "code",
   "execution_count": 322,
   "metadata": {},
   "outputs": [],
   "source": [
    "from scipy.optimize import minimize\n",
    "\n",
    "n_periods = obs['t'].max()\n",
    "mapping = {v:k for k,v in dict(enumerate(['A', 'B', 'C', 'D', 'E'])).items()}\n",
    "\n",
    "\n",
    "def loglike(y,p):\n",
    "    return -1.*(np.sum(y*np.log(p)+(1.-y)*np.log(1-p)))\n",
    "\n",
    "def obj(skills):\n",
    "    s = vec2dict(skills, n_teams, n_periods)\n",
    "    ll = 0\n",
    "    \n",
    "    for i in range(n_periods+1):\n",
    "        obs_per = obs[obs['t'] == i]\n",
    "        \n",
    "        s['mu'] = s['mu'] + s['alpha'][i-1] if i > 0 else s['mu']\n",
    "        sigma_sq = sigma_sq + s['omega']**2 if i > 0 else s['sigma']**2\n",
    "        \n",
    "        mean_diff = s['mu'][obs_per['Team 1'].map(mapping).values] - s['mu'][obs_per['Team 2'].map(mapping).values]\n",
    "        var_diff = sigma_sq[obs_per['Team 1'].map(mapping).values] + sigma_sq[obs_per['Team 2'].map(mapping).values] + 2.*s['beta']**2\n",
    "        \n",
    "        p = 1.-norm.cdf(0., loc=mean_diff, scale = np.sqrt(var_diff))\n",
    "        ll += loglike((obs_per['Team 1'] == obs_per['winner']).values, p)\n",
    "        \n",
    "    return ll\n"
   ]
  },
  {
   "cell_type": "code",
   "execution_count": 323,
   "metadata": {},
   "outputs": [
    {
     "data": {
      "text/plain": [
       "497.67967564204071"
      ]
     },
     "execution_count": 323,
     "metadata": {},
     "output_type": "execute_result"
    }
   ],
   "source": [
    "obj(skills_0)"
   ]
  },
  {
   "cell_type": "code",
   "execution_count": 328,
   "metadata": {},
   "outputs": [
    {
     "name": "stdout",
     "output_type": "stream",
     "text": [
      "Iteration limit exceeded\n",
      "341.6133274895941\n"
     ]
    }
   ],
   "source": [
    "g = minimize(obj, x0=skills_0, constraints = {'type': 'ineq', 'fun': lambda x: x[5:10]})\n",
    "print(g.message)\n",
    "print(g.fun)"
   ]
  },
  {
   "cell_type": "code",
   "execution_count": 329,
   "metadata": {},
   "outputs": [
    {
     "name": "stdout",
     "output_type": "stream",
     "text": [
      "{'mu': array([ 1229.79853781,  1192.12052948,   847.08480906,   940.57869453,\n",
      "         790.526306  ]), 'sigma': array([  2.20166613e+01,   1.77635684e-15,   1.25315339e+02,\n",
      "         3.39778753e+02,   4.01692057e+02]), 'alpha': array([[  1.78403179e-01,  -8.86145432e+01,   2.22484084e+02,\n",
      "         -1.03766242e+02,  -3.02994712e+01],\n",
      "       [  1.93030913e+02,  -8.15024851e+01,  -4.36590600e+02,\n",
      "          2.48655234e+02,   7.64650616e+01]]), 'beta': 75.71750584695485, 'omega': -4.2690783372273202}\n"
     ]
    },
    {
     "name": "stderr",
     "output_type": "stream",
     "text": [
      "C:\\Users\\kevin.pei\\AppData\\Local\\Continuum\\anaconda3\\lib\\site-packages\\statsmodels\\nonparametric\\kde.py:494: RuntimeWarning: invalid value encountered in true_divide\n",
      "  binned = fast_linbin(X,a,b,gridsize)/(delta*nobs)\n",
      "C:\\Users\\kevin.pei\\AppData\\Local\\Continuum\\anaconda3\\lib\\site-packages\\statsmodels\\nonparametric\\kdetools.py:34: RuntimeWarning: invalid value encountered in double_scalars\n",
      "  FAC1 = 2*(np.pi*bw/RANGE)**2\n"
     ]
    },
    {
     "data": {
      "text/plain": [
       "[<matplotlib.axes._subplots.AxesSubplot at 0x24560586320>,\n",
       " <matplotlib.axes._subplots.AxesSubplot at 0x24560586320>,\n",
       " <matplotlib.axes._subplots.AxesSubplot at 0x24560586320>,\n",
       " <matplotlib.axes._subplots.AxesSubplot at 0x24560586320>,\n",
       " <matplotlib.axes._subplots.AxesSubplot at 0x24560586320>]"
      ]
     },
     "execution_count": 329,
     "metadata": {},
     "output_type": "execute_result"
    },
    {
     "data": {
      "image/png": "[encoded data removed]",
      "text/plain": [
       "<matplotlib.figure.Figure at 0x24560596400>"
      ]
     },
     "metadata": {},
     "output_type": "display_data"
    }
   ],
   "source": [
    "opt_skill = vec2dict(g.x, n_teams, n_periods)\n",
    "print(opt_skill)\n",
    "plots = norm.rvs(opt_skill['mu'], opt_skill['sigma'], size=(5000,5))\n",
    "\n",
    "f, ax = plt.subplots(figsize=(12,8))\n",
    "plt.ylim(0,0.01)\n",
    "[sns.kdeplot(plots[:,i], shade=True, alpha=0.55, legend=True, ax=ax, label=i) for i in range(5)]"
   ]
  },
  {
   "cell_type": "code",
   "execution_count": 330,
   "metadata": {},
   "outputs": [],
   "source": [
    "cur_skill = opt_skill['mu']\n",
    "skill_over_time = [opt_skill['mu']]\n",
    "for i in range(n_periods):\n",
    "    skill_over_time.append(cur_skill*opt_skill['alpha'][i])"
   ]
  },
  {
   "cell_type": "code",
   "execution_count": 333,
   "metadata": {},
   "outputs": [
    {
     "data": {
      "text/plain": [
       "[<matplotlib.lines.Line2D at 0x2456207eeb8>,\n",
       " <matplotlib.lines.Line2D at 0x245620890f0>,\n",
       " <matplotlib.lines.Line2D at 0x24562089320>,\n",
       " <matplotlib.lines.Line2D at 0x24562089550>,\n",
       " <matplotlib.lines.Line2D at 0x24562089780>]"
      ]
     },
     "execution_count": 333,
     "metadata": {},
     "output_type": "execute_result"
    },
    {
     "data": {
      "image/png": "[encoded data removed]",
      "text/plain": [
       "<matplotlib.figure.Figure at 0x24561bebfd0>"
      ]
     },
     "metadata": {},
     "output_type": "display_data"
    }
   ],
   "source": [
    "plt.plot(np.stack(skill_over_time))"
   ]
  },
  {
   "cell_type": "code",
   "execution_count": 245,
   "metadata": {},
   "outputs": [
    {
     "data": {
      "text/plain": [
       "[array([ 1212.22982073,  1103.98496928,   864.83442527,   864.50391771,\n",
       "          954.02637907]),\n",
       " array([ 860.46999493,  760.9401195 ,  784.6136615 ,  618.78188362,\n",
       "         614.0004628 ]),\n",
       " array([-28183.97130012, -29498.07069969, -22833.65284515, -28269.84121511,\n",
       "        -31633.64917438])]"
      ]
     },
     "execution_count": 245,
     "metadata": {},
     "output_type": "execute_result"
    }
   ],
   "source": [
    "skill_over_time"
   ]
  },
  {
   "cell_type": "code",
   "execution_count": null,
   "metadata": {
    "collapsed": true
   },
   "outputs": [],
   "source": []
  },
  {
   "cell_type": "code",
   "execution_count": 548,
   "metadata": {},
   "outputs": [
    {
     "name": "stdout",
     "output_type": "stream",
     "text": [
      "A vs B : true - 66.87 pct   |   optim - 70.94 pct   |   mcmc - 67.31 pct\n",
      "A vs C : true - 99.62 pct   |   optim - 96.90 pct   |   mcmc - 92.87 pct\n",
      "A vs D : true - 98.36 pct   |   optim - 95.54 pct   |   mcmc - 89.55 pct\n",
      "A vs E : true - 83.54 pct   |   optim - 82.40 pct   |   mcmc - 91.68 pct\n",
      "B vs A : true - 33.13 pct   |   optim - 29.06 pct   |   mcmc - 32.69 pct\n",
      "B vs C : true - 90.48 pct   |   optim - 88.91 pct   |   mcmc - 86.32 pct\n",
      "B vs D : true - 85.27 pct   |   optim - 84.12 pct   |   mcmc - 80.59 pct\n",
      "B vs E : true - 77.02 pct   |   optim - 74.07 pct   |   mcmc - 84.26 pct\n",
      "C vs A : true - 0.38 pct   |   optim - 3.10 pct   |   mcmc - 7.13 pct\n",
      "C vs B : true - 9.52 pct   |   optim - 11.09 pct   |   mcmc - 13.68 pct\n",
      "C vs D : true - 38.02 pct   |   optim - 35.98 pct   |   mcmc - 39.81 pct\n",
      "C vs E : true - 57.74 pct   |   optim - 52.02 pct   |   mcmc - 46.16 pct\n",
      "D vs A : true - 1.64 pct   |   optim - 4.46 pct   |   mcmc - 10.45 pct\n",
      "D vs B : true - 14.73 pct   |   optim - 15.88 pct   |   mcmc - 19.41 pct\n",
      "D vs C : true - 61.98 pct   |   optim - 64.02 pct   |   mcmc - 60.19 pct\n",
      "D vs E : true - 61.42 pct   |   optim - 58.10 pct   |   mcmc - 56.39 pct\n",
      "E vs A : true - 16.46 pct   |   optim - 17.60 pct   |   mcmc - 8.32 pct\n",
      "E vs B : true - 22.98 pct   |   optim - 25.93 pct   |   mcmc - 15.74 pct\n",
      "E vs C : true - 42.26 pct   |   optim - 47.98 pct   |   mcmc - 53.84 pct\n",
      "E vs D : true - 38.58 pct   |   optim - 41.90 pct   |   mcmc - 43.61 pct\n"
     ]
    }
   ],
   "source": [
    "infer_mean = opt_skill[:5]\n",
    "infer_std = opt_skill[5:-1]\n",
    "infer_beta = opt_skill[-1]\n",
    "\n",
    "err = {'mcmc': [], 'opt': []}\n",
    "for pair, k in obs.groupby(['Team 1', 'Team 2']).count().itertuples():\n",
    "    param_one = true_team_skill[pair[0]]\n",
    "    param_two = true_team_skill[pair[1]]\n",
    "    \n",
    "    p_one_true = 1.-norm.cdf(0, loc=param_one[0]-param_two[0], scale=np.sqrt(param_one[1]**2 + param_two[1]**2 + 50.**2))\n",
    "    p_one_opt = 1.-norm.cdf(0, loc=infer_mean[mapping[pair[0]]]-infer_mean[mapping[pair[1]]], scale=np.sqrt(infer_std[mapping[pair[0]]]**2 + infer_std[mapping[pair[1]]]**2 + infer_beta**2))\n",
    "    p_one_mcmc = (1./(1+np.exp(-0.005*(trace['rating'][:,mapping[pair[0]]] - trace['rating'][:,mapping[pair[1]]])))).mean()\n",
    "    \n",
    "    err['mcmc'].append(p_one_true-p_one_mcmc); err['opt'].append(p_one_true-p_one_opt);\n",
    "    \n",
    "    print('%s vs %s : true - %.2f pct   |   optim - %.2f pct   |   mcmc - %.2f pct' % \n",
    "          (pair[0], pair[1], p_one_true*100., p_one_opt*100., p_one_mcmc*100.))"
   ]
  },
  {
   "cell_type": "code",
   "execution_count": 549,
   "metadata": {},
   "outputs": [
    {
     "data": {
      "text/plain": [
       "0.0044335779687110447"
      ]
     },
     "execution_count": 549,
     "metadata": {},
     "output_type": "execute_result"
    }
   ],
   "source": [
    "np.mean(np.power(err['mcmc'],2))"
   ]
  },
  {
   "cell_type": "code",
   "execution_count": 550,
   "metadata": {},
   "outputs": [
    {
     "data": {
      "text/plain": [
       "0.00093468368325839882"
      ]
     },
     "execution_count": 550,
     "metadata": {},
     "output_type": "execute_result"
    }
   ],
   "source": [
    "np.mean(np.power(err['opt'],2))"
   ]
  },
  {
   "cell_type": "code",
   "execution_count": null,
   "metadata": {
    "collapsed": true
   },
   "outputs": [],
   "source": []
  },
  {
   "cell_type": "markdown",
   "metadata": {},
   "source": [
    "## Pymc Modelling"
   ]
  },
  {
   "cell_type": "code",
   "execution_count": 7,
   "metadata": {
    "collapsed": true
   },
   "outputs": [],
   "source": [
    "import pymc3 as pm\n",
    "import theano.tensor as tt"
   ]
  },
  {
   "cell_type": "code",
   "execution_count": 13,
   "metadata": {
    "collapsed": true
   },
   "outputs": [],
   "source": [
    "mapping = {v:k for k,v in dict(enumerate(['A', 'B', 'C', 'D', 'E'])).items()}\n",
    "with pm.Model() as rating_model:\n",
    "    \n",
    "    beta = pm.Uniform('beta', 30., 50.)\n",
    "    skills = pm.Normal('rating', 1000., 150., shape=n_teams)\n",
    "    performance = pm.Normal('performance', skills, beta, shape=n_teams)    \n",
    "    \n",
    "    diff = performance[obs['Team 1'].map(mapping).values] - performance[obs['Team 2'].map(mapping).values]\n",
    "    p = tt.nnet.sigmoid(0.005*diff)\n",
    "    \n",
    "    err = pm.DensityDist('observed', lambda x: tt.sum(x*tt.log(p)+(1.-x)*tt.log(1-p)), observed=(obs['Team 1'] == obs['winner']).values)\n",
    "    #err = pm.Bernoulli('observed', p=p, observed=(obs['Team 1'] == obs['winner']).values)"
   ]
  },
  {
   "cell_type": "code",
   "execution_count": null,
   "metadata": {
    "collapsed": true
   },
   "outputs": [],
   "source": [
    "with rating_model:\n",
    "    #start = pm.find_MAP()\n",
    "    trace = pm.sample(10000, tune=0) #step=pm.Metropolis(), start=start, "
   ]
  },
  {
   "cell_type": "code",
   "execution_count": null,
   "metadata": {
    "collapsed": true,
    "scrolled": true
   },
   "outputs": [],
   "source": [
    "pm.traceplot(trace)\n",
    "pm.plot_posterior(trace)"
   ]
  },
  {
   "cell_type": "code",
   "execution_count": 538,
   "metadata": {
    "scrolled": true
   },
   "outputs": [
    {
     "name": "stdout",
     "output_type": "stream",
     "text": [
      "A vs B : true - 66.87 pct   |   infer - 67.31 pct\n",
      "A vs C : true - 99.62 pct   |   infer - 92.87 pct\n",
      "A vs D : true - 98.36 pct   |   infer - 89.55 pct\n",
      "A vs E : true - 83.54 pct   |   infer - 91.68 pct\n",
      "B vs A : true - 33.13 pct   |   infer - 32.69 pct\n",
      "B vs C : true - 90.48 pct   |   infer - 86.32 pct\n",
      "B vs D : true - 85.27 pct   |   infer - 80.59 pct\n",
      "B vs E : true - 77.02 pct   |   infer - 84.26 pct\n",
      "C vs A : true - 0.38 pct   |   infer - 7.13 pct\n",
      "C vs B : true - 9.52 pct   |   infer - 13.68 pct\n",
      "C vs D : true - 38.02 pct   |   infer - 39.81 pct\n",
      "C vs E : true - 57.74 pct   |   infer - 46.16 pct\n",
      "D vs A : true - 1.64 pct   |   infer - 10.45 pct\n",
      "D vs B : true - 14.73 pct   |   infer - 19.41 pct\n",
      "D vs C : true - 61.98 pct   |   infer - 60.19 pct\n",
      "D vs E : true - 61.42 pct   |   infer - 56.39 pct\n",
      "E vs A : true - 16.46 pct   |   infer - 8.32 pct\n",
      "E vs B : true - 22.98 pct   |   infer - 15.74 pct\n",
      "E vs C : true - 42.26 pct   |   infer - 53.84 pct\n",
      "E vs D : true - 38.58 pct   |   infer - 43.61 pct\n"
     ]
    }
   ],
   "source": [
    "infer_mean = trace['rating'].mean(axis=0)\n",
    "infer_std = trace['rating'].std(axis=0)\n",
    "for pair, k in obs.groupby(['Team 1', 'Team 2']).count().itertuples():\n",
    "    param_one = true_team_skill[pair[0]]\n",
    "    param_two = true_team_skill[pair[1]]\n",
    "    \n",
    "    p_one_true = 1.-norm.cdf(0, loc=param_one[0]-param_two[0], scale=np.sqrt(param_one[1]**2 + param_two[1]**2 + beta**2))\n",
    "    p_one_infer = (1./(1+np.exp(-0.005*(trace['rating'][:,mapping[pair[0]]] - trace['rating'][:,mapping[pair[1]]])))).mean()\n",
    "    #p_one_infer = 1.-norm.cdf(0, loc=infer_one[0]-infer_two[0], scale=np.sqrt(infer_one[1]**2 + infer_two[1]**2 + 50.**2))\n",
    "    print('%s vs %s : true - %.2f pct   |   infer - %.2f pct' % (pair[0], pair[1], p_one_true*100., p_one_infer*100.))"
   ]
  }
 ],
 "metadata": {
  "kernelspec": {
   "display_name": "Python 3",
   "language": "python",
   "name": "python3"
  },
  "language_info": {
   "codemirror_mode": {
    "name": "ipython",
    "version": 3
   },
   "file_extension": ".py",
   "mimetype": "text/x-python",
   "name": "python",
   "nbconvert_exporter": "python",
   "pygments_lexer": "ipython3",
   "version": "3.6.2"
  }
 },
 "nbformat": 4,
 "nbformat_minor": 2
}
