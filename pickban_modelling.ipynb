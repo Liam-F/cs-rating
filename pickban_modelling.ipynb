{
 "cells": [
  {
   "cell_type": "markdown",
   "metadata": {},
   "source": [
    "# Map play prediction\n"
   ]
  },
  {
   "cell_type": "code",
   "execution_count": 2,
   "metadata": {
    "collapsed": true
   },
   "outputs": [],
   "source": [
    "import pandas as pd\n",
    "import numpy as np\n",
    "import pymc3 as pm\n",
    "import seaborn as sns\n",
    "import datetime as dt\n",
    "import matplotlib.pyplot as plt\n",
    "plt.style.use('fivethirtyeight')\n",
    "%matplotlib inline"
   ]
  },
  {
   "cell_type": "code",
   "execution_count": 3,
   "metadata": {
    "collapsed": true
   },
   "outputs": [],
   "source": [
    "h_bp = pd.read_csv('hltv_csv/picksAndBans.csv').set_index('Match ID')\n",
    "h_matches = pd.read_csv('hltv_csv/matchResults.csv').set_index('Match ID')[['Date', 'Team 1 ID', 'Team 2 ID', 'Map']]\n",
    "h_matches.columns = ['Date', 'Team 1 ID', 'Team 2 ID', 'Map Played']\n",
    "h_bp = h_bp.join(h_matches, how='left')\n",
    "h_bp['Date'] = pd.to_datetime(h_bp['Date'])\n",
    "h_matches['Date'] = pd.to_datetime(h_matches['Date'])\n",
    "h_teams = pd.read_csv('hltv_csv/teams.csv').set_index('ID')"
   ]
  },
  {
   "cell_type": "markdown",
   "metadata": {},
   "source": [
    "## Training/Validation Set"
   ]
  },
  {
   "cell_type": "code",
   "execution_count": 4,
   "metadata": {},
   "outputs": [],
   "source": [
    "train = h_bp[(h_bp.Date < dt.datetime(2017,6,1)) & (h_bp.Date >= dt.datetime(2017,1,1))]\n",
    "train_matches = h_matches[(h_matches.Date < dt.datetime(2017,6,1)) & (h_matches.Date >= dt.datetime(2017,1,1))]\n",
    "valid = h_bp[h_bp.Date >= dt.datetime(2017,6,1)]\n",
    "valid_matches = h_matches[(h_matches.Date >= dt.datetime(2017,6,1))]"
   ]
  },
  {
   "cell_type": "markdown",
   "metadata": {},
   "source": [
    "## Models\n",
    "\n",
    "1. Avg Most Picked\n",
    "2. Avg Least Banned\n",
    "3. Avg Most picked+Most banned^-1\n",
    "4. Avg Most Played\n",
    "5. Logistic Regression"
   ]
  },
  {
   "cell_type": "code",
   "execution_count": 5,
   "metadata": {
    "collapsed": true
   },
   "outputs": [],
   "source": [
    "filt = np.load('saved_model/eslpl/filter_teams.npy')\n",
    "team_ids = np.load('saved_model/eslpl/teams.npy')\n",
    "ht_filt = h_teams.loc[team_ids]\n",
    "ht_filt = ht_filt[ht_filt.Name.isin(filt)]"
   ]
  },
  {
   "cell_type": "code",
   "execution_count": 59,
   "metadata": {
    "collapsed": true
   },
   "outputs": [],
   "source": [
    "def model_mp(train, t1, t2):\n",
    "    tab = train[train['Team'].isin([t1, t2])].groupby(['Team', ' Pick Type', 'Map'])['Date'].count().unstack([' Pick Type', 'Team']).fillna(0)\n",
    "    tab = (tab['picked']/tab['picked'].sum(axis=0)).mean(axis=1)# get average\n",
    "    return (tab/tab.sum(axis=0)) # normalize\n",
    "\n",
    "def model_mb(train, t1, t2):\n",
    "    tab = train[train['Team'].isin([t1, t2])].groupby(['Team', ' Pick Type', 'Map'])['Date'].count().unstack([' Pick Type', 'Team']).fillna(0)\n",
    "    tab = (tab['removed']/tab['removed'].sum(axis=0)).mean(axis=1)# get average\n",
    "    return (tab/tab.sum(axis=0)) # normalize\n",
    "\n",
    "def model_mix(train, t1, t2):\n",
    "    tab = train[train['Team'].isin([t1, t2])].groupby(['Team', ' Pick Type', 'Map'])['Date'].count().unstack([' Pick Type', 'Team']).fillna(0)\n",
    "    tab = (tab/tab.sum(axis=0)).mean(level=0,axis=1)\n",
    "    tab['removed'] = (tab['removed']**-1)/(tab['removed']**-1).sum(axis=0)\n",
    "    return tab.mean(axis=1)\n",
    "\n",
    "def model_played(train, t1, t2):\n",
    "    a = train[train['Team 1 ID'].isin([t1,t2])].groupby(['Team 1 ID', 'Map Played'])['Date'].count()\n",
    "    b = train[train['Team 2 ID'].isin([t1,t2])].groupby(['Team 2 ID', 'Map Played'])['Date'].count()\n",
    "    c = pd.DataFrame([a,b], index=['a','b']).T.fillna(0)\n",
    "    c = (c['a']+c['b']).unstack(level=0).fillna(0)\n",
    "    return (c/c.sum()).mean(axis=1)"
   ]
  },
  {
   "cell_type": "code",
   "execution_count": 62,
   "metadata": {},
   "outputs": [
    {
     "name": "stdout",
     "output_type": "stream",
     "text": [
      "OpTic vs Misfits\n",
      "                 pred    y\n",
      "Cobblestone  0.219058  0.0\n",
      "Train        0.199367  0.2\n",
      "Mirage       0.191062  0.3\n",
      "Cache        0.126285  0.3\n",
      "Inferno      0.096957  0.1\n",
      "Nuke         0.086653  0.0\n",
      "Overpass     0.064444  0.1\n",
      "Dust2        0.016173  0.0\n",
      "OpTic vs NRG\n",
      "                 pred         y\n",
      "Cobblestone  0.231364  0.090909\n",
      "Train        0.189721  0.090909\n",
      "Inferno      0.165539  0.181818\n",
      "Mirage       0.149638  0.181818\n",
      "Cache        0.103207  0.090909\n",
      "Overpass     0.090204  0.181818\n",
      "Nuke         0.063958  0.181818\n",
      "Dust2        0.006369  0.000000\n",
      "SK vs Cloud9\n",
      "                 pred      y\n",
      "Cache        0.200027  0.000\n",
      "Cobblestone  0.184834  0.375\n",
      "Mirage       0.171990  0.125\n",
      "Train        0.166364  0.375\n",
      "Inferno      0.157195  0.125\n",
      "Overpass     0.069940  0.000\n",
      "Nuke         0.037603  0.000\n",
      "Default      0.006024  0.000\n",
      "Dust2        0.006024  0.000\n",
      "SK vs Liquid\n",
      "                 pred    y\n",
      "Cobblestone  0.240216  0.3\n",
      "Mirage       0.160252  0.1\n",
      "Cache        0.159907  0.0\n",
      "Inferno      0.145538  0.3\n",
      "Train        0.119715  0.1\n",
      "Overpass     0.092433  0.2\n",
      "Nuke         0.063522  0.0\n",
      "Dust2        0.012394  0.0\n",
      "Default      0.006024  0.0\n",
      "Cloud9 vs Luminosity\n",
      "                 pred      y\n",
      "Cobblestone  0.194543  0.000\n",
      "Train        0.176286  0.250\n",
      "Cache        0.156511  0.375\n",
      "Mirage       0.149205  0.250\n",
      "Inferno      0.137847  0.125\n",
      "Overpass     0.103959  0.000\n",
      "Nuke         0.069885  0.000\n",
      "Dust2        0.011765  0.000\n",
      "Cloud9 vs Immortals\n",
      "                 pred         y\n",
      "Cobblestone  0.268216  0.000000\n",
      "Inferno      0.185515  0.222222\n",
      "Cache        0.164653  0.333333\n",
      "Mirage       0.139592  0.111111\n",
      "Train        0.127684  0.333333\n",
      "Overpass     0.073650  0.000000\n",
      "Nuke         0.034591  0.000000\n",
      "Dust2        0.006098  0.000000\n",
      "Liquid vs Luminosity\n",
      "                 pred         y\n",
      "Cobblestone  0.249925  0.272727\n",
      "Mirage       0.137467  0.181818\n",
      "Train        0.129637  0.181818\n",
      "Overpass     0.126452  0.000000\n",
      "Inferno      0.126190  0.363636\n",
      "Cache        0.116392  0.000000\n",
      "Nuke         0.095804  0.000000\n",
      "Dust2        0.018134  0.000000\n",
      "Liquid vs Astralis\n",
      "                 pred         y\n",
      "Inferno      0.175897  0.333333\n",
      "Nuke         0.169781  0.000000\n",
      "Cobblestone  0.166111  0.000000\n",
      "Train        0.153984  0.111111\n",
      "Mirage       0.123170  0.222222\n",
      "Cache        0.103556  0.111111\n",
      "Overpass     0.094508  0.222222\n",
      "Dust2        0.012992  0.000000\n",
      "Luminosity vs Misfits\n",
      "                 pred         y\n",
      "Cobblestone  0.195098  0.000000\n",
      "Mirage       0.194771  0.222222\n",
      "Train        0.163399  0.222222\n",
      "Cache        0.137582  0.444444\n",
      "Overpass     0.117647  0.000000\n",
      "Inferno      0.108497  0.000000\n",
      "Nuke         0.061438  0.111111\n",
      "Dust2        0.021569  0.000000\n",
      "Luminosity vs Ghost\n",
      "                 pred      y\n",
      "Cobblestone  0.214246  0.125\n",
      "Mirage       0.203401  0.250\n",
      "Train        0.197610  0.375\n",
      "Inferno      0.146691  0.000\n",
      "Overpass     0.103860  0.000\n",
      "Cache        0.087132  0.125\n",
      "Nuke         0.035294  0.125\n",
      "Dust2        0.011765  0.000\n",
      "Luminosity vs NRG\n",
      "                 pred         y\n",
      "Cobblestone  0.207404  0.272727\n",
      "Inferno      0.177079  0.090909\n",
      "Train        0.153753  0.181818\n",
      "Mirage       0.153347  0.181818\n",
      "Overpass     0.143408  0.000000\n",
      "Cache        0.114503  0.272727\n",
      "Nuke         0.038742  0.000000\n",
      "Dust2        0.011765  0.000000\n",
      "Renegades vs CLG\n",
      "                 pred      y\n",
      "Cobblestone  0.237827  0.375\n",
      "Mirage       0.229003  0.125\n",
      "Cache        0.173979  0.125\n",
      "Train        0.168096  0.250\n",
      "Overpass     0.082598  0.000\n",
      "Inferno      0.047059  0.125\n",
      "Nuke         0.041667  0.000\n",
      "Dust2        0.019771  0.000\n",
      "Renegades vs NRG\n",
      "                 pred         y\n",
      "Cobblestone  0.242289  0.333333\n",
      "Mirage       0.214703  0.111111\n",
      "Train        0.145378  0.222222\n",
      "Cache        0.138482  0.222222\n",
      "Inferno      0.124138  0.000000\n",
      "Overpass     0.076006  0.111111\n",
      "Nuke         0.045115  0.000000\n",
      "Dust2        0.013889  0.000000\n",
      "Immortals vs CLG\n",
      "                 pred         y\n",
      "Cobblestone  0.276614  0.111111\n",
      "Cache        0.158142  0.111111\n",
      "Mirage       0.158034  0.000000\n",
      "Inferno      0.147669  0.222222\n",
      "Train        0.127869  0.444444\n",
      "Overpass     0.119692  0.111111\n",
      "Dust2        0.011980  0.000000\n",
      "Immortals vs fnatic\n",
      "                 pred      y\n",
      "Cobblestone  0.236091  0.125\n",
      "Inferno      0.201917  0.250\n",
      "Train        0.157281  0.250\n",
      "Mirage       0.139407  0.125\n",
      "Cache        0.132652  0.125\n",
      "Overpass     0.103678  0.125\n",
      "Dust2        0.015901  0.000\n",
      "Nuke         0.013072  0.000\n",
      "Splyce vs compLexity\n",
      "                 pred         y\n",
      "Cache        0.197593  0.000000\n",
      "Cobblestone  0.194557  0.222222\n",
      "Train        0.190396  0.333333\n",
      "Mirage       0.152946  0.000000\n",
      "Overpass     0.104139  0.111111\n",
      "Inferno      0.086820  0.333333\n",
      "Nuke         0.056118  0.000000\n",
      "Dust2        0.017431  0.000000\n",
      "mousesports vs fnatic\n",
      "                 pred         y\n",
      "Cobblestone  0.186453  0.222222\n",
      "Mirage       0.179994  0.222222\n",
      "Train        0.148897  0.444444\n",
      "Cache        0.135034  0.111111\n",
      "Inferno      0.128651  0.000000\n",
      "Nuke         0.110728  0.000000\n",
      "Overpass     0.084814  0.000000\n",
      "Dust2        0.025429  0.000000\n",
      "EnVyUs vs Heroic\n",
      "                 pred         y\n",
      "Train        0.216766  0.166667\n",
      "Nuke         0.210014  0.083333\n",
      "Cobblestone  0.131318  0.083333\n",
      "Mirage       0.126141  0.000000\n",
      "Inferno      0.120871  0.416667\n",
      "Overpass     0.076642  0.250000\n",
      "Cache        0.075525  0.000000\n",
      "Dust2        0.042724  0.000000\n",
      "EnVyUs vs Heroic\n",
      "                 pred         y\n",
      "Train        0.216766  0.166667\n",
      "Nuke         0.210014  0.083333\n",
      "Cobblestone  0.131318  0.083333\n",
      "Mirage       0.126141  0.000000\n",
      "Inferno      0.120871  0.416667\n",
      "Overpass     0.076642  0.250000\n",
      "Cache        0.075525  0.000000\n",
      "Dust2        0.042724  0.000000\n"
     ]
    }
   ],
   "source": [
    "err = []\n",
    "for i in range(len(filt)):\n",
    "    for j in range(i+1,len(filt)):\n",
    "        t1 = ht_filt[ht_filt.Name == filt[i]].index[0]; t2 = ht_filt[ht_filt.Name == filt[j]].index[0]\n",
    "        hup_m = valid_matches[(((valid_matches['Team 1 ID'] == t1)&(valid_matches['Team 2 ID'] == t2)) | \n",
    "                  ((valid_matches['Team 2 ID'] == t1)&(valid_matches['Team 1 ID'] == t2)))]\n",
    "        if(len(hup_m) >= 8):\n",
    "            predicted = model_played(train_matches, t1, t2)\n",
    "            actual = hup_m.groupby('Map Played')['Date'].count()/hup_m.groupby('Map Played')['Date'].count().sum()\n",
    "            df = pd.DataFrame([predicted, actual], index=['pred', 'y']).fillna(0).T.sort_values('pred', ascending=False)\n",
    "            print('%s vs %s' % (filt[i], filt[j]))\n",
    "            print(df)\n",
    "            err.append(((df['pred']-df['y'])**2).sum())"
   ]
  },
  {
   "cell_type": "code",
   "execution_count": 65,
   "metadata": {},
   "outputs": [
    {
     "name": "stdout",
     "output_type": "stream",
     "text": [
      "0.106895165315\n"
     ]
    }
   ],
   "source": [
    "print(np.mean(err))"
   ]
  },
  {
   "cell_type": "code",
   "execution_count": 118,
   "metadata": {},
   "outputs": [],
   "source": [
    "err = []\n",
    "for i,r in valid_matches[valid_matches['Team 1 ID'].isin(ht_filt.index) & valid_matches['Team 2 ID'].isin(ht_filt.index)].iterrows():\n",
    "    t1 = r['Team 1 ID']; t2 = r['Team 2 ID']\n",
    "    t1_name = ht_filt.loc[t1].Name; t2_name = ht_filt.loc[t2].Name;\n",
    "    predicted = model_played(train_matches, t1, t2).sort_values().tail(1).index[0]\n",
    "    #predicted = model_mp(train, t1_name, t2_name).sort_values().tail(1).index[0]\n",
    "    err.append([predicted, r['Map Played']])\n",
    "err = np.array(err)"
   ]
  },
  {
   "cell_type": "code",
   "execution_count": 119,
   "metadata": {},
   "outputs": [
    {
     "data": {
      "text/plain": [
       "0.16307692307692306"
      ]
     },
     "execution_count": 119,
     "metadata": {},
     "output_type": "execute_result"
    }
   ],
   "source": [
    "from sklearn.metrics import accuracy_score\n",
    "accuracy_score(err[:,1], err[:,0])"
   ]
  },
  {
   "cell_type": "code",
   "execution_count": 117,
   "metadata": {},
   "outputs": [
    {
     "data": {
      "text/plain": [
       "0.21230769230769231"
      ]
     },
     "execution_count": 117,
     "metadata": {},
     "output_type": "execute_result"
    }
   ],
   "source": [
    "accuracy_score(err[:,1], err[:,0])"
   ]
  },
  {
   "cell_type": "code",
   "execution_count": 111,
   "metadata": {},
   "outputs": [
    {
     "data": {
      "text/plain": [
       "0.13230769230769232"
      ]
     },
     "execution_count": 111,
     "metadata": {},
     "output_type": "execute_result"
    }
   ],
   "source": [
    "accuracy_score(err[:,1], err[:,0])"
   ]
  },
  {
   "cell_type": "code",
   "execution_count": 115,
   "metadata": {},
   "outputs": [
    {
     "data": {
      "text/plain": [
       "0.067692307692307691"
      ]
     },
     "execution_count": 115,
     "metadata": {},
     "output_type": "execute_result"
    }
   ],
   "source": [
    "accuracy_score(err[:,1], err[:,0])"
   ]
  },
  {
   "cell_type": "code",
   "execution_count": null,
   "metadata": {
    "collapsed": true
   },
   "outputs": [],
   "source": []
  }
 ],
 "metadata": {
  "kernelspec": {
   "display_name": "Python 3",
   "language": "python",
   "name": "python3"
  },
  "language_info": {
   "codemirror_mode": {
    "name": "ipython",
    "version": 3
   },
   "file_extension": ".py",
   "mimetype": "text/x-python",
   "name": "python",
   "nbconvert_exporter": "python",
   "pygments_lexer": "ipython3",
   "version": "3.6.2"
  }
 },
 "nbformat": 4,
 "nbformat_minor": 2
}
