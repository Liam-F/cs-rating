{
 "cells": [
  {
   "cell_type": "markdown",
   "metadata": {},
   "source": [
    "## Win/Loss Betting Model\n"
   ]
  },
  {
   "cell_type": "code",
   "execution_count": null,
   "metadata": {
    "collapsed": true
   },
   "outputs": [],
   "source": [
    "import pandas as pd\n",
    "import numpy as np\n",
    "import datetime as dt\n",
    "from scipy.stats import norm, bernoulli\n",
    "%matplotlib inline\n",
    "import matplotlib.pyplot as plt\n",
    "import seaborn as sns\n",
    "from spcl_case import *\n",
    "plt.style.use('fivethirtyeight')"
   ]
  },
  {
   "cell_type": "markdown",
   "metadata": {},
   "source": [
    "Obtain results of teams within the past year"
   ]
  },
  {
   "cell_type": "code",
   "execution_count": null,
   "metadata": {},
   "outputs": [],
   "source": [
    "h_matches = pd.read_csv('hltv_csv/matchResults.csv')\n",
    "h_matches['Date'] = pd.to_datetime(h_matches['Date'])\n",
    "h_teams = pd.read_csv('hltv_csv/teams.csv')\n",
    "h_teams = fix_teams(h_teams.set_index('ID'))"
   ]
  },
  {
   "cell_type": "code",
   "execution_count": null,
   "metadata": {
    "collapsed": true
   },
   "outputs": [],
   "source": [
    "MIN_DATE = dt.datetime(2017,1,1)\n",
    "EVENT_SET = 'mdlau'\n",
    "FILTER_TEAMS = {'eslpl': ['OpTic', 'SK', 'Cloud9', 'Liquid', 'Luminosity', 'Misfits', 'Renegades', 'Immortals', \n",
    "                    'Splyce', 'compLexity', 'Rogue', 'Ghost', 'CLG', 'NRG',\n",
    "                    'BIG', 'LDLC', 'mousesports', 'EnVyUs', 'NiP', 'Virtus.pro', \n",
    "                    'Astralis', 'G2', 'GODSENT', 'Heroic', 'fnatic', 'NiP', 'G2', 'Heroic'],\n",
    "                'mdleu': ['Virtus.pro', 'FlipSid3', 'eXtatus', 'AGO', 'Fragsters', 'Gambit', 'PRIDE', '1337HUANIA', \n",
    "                    'VITALIS', 'Epsilon', 'CHAOS', 'Crowns', 'MK', 'Japaleno', 'Not Academy', 'aAa', 'Space Soldiers',\n",
    "                    'Singularity', 'Nexus', 'Invictus Aquilas', 'Spirit', 'Kinguin', 'Seed', 'Endpoint', 'iGame.com', 'TEAM5',\n",
    "                    'ALTERNATE aTTaX'],\n",
    "                'mdlna': ['Gale Force', 'FRENCH CANADIANS', 'Mythic', 'GX', 'Beacon', 'Torqued', 'Rise Nation', 'Denial', 'subtLe', \n",
    "                   'SoaR', 'Muffin Lightning', 'Iceberg', 'ex-Nitrious', 'Adaptation', 'Morior Invictus', 'Naventic', 'CheckSix', 'Good People'\n",
    "                   , 'LFAO', 'CLG Academy', 'Ambition', 'Mostly Harmless', 'Gorilla Core', 'ex-Nitrious', 'ANTI ECO'],\n",
    "                'mdlau': ['Grayhound', 'Tainted Minds', 'Kings', 'Chiefs', 'Dark Sided', 'seadoggs', 'Athletico', 'Legacy',\n",
    "                    'SIN', 'Noxide', 'Control', 'SYF', 'Corvidae', 'Funkd', 'Masterminds', 'Conspiracy', 'AVANT']\n",
    "               }\n",
    "\n",
    "h_matches = h_matches[h_matches['Date'] >= MIN_DATE]\n",
    "h_filter_teams = h_teams[h_teams['Name'].isin(FILTER_TEAMS[EVENT_SET])]\n",
    "h_matches = h_matches[h_matches['Team 1 ID'].isin(h_filter_teams.index) | h_matches['Team 2 ID'].isin(h_filter_teams.index)]\n",
    "h_matches['winner'] = h_matches.apply(lambda x: x['Team 1 ID'] if x['Team 1 Score'] > x['Team 2 Score'] else x['Team 2 ID'], axis=1)\n",
    "h_matches['score_diff'] = h_matches['Team 1 Score'] - h_matches['Team 2 Score']"
   ]
  },
  {
   "cell_type": "code",
   "execution_count": null,
   "metadata": {},
   "outputs": [],
   "source": [
    "obs = h_matches[['Map', 'Team 1 ID', 'Team 2 ID', 'score_diff', 'winner']]\n",
    "obs = obs[obs.Map != 'Default']\n",
    "obs.head()"
   ]
  },
  {
   "cell_type": "code",
   "execution_count": null,
   "metadata": {
    "scrolled": true
   },
   "outputs": [],
   "source": [
    "teams = np.sort(np.unique(np.concatenate([h_matches['Team 1 ID'], h_matches['Team 2 ID']])))\n",
    "maps = obs.Map.unique()\n",
    "tmap = {v:k for k,v in dict(enumerate(teams)).items()}\n",
    "mmap = {v:k for k,v in dict(enumerate(maps)).items()}\n",
    "n_teams = len(teams)\n",
    "n_maps = len(maps)\n",
    "print('Number of Teams: %i ' % n_teams)\n",
    "print('Number of Matches: %i ' % len(h_matches))\n",
    "print('Number of Maps: %i '% n_maps)"
   ]
  },
  {
   "cell_type": "markdown",
   "metadata": {},
   "source": [
    "## Pymc Model\n",
    "\n",
    "Determining Binary Win Loss: $wl_{m,i,j}$\n",
    "$$\n",
    "\\omega, \\tau, \\sim HC(0.5) \\\\\n",
    "R_{k} \\sim N(0, \\omega^2) \\\\\n",
    "\\tilde{\\theta}_{m,k} \\sim N(0,1) \\\\\n",
    "R_{m,k} = R_{k} + \\tau\\tilde{\\theta} \\\\\n",
    "wl_{m,i,j} \\sim B(p = \\text{Sig}(R_{m,i}-R_{m,j})) \\\\\n",
    "$$\n",
    "\n",
    "and score difference: $sc_{m,i,j}$\n",
    "\n",
    "$$\n",
    "\\alpha \\sim Gamma(10,5) \\\\\n",
    "\\kappa_{m,i,j} = 32\\text{Sig}(\\alpha(R_{m,i}-R_{m,j}))-16 \\\\\n",
    "\\sigma_{m} \\sim HC(0.5) \\\\\n",
    "sc_{m,i,j} \\sim N(\\kappa, \\sigma_{m}^2)\n",
    "$$"
   ]
  },
  {
   "cell_type": "code",
   "execution_count": null,
   "metadata": {
    "collapsed": true
   },
   "outputs": [],
   "source": [
    "import pymc3 as pm\n",
    "import theano.tensor as tt"
   ]
  },
  {
   "cell_type": "code",
   "execution_count": null,
   "metadata": {
    "collapsed": true
   },
   "outputs": [],
   "source": [
    "with pm.Model() as rating_model:\n",
    "    \n",
    "    omega = pm.HalfCauchy('omega', 0.5)\n",
    "    tau = pm.HalfCauchy('tau', 0.5)\n",
    "    rating = pm.Normal('rating', 0, omega, shape=n_teams)\n",
    "    theta_tilde = pm.Normal('rate_t', mu=0, sd=1, shape=(n_maps, n_teams))\n",
    "    rating_map = pm.Deterministic('rating | map', rating + tau * theta_tilde)\n",
    "    #rating_map = pm.Normal('rating | map', rating, tau, shape=(n_maps, n_teams))\n",
    "    \n",
    "    diff = rating_map[obs['Map'].map(mmap).values,obs['Team 1 ID'].map(tmap).values] - rating_map[obs['Map'].map(mmap).values,obs['Team 2 ID'].map(tmap).values]\n",
    "    p = tt.nnet.sigmoid(diff)\n",
    "    alpha = pm.Normal('alpha', 0.25, 0.1)\n",
    "    kappa = 32./(1+tt.exp(-1.*alpha*diff))-16.\n",
    "    sigma = pm.HalfCauchy('sigma', 0.5, shape=n_maps)\n",
    "    \n",
    "    sc = pm.Normal('observed score diff', kappa, sigma[obs['Map'].map(mmap).values], observed=obs['score_diff'])\n",
    "    wl = pm.Bernoulli('observed wl', p=p, observed=(obs['Team 1 ID'] == obs['winner']).values)"
   ]
  },
  {
   "cell_type": "code",
   "execution_count": null,
   "metadata": {},
   "outputs": [],
   "source": [
    "with rating_model:\n",
    "    #start = approx.sample(1)[0]\n",
    "    #trace = pm.sample(5000, init='advi', nuts_kwargs={'target_accept': 0.99}, tune=0)\n",
    "    trace = pm.sample(5000, n_init=20000, init='jitter+adapt_diag', nuts_kwargs={'target_accept': 0.90}) # tune=1000, nuts_kwargs={'target_accept': 0.95}"
   ]
  },
  {
   "cell_type": "code",
   "execution_count": null,
   "metadata": {},
   "outputs": [],
   "source": [
    "team_names = h_teams.loc[teams]\n",
    "filt = team_names[team_names.Name.isin(FILTER_TEAMS[EVENT_SET])]\n",
    "sns.set_palette('Paired', n_teams)\n",
    "\n",
    "f, ax = plt.subplots(figsize=(16,10))\n",
    "ax.set_ylim(0,0.75)\n",
    "[sns.kdeplot(trace['rating'][:,tmap[i]], shade=True, alpha=0.55, legend=True, ax=ax, label=v['Name']) for i,v in filt.iterrows()]\n",
    "ax.legend(loc='center left', bbox_to_anchor=(1, 0.5))"
   ]
  },
  {
   "cell_type": "markdown",
   "metadata": {},
   "source": [
    "# Save Model"
   ]
  },
  {
   "cell_type": "code",
   "execution_count": null,
   "metadata": {},
   "outputs": [],
   "source": [
    "pm.backends.text.dump('saved_model/'+EVENT_SET+'/trace', trace)\n",
    "np.save('saved_model/'+EVENT_SET+'/teams.npy', teams)\n",
    "np.save('saved_model/'+EVENT_SET+'/maps.npy', maps)\n",
    "np.save('saved_model/'+EVENT_SET+'/filter_teams.npy', FILTER_TEAMS[EVENT_SET])"
   ]
  },
  {
   "cell_type": "markdown",
   "metadata": {},
   "source": [
    "## Diagnostics"
   ]
  },
  {
   "cell_type": "code",
   "execution_count": null,
   "metadata": {
    "collapsed": true
   },
   "outputs": [],
   "source": [
    "with rating_model:\n",
    "    approx = pm.fit(15000)\n",
    "    ap_trace = approx.sample(5000)"
   ]
  },
  {
   "cell_type": "code",
   "execution_count": null,
   "metadata": {
    "collapsed": true,
    "scrolled": true
   },
   "outputs": [],
   "source": [
    "print('Gelman Rubin: %s' % pm.diagnostics.gelman_rubin(trace))\n",
    "print('Effective N: %s' % pm.diagnostics.effective_n(trace))\n",
    "print('Accept Prob: %.4f' % trace.get_sampler_stats('mean_tree_accept').mean())\n",
    "print('Percentage of Divergent %.5f' % (trace['diverging'].nonzero()[0].size/float(len(trace))))"
   ]
  },
  {
   "cell_type": "code",
   "execution_count": null,
   "metadata": {
    "scrolled": false
   },
   "outputs": [],
   "source": [
    "pm.traceplot(trace, varnames=['alpha', 'sigma'])"
   ]
  },
  {
   "cell_type": "markdown",
   "metadata": {},
   "source": [
    "## Moar Plots"
   ]
  },
  {
   "cell_type": "code",
   "execution_count": null,
   "metadata": {},
   "outputs": [],
   "source": [
    "sns.set_palette('Paired', n_teams)\n",
    "\n",
    "f, ax = plt.subplots(figsize=(16,10))\n",
    "ax.set_ylim(0,2.0)\n",
    "[sns.kdeplot(trace['sigma'][:,i], shade=True, alpha=0.55, legend=True, ax=ax, label=m) for i,m in enumerate(maps)]\n",
    "ax.legend(loc='center left', bbox_to_anchor=(1, 0.5))"
   ]
  },
  {
   "cell_type": "code",
   "execution_count": null,
   "metadata": {
    "scrolled": false
   },
   "outputs": [],
   "source": [
    "f, axes = plt.subplots(n_maps,1,figsize=(12,34), sharex=True)\n",
    "for m, ax in enumerate(axes):\n",
    "    ax.set_title(dict(enumerate(maps))[m])\n",
    "    ax.set_ylim(0,2.0)\n",
    "    [sns.kdeplot(trace['rating | map'][:,m,tmap[i]], shade=True, alpha=0.55, legend=False ,\n",
    "                 ax=ax, label=v['Name']) for i,v in filt.iterrows()]\n",
    "ax.legend(loc='center left', bbox_to_anchor=(1, 0.5))"
   ]
  },
  {
   "cell_type": "code",
   "execution_count": null,
   "metadata": {},
   "outputs": [],
   "source": [
    "i = np.where(teams==7880)\n",
    "j = np.where(teams==7924)\n",
    "\n",
    "diff = (trace['rating'][:,j] - trace['rating'][:,i]).flatten()\n",
    "kappa = 32./(1+np.exp(-1.*trace['alpha']*diff))-16.\n",
    "fig, (ax1,ax2) = plt.subplots(1,2,figsize=(10,6))\n",
    "sns.kdeplot(kappa, ax=ax2)\n",
    "sns.kdeplot(diff, ax=ax1)"
   ]
  },
  {
   "cell_type": "markdown",
   "metadata": {},
   "source": [
    "## Non-MCMC Model"
   ]
  },
  {
   "cell_type": "code",
   "execution_count": null,
   "metadata": {
    "collapsed": true
   },
   "outputs": [],
   "source": [
    "def vec2dict(s, n_teams):\n",
    "    return {\n",
    "        'mu': np.array(s[:n_teams]),\n",
    "        'sigma': np.array(s[n_teams:n_teams*2]),\n",
    "        'beta': s[-1],\n",
    "    }\n",
    "\n",
    "def dict2vec(s):\n",
    "    return s['mu'] + s['sigma'] + [s['beta']]"
   ]
  },
  {
   "cell_type": "code",
   "execution_count": null,
   "metadata": {
    "collapsed": true
   },
   "outputs": [],
   "source": [
    "skills_0 = dict2vec({\n",
    "    'mu': [1000]*n_teams,\n",
    "    'sigma': [300]*n_teams,\n",
    "    'beta': 50\n",
    "})"
   ]
  },
  {
   "cell_type": "code",
   "execution_count": null,
   "metadata": {
    "collapsed": true
   },
   "outputs": [],
   "source": [
    "from scipy.optimize import minimize\n",
    "\n",
    "\n",
    "def loglike(y,p):\n",
    "    return -1.*(np.sum(y*np.log(p)+(1-y)*np.log(1.-p)))\n",
    "\n",
    "def obj(skills):\n",
    "    s = vec2dict(skills, n_teams)\n",
    "    mean_diff = s['mu'][obs['Team 1 ID'].map(tmap).values] - s['mu'][obs['Team 2 ID'].map(tmap).values]\n",
    "    var_diff = s['sigma'][obs['Team 1 ID'].map(tmap).values]**2 + s['sigma'][obs['Team 2 ID'].map(tmap).values]**2 + skills[-1]**2\n",
    "    p = 1.-norm.cdf(0., loc=mean_diff, scale = np.sqrt(var_diff))\n",
    "    return loglike((obs['Team 1 ID'] == obs['winner']).values, p)\n"
   ]
  },
  {
   "cell_type": "code",
   "execution_count": null,
   "metadata": {
    "collapsed": true
   },
   "outputs": [],
   "source": [
    "obj(skills_0)"
   ]
  },
  {
   "cell_type": "code",
   "execution_count": null,
   "metadata": {
    "collapsed": true
   },
   "outputs": [],
   "source": [
    "opt_skill = g.x\n",
    "print(opt_skill)\n",
    "plots = norm.rvs(opt_skill[:5], opt_skill[5:-1], size=(2000,5))\n",
    "\n",
    "f, ax = plt.subplots(figsize=(12,8))\n",
    "[sns.kdeplot(plots[:,i], shade=True, alpha=0.55, legend=True, ax=ax, label=i) for i in range(5)]"
   ]
  }
 ],
 "metadata": {
  "kernelspec": {
   "display_name": "Python 3",
   "language": "python",
   "name": "python3"
  },
  "language_info": {
   "codemirror_mode": {
    "name": "ipython",
    "version": 3
   },
   "file_extension": ".py",
   "mimetype": "text/x-python",
   "name": "python",
   "nbconvert_exporter": "python",
   "pygments_lexer": "ipython3",
   "version": "3.6.2"
  }
 },
 "nbformat": 4,
 "nbformat_minor": 2
}
