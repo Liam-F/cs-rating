{
 "cells": [
  {
   "cell_type": "markdown",
   "metadata": {},
   "source": [
    "## Win/Loss Rating Model Prediction\n",
    "\n",
    "Load the model and make predictions"
   ]
  },
  {
   "cell_type": "code",
   "execution_count": 13,
   "metadata": {
    "collapsed": true
   },
   "outputs": [],
   "source": [
    "import pandas as pd\n",
    "import numpy as np\n",
    "import pymc3 as pm\n",
    "import seaborn as sns\n",
    "import datetime as dt\n",
    "import matplotlib.pyplot as plt\n",
    "from scipy.stats import norm\n",
    "from wl_model.spcl_case import *\n",
    "plt.style.use('fivethirtyeight')\n",
    "%matplotlib inline"
   ]
  },
  {
   "cell_type": "markdown",
   "metadata": {},
   "source": [
    "### Get a list of all CS Games"
   ]
  },
  {
   "cell_type": "code",
   "execution_count": 20,
   "metadata": {
    "scrolled": true
   },
   "outputs": [
    {
     "name": "stdout",
     "output_type": "stream",
     "text": [
      "Date: 2017-11-13  |  Event: Mother Russia  | (BO1) EnVyUs Academy vs. pro100  |  (62.7:37.3) | Total Coins: 9454\n",
      "Date: 2017-11-13  |  Event: Skinhub CS:GO Championship  | (BO3) AGO vs. Valiance  |  (78.9:21.1) | Total Coins: 8748\n",
      "Date: 2017-11-13  |  Event: FCDB Cup  | (BO3) Passions vs. eL'quvet  |  (78.2:21.8) | Total Coins: 7668\n",
      "Date: 2017-11-13  |  Event: Mother Russia  | (BO1) Epsilon vs. BX3  |  (74.3:25.7) | Total Coins: 6800\n",
      "Date: 2017-11-13  |  Event: CEVO Main Season 13  | (BO3) Spotnet vs. Bpro  |  (68.2:31.8) | Total Coins: 6600\n",
      "Date: 2017-11-13  |  Event: CEVO Main Season 13  | (BO3) Conquer vs. SuperJymy  |  (19.3:80.7) | Total Coins: 7000\n",
      "Date: 2017-11-13  |  Event: Vreecase Cup #2  | (BO1) SEAL vs. Singularity  |  (61.1:38.9) | Total Coins: 5400\n",
      "Date: 2017-11-13  |  Event: Legend Series  | (BO1) TTFU vs. Ha MaSSe  |  (60.0:40.0) | Total Coins: 5000\n",
      "Date: 2017-11-13  |  Event: CEVO Main Season 13  | (BO3) roughtimes vs. Orion  |  (40.0:60.0) | Total Coins: 5000\n",
      "Date: 2017-11-13  |  Event: Legend Series  | (BO1) Epsilon vs. squared  |  (70.0:30.0) | Total Coins: 5000\n",
      "Date: 2017-11-13  |  Event: FCDB Cup  | (BO3) Kinguin vs. Seed  |  (64.3:35.7) | Total Coins: 7623\n",
      "Date: 2017-11-14  |  Event: CEVO Main Season 13  | (BO3) Hyper vs. Blackwoodproductions  |  (60.0:40.0) | Total Coins: 5000\n",
      "Date: 2017-11-14  |  Event: CEVO Main Season 13  | (BO3) Good People vs. porkSports  |  (60.0:40.0) | Total Coins: 5000\n",
      "Date: 2017-11-14  |  Event: CEVO Main Season 13  | (BO3) SoaR vs. Beacon  |  (60.0:40.0) | Total Coins: 5000\n",
      "Date: 2017-11-14  |  Event: CEVO Main Season 13  | (BO3) SetToDestroyX vs. Naventic  |  (35.0:65.0) | Total Coins: 5000\n",
      "Date: 2017-11-14  |  Event: ESEA MDL Season 26  | (BO1) Legacy vs. SYF  |  (75.0:25.0) | Total Coins: 8000\n",
      "Date: 2017-11-14  |  Event: ESEA MDL Season 26  | (BO1) Athletico vs. Riotous  |  (47.0:53.0) | Total Coins: 5000\n",
      "Date: 2017-11-14  |  Event: ESEA MDL Season 26  | (BO1) SIN vs. Legacy  |  (39.2:60.8) | Total Coins: 5100\n",
      "Date: 2017-11-14  |  Event: ESEA MDL Season 26  | (BO1) Tainted Minds vs. Athletico  |  (60.4:39.6) | Total Coins: 5050\n",
      "Date: 2017-11-14  |  Event: MakeMy.Bet Cup #1  | (BO3) Nemiga vs. LDLC  |  (45.0:55.0) | Total Coins: 5000\n",
      "Date: 2017-11-14  |  Event: Skinhub CS:GO Championship  | (BO3) Fragsters vs. Tricked  |  (40.0:60.0) | Total Coins: 5000\n",
      "Date: 2017-11-14  |  Event: Stream.me Gauntlet  | (BO3) pro100 vs. Elements Pro Gaming  |  (60.0:40.0) | Total Coins: 5000\n",
      "Date: 2017-11-14  |  Event: Legend Series  | (BO1) Spirit Academy vs. Planetkey  |  (55.0:45.0) | Total Coins: 5000\n",
      "Date: 2017-11-14  |  Event: Legend Series  | (BO1) Valiance vs. ALTERNATE aTTaX  |  (40.0:60.0) | Total Coins: 5000\n",
      "Date: 2017-11-14  |  Event: Mother Russia  | (BO1) eXtatus vs. Gatekeepers  |  (65.0:35.0) | Total Coins: 5000\n",
      "Date: 2017-11-15  |  Event: ESEA MDL Season 26  | (BO1) Riotous vs. Grayhound  |  (35.0:65.0) | Total Coins: 5000\n",
      "Date: 2017-11-15  |  Event: ESEA MDL Season 26  | (BO1) Athletico vs. Kings  |  (40.0:60.0) | Total Coins: 5000\n",
      "Date: 2017-11-15  |  Event: X-BET.co Invitational  | (BO1) forZE vs. GoodJob  |  (60.0:40.0) | Total Coins: 5000\n",
      "Date: 2017-11-15  |  Event: X-BET.co Invitational  | (BO1) HAVU vs. EnVyUs Academy  |  (60.0:40.0) | Total Coins: 5000\n",
      "Date: 2017-11-15  |  Event: WCA 2017  | (BO3) BIG vs. Natus Vincere  |  (39.9:60.1) | Total Coins: 15050\n",
      "Date: 2017-11-15  |  Event: Mother Russia  | (BO1) GoodJob vs. Tricked  |  (40.0:60.0) | Total Coins: 5000\n",
      "Date: 2017-11-15  |  Event: CEVO Main Season 13  | (BO3) WASD vs. Movistar Riders  |  (60.0:40.0) | Total Coins: 5000\n",
      "Date: 2017-11-15  |  Event: Mother Russia  | (BO1) GameAgents vs. Nexus  |  (40.0:60.0) | Total Coins: 5000\n",
      "Date: 2017-11-15  |  Event: CEVO Main Season 13  | (BO3) Pompa Team vs. PURSI$EURA  |  (55.0:45.0) | Total Coins: 5000\n",
      "Date: 2017-11-15  |  Event: Skinhub CS:GO Championship  | (BO3) North Academy vs. Red Reserve  |  (60.0:40.0) | Total Coins: 5000\n",
      "Date: 2017-11-15  |  Event: CEVO Main Season 13  | (BO3) Nexus vs. ZetMac  |  (65.0:35.0) | Total Coins: 5000\n",
      "Date: 2017-11-16  |  Event: ESEA MDL Season 26  | (BO1) Grayhound vs. Dark Sided  |  (60.0:40.0) | Total Coins: 5000\n",
      "Date: 2017-11-16  |  Event: Legend Series  | (BO1) Venatores vs. Windigo  |  (45.0:55.0) | Total Coins: 5000\n",
      "Date: 2017-11-16  |  Event: Legend Series  | (BO1) Nexus vs. WASD  |  (60.0:40.0) | Total Coins: 5000\n"
     ]
    }
   ],
   "source": [
    "import cfscrape # need nodejs\n",
    "import json\n",
    "scraper = cfscrape.create_scraper()\n",
    "games = json.loads(scraper.get(\"http://thunderpick.com/api/matches\").content)\n",
    "games = pd.DataFrame(games['data'])\n",
    "games = games[games.gameId == 6].sort_values('startTime')\n",
    "\n",
    "bet_games = []\n",
    "for i,v in games.iterrows():\n",
    "    if((v['isTournament'] == False )& (v['canWager'] == True)):\n",
    "        ratio = v['matchBet']['buckets'][0]['amount']/v['matchBet']['buckets'][1]['amount']\n",
    "        odds = (ratio**-1+1, ratio+1)\n",
    "        wr = (odds[1]/np.sum(odds)*100., odds[0]/np.sum(odds)*100.)\n",
    "        det = json.loads(scraper.get('https://thunderpick.com/api/matches/'+str(v['id'])).content)['data']\n",
    "        print('Date: %s  |  Event: %s  | (BO%s) %s vs. %s  |  (%.1f:%.1f) | Total Coins: %i' % \n",
    "              (v['startTime'][:10], v['championship'], det['bestOfMaps'], v['matchBet']['buckets'][0]['label'], \n",
    "               v['matchBet']['buckets'][1]['label'], wr[0], wr[1], v['matchBet']['amount']))\n",
    "        bet_games.append({'1': v['matchBet']['buckets'][0]['label'], '2': v['matchBet']['buckets'][1]['label'], 'bo': det['bestOfMaps'], 'o1': odds[0], 'o2': odds[1], 'wr': wr[0]})\n",
    "bet_games = pd.DataFrame(bet_games)"
   ]
  },
  {
   "cell_type": "markdown",
   "metadata": {},
   "source": [
    "## Load Ratings Model"
   ]
  },
  {
   "cell_type": "code",
   "execution_count": 28,
   "metadata": {},
   "outputs": [],
   "source": [
    "TEAM_SET = 'all_time'\n",
    "\n",
    "teams = np.load('wl_model/saved_model/'+TEAM_SET+'/teams.npy')\n",
    "maps = np.load('wl_model/saved_model/'+TEAM_SET+'/maps.npy')\n",
    "periods = np.load('wl_model/saved_model/'+TEAM_SET+'/periods.npy')\n",
    "h_teams = pd.read_csv('wl_model/hltv_csv/teams_w_ranking.csv').set_index('ID').loc[teams]\n",
    "h_teams = fix_teams(h_teams)\n",
    "h_teams.Name = h_teams.Name.str.lower()\n",
    "h_teams_filt = h_teams.loc[teams]\n",
    "\n",
    "rating_model = prep_pymc_time_model(len(teams), len(maps), len(periods))\n",
    "trace = pm.backends.text.load('wl_model/saved_model/'+TEAM_SET+'/trace', model=rating_model)"
   ]
  },
  {
   "cell_type": "markdown",
   "metadata": {
    "collapsed": true
   },
   "source": [
    "## Ban/Pick Predictions"
   ]
  },
  {
   "cell_type": "code",
   "execution_count": 17,
   "metadata": {},
   "outputs": [],
   "source": [
    "h_bp = pd.read_csv('wl_model/hltv_csv/picksAndBans.csv').set_index('Match ID')\n",
    "h_matches = pd.read_csv('wl_model/hltv_csv/matchResults.csv').set_index('Match ID')\n",
    "h_matches['Date'] = pd.to_datetime(h_matches['Date'])\n",
    "h_matches = h_matches[h_matches['Date'] >= dt.datetime(2017,1,1)]\n",
    "h_bp = h_bp.join(h_matches[['Date']], how='left')\n",
    "h_bp['Date'] = pd.to_datetime(h_bp['Date'])\n",
    "h_bp = h_bp[h_bp['Date'] >= dt.datetime(2017,1,1)]"
   ]
  },
  {
   "cell_type": "code",
   "execution_count": 18,
   "metadata": {
    "collapsed": true
   },
   "outputs": [],
   "source": [
    "def model_mp(train, t1, t2):\n",
    "    tab = train[train['Team'].isin([t1, t2])].groupby(['Team', ' Pick Type', 'Map'])['Date'].count().unstack([' Pick Type', 'Team']).fillna(0)\n",
    "    return (tab/tab.sum(axis=0)).mean(level=0,axis=1)# get average\n",
    "\n",
    "def model_played(train, t1, t2):\n",
    "    a = train[train['Team 1 ID'].isin([t1,t2])].groupby(['Team 1 ID', 'Map'])['Date'].count()\n",
    "    b = train[train['Team 2 ID'].isin([t1,t2])].groupby(['Team 2 ID', 'Map'])['Date'].count()\n",
    "    c = pd.DataFrame([a,b], index=['a','b']).T.fillna(0)\n",
    "    c = (c['a']+c['b']).unstack(level=0).fillna(0)\n",
    "    return (c/c.sum()).mean(axis=1)\n",
    "\n",
    "def predict_map(func, data, t1, t2):\n",
    "    res = func(data, t1, t2)\n",
    "    return res.loc[res.index != 'Default'].sort_values(ascending=False)"
   ]
  },
  {
   "cell_type": "markdown",
   "metadata": {},
   "source": [
    "# Bet Predictions"
   ]
  },
  {
   "cell_type": "code",
   "execution_count": 46,
   "metadata": {
    "scrolled": false
   },
   "outputs": [
    {
     "name": "stdout",
     "output_type": "stream",
     "text": [
      "envyus academy (0.419) vs pro100 (0.237) - P:49.56% - 62.65% - 67.32%  -  K: 3.0% (134) - 2.2% (97)\n",
      "ago (1.160) vs valiance (0.907) - P:49.29% - 78.90% - 74.26%  -  K: 3.1% (140) - 2.6% (114)\n",
      "epsilon (0.154) vs bx3 (0.218) - P:33.24% - 74.26% - 60.85%  -  K: 0.6% (25) - 4.2% (190)\n",
      "spotnet (0.128) vs bpro (0.021) - P:41.59% - 68.18% - 68.18%  -  K: 2.4% (105) - 2.8% (126)\n",
      "conquer (0.172) vs superjymy (0.189) - P:29.45% - 19.29% - 69.31%  -  K: 3.6% (160) - 1.7% (74)\n",
      "seal (-0.130) vs singularity (0.778) - P:6.84% - 61.11% - 25.58%  -  K: -3.9% (-177) - 8.1% (365)\n",
      "ttfu (-0.176) vs ha masse (-0.291) - P:35.98% - 60.00% - 74.49%  -  K: 2.5% (110) - 2.6% (116)\n",
      "roughtimes (-0.519) vs orion (-0.273) - P:22.14% - 40.00% - 57.41%  -  K: 0.9% (39) - 4.4% (199)\n",
      "epsilon (0.154) vs squared (-0.265) - P:56.32% - 70.00% - 81.06%  -  K: 4.6% (207) - 1.1% (50)\n",
      "kinguin (0.912) vs seed (0.529) - P:59.13% - 64.28% - 75.70%  -  K: 4.7% (211) - 0.8% (35)\n",
      "hyper (-1.055) vs blackwoodproductions (-0.245) - P:7.01% - 60.00% - 34.52%  -  K: -3.6% (-160) - 7.9% (353)\n",
      "soar (0.550) vs beacon (0.224) - P:54.44% - 60.00% - 75.95%  -  K: 4.4% (197) - 0.9% (40)\n",
      "settodestroyx (-0.127) vs naventic (0.192) - P:23.39% - 35.00% - 47.01%  -  K: 1.0% (46) - 4.5% (200)\n",
      "legacy (0.496) vs syf (-0.234) - P:73.52% - 75.00% - 87.45%  -  K: 6.6% (296) - -0.1% (-3)\n",
      "athletico (0.561) vs riotous (0.174) - P:52.99% - 47.00% - 81.78%  -  K: 5.3% (237) - -0.4% (-17)\n",
      "sin (0.178) vs legacy (0.496) - P:26.55% - 39.22% - 43.76%  -  K: 0.8% (35) - 4.6% (205)\n",
      "tainted minds (0.817) vs athletico (0.561) - P:53.21% - 60.40% - 70.33%  -  K: 3.8% (173) - 1.4% (62)\n",
      "nemiga (0.493) vs ldlc (0.803) - P:28.49% - 45.00% - 42.12%  -  K: 0.5% (20) - 4.7% (211)\n",
      "fragsters (0.866) vs tricked (0.909) - P:39.60% - 40.00% - 56.33%  -  K: 2.6% (116) - 2.5% (111)\n",
      "spirit academy (0.398) vs planetkey (0.062) - P:55.26% - 55.00% - 75.40%  -  K: 4.6% (206) - 0.6% (24)\n",
      "valiance (0.907) vs alternate attax (0.363) - P:62.05% - 40.00% - 83.83%  -  K: 6.3% (281) - -1.7% (-77)\n",
      "extatus (0.881) vs gatekeepers (0.393) - P:63.20% - 65.00% - 80.77%  -  K: 5.4% (241) - 0.3% (13)\n",
      "riotous (0.174) vs grayhound (1.075) - P:7.38% - 35.00% - 24.11%  -  K: -1.8% (-79) - 7.9% (354)\n",
      "athletico (0.561) vs kings (1.140) - P:18.18% - 40.00% - 30.78%  -  K: -0.8% (-34) - 6.3% (283)\n",
      "forze (0.073) vs goodjob (0.187) - P:35.66% - 60.00% - 53.78%  -  K: 0.9% (40) - 4.0% (177)\n",
      "havu (0.947) vs envyus academy (0.419) - P:67.25% - 60.00% - 80.37%  -  K: 5.7% (257) - -0.2% (-11)\n",
      "big (1.051) vs natus vincere (1.042) - P:42.33% - 39.87% - 59.01%  -  K: 2.9% (129) - 2.1% (96)\n",
      "goodjob (0.187) vs tricked (0.909) - P:14.17% - 40.00% - 25.20%  -  K: -1.4% (-62) - 7.0% (316)\n",
      "wasd (-0.129) vs movistar riders (-0.106) - P:27.85% - 60.00% - 71.60%  -  K: 1.3% (58) - 3.6% (162)\n",
      "gameagents (0.093) vs nexus (0.591) - P:19.67% - 40.00% - 36.14%  -  K: -0.4% (-16) - 5.8% (263)\n",
      "north academy (0.792) vs japaleno (0.605) - P:49.07% - 60.00% - 68.62%  -  K: 3.3% (148) - 1.9% (83)\n",
      "grayhound (1.075) vs dark sided (0.302) - P:76.14% - 60.00% - 87.06%  -  K: 7.1% (319) - -1.5% (-65)\n",
      "nexus (0.591) vs wasd (-0.129) - P:64.16% - 60.00% - 90.96%  -  K: 6.7% (299) - -1.1% (-48)\n"
     ]
    }
   ],
   "source": [
    "money = 4500.\n",
    "bet_games['1'] = bet_games['1'].str.lower().replace({'ex-denial': 'denial', 'red reserve': 'japaleno'})\n",
    "bet_games['2'] = bet_games['2'].str.lower().replace({'ex-denial': 'denial', 'red reserve': 'japaleno'})\n",
    "matches = bet_games[bet_games['1'].isin(h_teams_filt.Name.values) & bet_games['2'].isin(h_teams_filt.Name.values)].drop_duplicates()\n",
    "def sig(x):\n",
    "    return 1 / (1 + np.exp(-x))\n",
    "def abs_norm_interval(start,end,loc,scale):\n",
    "    return (norm.cdf(end,loc,scale) - norm.cdf(start,loc,scale)) + (norm.cdf(-1*start,loc,scale) - norm.cdf(-1*end,loc,scale))\n",
    "\n",
    "\n",
    "per_ind = np.where(periods == pd.Period(dt.datetime.today(), 'M')-1)[0][0]\n",
    "t_rating = trace['rating_%s'%per_ind]\n",
    "t_map_rating = trace['rating_%s | map' %per_ind]\n",
    "t_alpha = 0.3485\n",
    "for i,v in matches.iterrows():\n",
    "    t1_id = h_teams_filt[h_teams_filt.Name == v['1']].index[0]; t1_ind = np.where(teams == t1_id)[0][0];\n",
    "    t2_id = h_teams_filt[h_teams_filt.Name == v['2']].index[0]; t2_ind = np.where(teams == t2_id)[0][0];\n",
    "    trace_1 = t_rating[:,t1_ind]; trace_2 = t_rating[:,t2_ind]\n",
    "    mr_1 = trace_1.mean(); mr_2 = trace_2.mean();\n",
    "    diff = trace_1-trace_2\n",
    "    p_wl = 0.5*np.tanh(diff)+0.5\n",
    "    wr_25 = np.percentile(p_wl, 25); wr_75 = np.percentile(p_wl, 75)\n",
    "    kelly_pct_1 = ((v['o1']*np.percentile(p_wl, 47)-(1.-np.percentile(p_wl, 47)))/v['o1'])*0.10\n",
    "    kelly_pct_2 = ((v['o2']*(1.-np.percentile(p_wl, 47))-(np.percentile(p_wl, 47)))/v['o2'])*0.10\n",
    "    print('%s (%.3f) vs %s (%.3f) - P:%.2f%% - %.2f%% - %.2f%%  -  K: %.1f%% (%i) - %.1f%% (%i)' % \n",
    "          (v['1'], mr_1, v['2'], mr_2,  wr_25*100, v['wr'], wr_75*100, kelly_pct_1*100., \n",
    "           kelly_pct_1*money, kelly_pct_2*100., kelly_pct_2*money))"
   ]
  },
  {
   "cell_type": "code",
   "execution_count": null,
   "metadata": {
    "collapsed": true,
    "scrolled": false
   },
   "outputs": [],
   "source": [
    "PRINT_RD_DIFF = False\n",
    "for i,v in matches.iterrows():\n",
    "    t1_id = h_teams_filt[h_teams_filt.Name == v['1']].index[0]; t1_ind = np.where(teams == t1_id)[0][0];\n",
    "    t2_id = h_teams_filt[h_teams_filt.Name == v['2']].index[0]; t2_ind = np.where(teams == t2_id)[0][0];\n",
    "    print('---------- %s vs %s ---------------------------------' % (v['1'], v['2']))\n",
    "    pred_maps = predict_map(model_played, h_matches, t1_id, t2_id)\n",
    "    pred_maps = pred_maps/pred_maps.sum()\n",
    "    for m,s in pred_maps.iteritems():\n",
    "        m_ind = np.where(maps == m)[0][0]\n",
    "        trace_1 = t_map_rating[:,m_ind,t1_ind]; trace_2 = t_map_rating[:,m_ind,t2_ind]\n",
    "        mr_1 = trace_1.mean(); mr_2 = trace_2.mean();\n",
    "        diff = trace_1-trace_2\n",
    "        p_wl = sig(diff)\n",
    "        wr_25 = np.percentile(p_wl, 25); wr_75 = np.percentile(p_wl, 75)\n",
    "        kappa = 32*sig(t_alpha*diff)-16.\n",
    "        kelly_pct_1 = ((v['o1']*np.percentile(p_wl, 45)-(1.-np.percentile(p_wl, 45)))/v['o1'])*0.1\n",
    "        kelly_pct_2 = ((v['o2']*(1.-np.percentile(p_wl, 45))-(np.percentile(p_wl, 45)))/v['o2'])*0.1\n",
    "        print('    Map: %s (%.2f)  -  %s (%.3f) vs %s (%.3f) - P:%.2f%% - %.2f%% - %.2f%%  -  K: %.1f%% (%i) - %.1f%% (%i)' % \n",
    "             (m, s*100., v['1'], mr_1, v['2'], mr_2,  wr_25*100, v['wr'], wr_75*100, kelly_pct_1*100., \n",
    "               kelly_pct_1*money, kelly_pct_2*100., kelly_pct_2*money))\n",
    "        \n",
    "        if(PRINT_RD_DIFF):\n",
    "            p_sc = [abs_norm_interval(x[0],x[1],kappa,trace['sigma'][:,m_ind]) for x in [[1.5,3.5],[3.5,5.5],[5.5,7.5],[7.5,9.5],[9.5,16]]]\n",
    "            for i,sd in enumerate(['2 - 3 Rounds', '4 - 5 rounds', '6 - 7 rounds', '8 - 9 rounds', '10 rounds or more']):\n",
    "                sc_25 = np.percentile(p_sc[i], 25); sc_75 = np.percentile(p_sc[i], 75)\n",
    "                print('      %s : %.2f%% - %.2f%%' % (sd, sc_25*100, sc_75*100))"
   ]
  },
  {
   "cell_type": "code",
   "execution_count": null,
   "metadata": {
    "collapsed": true
   },
   "outputs": [],
   "source": [
    "np.inner(np.ones((8,25)), np.ones((8,25))).shape"
   ]
  },
  {
   "cell_type": "code",
   "execution_count": null,
   "metadata": {
    "collapsed": true
   },
   "outputs": [],
   "source": [
    "np.ones((8,25)).flatten().shape"
   ]
  },
  {
   "cell_type": "code",
   "execution_count": null,
   "metadata": {
    "collapsed": true
   },
   "outputs": [],
   "source": [
    "np.zeros((8000, 200))"
   ]
  },
  {
   "cell_type": "code",
   "execution_count": null,
   "metadata": {
    "collapsed": true
   },
   "outputs": [],
   "source": [
    "plt.ylim(0,1.2)\n",
    "sns.kdeplot(trace_1, shade=True, alpha=0.65, legend=True, label=v['1'])\n",
    "sns.kdeplot(trace_2, shade=True, alpha=0.65, legend=True, label=v['2'])"
   ]
  },
  {
   "cell_type": "code",
   "execution_count": null,
   "metadata": {
    "collapsed": true
   },
   "outputs": [],
   "source": [
    "h_bp.groupby('Match ID').first().count()"
   ]
  },
  {
   "cell_type": "code",
   "execution_count": null,
   "metadata": {
    "collapsed": true
   },
   "outputs": [],
   "source": [
    "h_bp"
   ]
  },
  {
   "cell_type": "code",
   "execution_count": null,
   "metadata": {
    "collapsed": true
   },
   "outputs": [],
   "source": []
  }
 ],
 "metadata": {
  "kernelspec": {
   "display_name": "Python 3",
   "language": "python",
   "name": "python3"
  },
  "language_info": {
   "codemirror_mode": {
    "name": "ipython",
    "version": 3
   },
   "file_extension": ".py",
   "mimetype": "text/x-python",
   "name": "python",
   "nbconvert_exporter": "python",
   "pygments_lexer": "ipython3",
   "version": "3.6.2"
  }
 },
 "nbformat": 4,
 "nbformat_minor": 2
}
