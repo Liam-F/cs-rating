{
 "cells": [
  {
   "cell_type": "markdown",
   "metadata": {},
   "source": [
    "## Win/Loss Rating Model Prediction\n",
    "\n",
    "Load the model and make predictions"
   ]
  },
  {
   "cell_type": "code",
   "execution_count": 1,
   "metadata": {},
   "outputs": [],
   "source": [
    "import requests\n",
    "import pandas as pd\n",
    "import numpy as np\n",
    "import pymc3 as pm\n",
    "import seaborn as sns\n",
    "import datetime as dt\n",
    "import matplotlib.pyplot as plt\n",
    "from scipy.stats import norm\n",
    "from spcl_case import *\n",
    "plt.style.use('fivethirtyeight')\n",
    "%matplotlib inline"
   ]
  },
  {
   "cell_type": "markdown",
   "metadata": {},
   "source": [
    "### Get a list of all CS Games"
   ]
  },
  {
   "cell_type": "code",
   "execution_count": 2,
   "metadata": {
    "scrolled": true
   },
   "outputs": [
    {
     "name": "stdout",
     "output_type": "stream",
     "text": [
      "Date: 2017-10-26  |  Event: ECS Season 4 Development League  | (BO1) Ghost vs. Immortals  |  (37.0:63.0) | Total Coins: 2000\n",
      "Date: 2017-10-25  |  Event: ECS Season 4 Development League  | (BO1) EnVyUs vs. fnatic  |  (52.0:48.0) | Total Coins: 2000\n",
      "Date: 2017-10-25  |  Event: ECS Season 4 Development League  | (BO1) fnatic vs. EnVyUs  |  (45.0:55.0) | Total Coins: 2000\n",
      "Date: 2017-10-25  |  Event: ECS Season 4 Development League  | (BO1) FaZe vs. mousesports  |  (63.2:36.8) | Total Coins: 10324\n",
      "Date: 2017-10-25  |  Event: ECS Season 4 Development League  | (BO1) mousesports vs. FaZe  |  (36.1:63.9) | Total Coins: 2050\n",
      "Date: 2017-10-24  |  Event: ECS Season 4 Development League  | (BO1) G2 vs. Heroic  |  (68.5:31.5) | Total Coins: 2540\n",
      "Date: 2017-10-26  |  Event: ECS Season 4 Development League  | (BO1) Liquid vs. SK  |  (40.0:60.0) | Total Coins: 10000\n",
      "Date: 2017-10-26  |  Event: ECS Season 4 Development League  | (BO1) SK vs. Liquid  |  (62.8:37.2) | Total Coins: 2150\n",
      "Date: 2017-10-25  |  Event: ECS Season 4 Development League  | (BO1) Luminosity vs. Immortals  |  (40.0:60.0) | Total Coins: 2000\n",
      "Date: 2017-10-26  |  Event: ECS Season 4 Development League  | (BO1) Immortals vs. Ghost  |  (61.0:39.0) | Total Coins: 2050\n",
      "Date: 2017-10-24  |  Event: ECS Season 4 Development League  | (BO1) GODSENT vs. fnatic  |  (39.0:61.0) | Total Coins: 2050\n",
      "Date: 2017-10-24  |  Event: ECS Season 4 Development League  | (BO1) Heroic vs. G2  |  (37.7:62.3) | Total Coins: 2121\n",
      "Date: 2017-10-25  |  Event: ECS Season 4 Development League  | (BO1) Cloud9 vs. Luminosity  |  (61.4:38.6) | Total Coins: 10350\n",
      "Date: 2017-10-26  |  Event: ECS Season 4 Development League  | (BO1) EnVyUs vs. FaZe  |  (37.0:63.0) | Total Coins: 10000\n",
      "Date: 2017-10-26  |  Event: ECS Season 4 Development League  | (BO1) FaZe vs. EnVyUs  |  (63.0:37.0) | Total Coins: 10000\n",
      "Date: 2017-10-26  |  Event: ECS Season 4 Development League  | (BO1) NiP vs. fnatic  |  (57.0:43.0) | Total Coins: 10000\n",
      "Date: 2017-10-26  |  Event: ECS Season 4 Development League  | (BO1) fnatic vs. NiP  |  (43.0:57.0) | Total Coins: 10000\n",
      "Date: 2017-10-27  |  Event: ECS Season 4 Development League  | (BO1) OpTic vs. Liquid  |  (60.0:40.0) | Total Coins: 10000\n",
      "Date: 2017-10-27  |  Event: ECS Season 4 Development League  | (BO1) Liquid vs. OpTic  |  (40.0:60.0) | Total Coins: 10000\n",
      "Date: 2017-10-27  |  Event: ECS Season 4 Development League  | (BO1) NRG vs. CLG  |  (43.0:57.0) | Total Coins: 10000\n",
      "Date: 2017-10-25  |  Event: ECS Season 4 Development League  | (BO1) Immortals vs. Luminosity  |  (60.0:40.0) | Total Coins: 2000\n",
      "Date: 2017-10-27  |  Event: ECS Season 4 Development League  | (BO1) CLG vs. NRG  |  (57.0:43.0) | Total Coins: 10000\n",
      "Date: 2017-10-25  |  Event: ECS Season 4 Development League  | (BO1) Luminosity vs. Cloud9  |  (39.8:60.2) | Total Coins: 10050\n",
      "Date: 2017-10-24  |  Event: ECS Season 4 Development League  | (BO1) fnatic vs. GODSENT  |  (65.6:34.4) | Total Coins: 2325\n",
      "Date: 2017-10-25  |  Event: ESEA MDL Season 26  | (BO1) Iceberg vs. ANTI ECO  |  (60.0:40.0) | Total Coins: 4000\n",
      "Date: 2017-10-25  |  Event: ESEA MDL Season 26  | (BO1) GX vs. Mythic  |  (63.9:36.1) | Total Coins: 2384\n",
      "Date: 2017-10-24  |  Event: ESEA MDL Season 26  | (BO1) ex-Nitrious vs. Rise Nation  |  (22.7:77.3) | Total Coins: 7263\n",
      "Date: 2017-10-26  |  Event: ESEA MDL Season 26  | (BO1) FRENCH CANADIANS vs. Gale Force  |  (53.3:46.7) | Total Coins: 4500\n",
      "Date: 2017-10-26  |  Event: ESEA MDL Season 26  | (BO1) ex-Denial vs. FRENCH CANADIANS  |  (40.0:60.0) | Total Coins: 4000\n",
      "Date: 2017-10-26  |  Event: ESEA MDL Season 26  | (BO1) GX vs. SoaR  |  (66.0:34.0) | Total Coins: 4700\n",
      "Date: 2017-10-27  |  Event: ESEA MDL Season 26  | (BO1) Gale Force vs. Beacon  |  (60.0:40.0) | Total Coins: 4500\n",
      "Date: 2017-10-27  |  Event: ESEA MDL Season 26  | (BO1) LFAO vs. ANTI ECO  |  (60.0:40.0) | Total Coins: 4300\n",
      "Date: 2017-10-26  |  Event: ESEA MDL Season 26  | (BO1) Mythic vs. Torqued  |  (44.2:55.8) | Total Coins: 4300\n",
      "Date: 2017-10-25  |  Event: ESEA MDL Season 26  | (BO1) Adaptation vs. Rise Nation  |  (40.0:60.0) | Total Coins: 2000\n",
      "Date: 2017-10-25  |  Event: ESEA MDL Season 26  | (BO1) Beacon vs. ex-Denial  |  (43.0:57.0) | Total Coins: 4000\n",
      "Date: 2017-10-25  |  Event: ESEA MDL Season 26  | (BO1) GX vs. subtLe  |  (65.6:34.4) | Total Coins: 2500\n",
      "Date: 2017-10-24  |  Event: ESEA MDL Season 26  | (BO1) subtLe vs. Morior Invictus  |  (60.0:40.0) | Total Coins: 2000\n",
      "Date: 2017-10-24  |  Event: ESEA MDL Season 26  | (BO1) Mythic vs. ex-Denial  |  (71.8:28.2) | Total Coins: 5599\n",
      "Date: 2017-10-24  |  Event: ESEA MDL Season 26  | (BO1) ANTI ECO vs. CLG Academy  |  (28.4:71.6) | Total Coins: 2779\n",
      "Date: 2017-10-24  |  Event: ESEA MDL Season 26  | (BO1) Good People vs. Ambition  |  (70.0:30.0) | Total Coins: 4000\n",
      "Date: 2017-10-24  |  Event: ESEA MDL Season 26  | (BO1) Torqued vs. subtLe  |  (65.0:35.0) | Total Coins: 4000\n",
      "Date: 2017-10-24  |  Event: ESEA MDL Season 26  | (BO1) SYF vs. Corvidae  |  (43.4:56.6) | Total Coins: 4150\n",
      "Date: 2017-10-24  |  Event: ESEA MDL Season 26  | (BO1) SYF vs. Athletico  |  (40.0:60.0) | Total Coins: 4000\n",
      "Date: 2017-10-24  |  Event: ESEA MDL Season 26  | (BO1) Kings vs. Chiefs  |  (60.5:39.5) | Total Coins: 4050\n",
      "Date: 2017-10-25  |  Event: ESEA MDL Season 26  | (BO1) Naventic vs. Muffin Lightning  |  (45.0:55.0) | Total Coins: 2000\n",
      "Date: 2017-10-24  |  Event: ESEA MDL Season 26  | (BO1) Grayhound vs. Legacy  |  (60.0:40.0) | Total Coins: 4000\n",
      "Date: 2017-10-24  |  Event: ESEA MDL Season 26  | (BO1) Athletico vs. seadoggs  |  (67.0:33.0) | Total Coins: 4000\n",
      "Date: 2017-10-24  |  Event: ESEA MDL Season 26  | (BO1) Athletico vs. Kings  |  (40.0:60.0) | Total Coins: 4000\n",
      "Date: 2017-10-24  |  Event: ESEA MDL Season 26  | (BO1) Kinguin vs. igame.com  |  (65.0:35.0) | Total Coins: 4000\n",
      "Date: 2017-10-24  |  Event: ESEA MDL Season 26  | (BO1) eXtatus vs. PRIDE  |  (65.0:35.0) | Total Coins: 4000\n",
      "Date: 2017-10-24  |  Event: ESEA MDL Season 26  | (BO1) MK vs. Japaleno  |  (35.0:65.0) | Total Coins: 2000\n",
      "Date: 2017-10-24  |  Event: ESEA MDL Season 26  | (BO1) eXtatus vs. Invictus Aquilas  |  (68.0:32.0) | Total Coins: 2000\n",
      "Date: 2017-10-24  |  Event: ESEA MDL Season 26  | (BO1) Invictus Aquilas vs. Singularity  |  (27.0:73.0) | Total Coins: 4000\n",
      "Date: 2017-10-27  |  Event: ESEA MDL Season 26  | (BO1) Ambition vs. Naventic  |  (40.0:60.0) | Total Coins: 4000\n",
      "Date: 2017-10-27  |  Event: ESEA MDL Season 26  | (BO1) Mostly Harmless vs. Iceberg  |  (40.0:60.0) | Total Coins: 4000\n",
      "Date: 2017-10-24  |  Event: Epicenter 2017  | (BO3) Gambit vs. FaZe  |  (25.5:74.5) | Total Coins: 13399\n",
      "Date: 2017-10-24  |  Event: Epicenter 2017  | (BO3) SK vs. Virtus.pro  |  (80.6:19.4) | Total Coins: 32146\n",
      "Date: 2017-10-24  |  Event: Epicenter 2017  | (BO3) North vs. Liquid  |  (61.3:38.7) | Total Coins: 10604\n",
      "Date: 2017-10-24  |  Event: Epicenter 2017  | (BO3) Astralis vs. G2  |  (59.9:40.1) | Total Coins: 12493\n",
      "Date: 2017-10-26  |  Event: Esports Balkan League Season 1  | (BO3) Valiance vs. MK  |  (57.0:43.0) | Total Coins: 4000\n",
      "Date: 2017-10-26  |  Event: Esports Balkan League Season 1  | (BO3) Valiance vs. KlikTech  |  (60.0:40.0) | Total Coins: 4000\n",
      "Date: 2017-10-24  |  Event: Skinhub CS:GO Championship  | (BO1) Valiance vs. igame.com  |  (58.0:42.0) | Total Coins: 4000\n",
      "Date: 2017-10-24  |  Event: WESG 2017  | (BO3) AGO vs. Virtus.pro  |  (33.1:66.9) | Total Coins: 2113\n",
      "Date: 2017-10-24  |  Event: None  | (BO3) BootKamp vs. Brasil Gaming House  |  (71.4:28.6) | Total Coins: 7232\n",
      "Date: 2017-10-24  |  Event: None  | (BO3) EnVyUs Academy vs. Nexus  |  (63.0:37.0) | Total Coins: 2300\n",
      "Date: 2017-10-24  |  Event: None  | (BO3) Spirit Academy vs. eSuba  |  (40.0:60.0) | Total Coins: 2000\n"
     ]
    }
   ],
   "source": [
    "r = requests.get('https://thunderpick.com/api/matches')\n",
    "games = pd.DataFrame(r.json()['data'])\n",
    "games = games[games.gameId == 6].sort_values('championship')\n",
    "\n",
    "bet_games = []\n",
    "for i,v in games.iterrows():\n",
    "    if((v['isTournament'] == False )& (v['canWager'] == True)):\n",
    "        ratio = v['matchBet']['buckets'][0]['amount']/v['matchBet']['buckets'][1]['amount']\n",
    "        odds = (ratio**-1+1, ratio+1)\n",
    "        wr = (odds[1]/np.sum(odds)*100., odds[0]/np.sum(odds)*100.)\n",
    "        det = requests.get('https://thunderpick.com/api/matches/'+str(v['id'])).json()['data']\n",
    "        print('Date: %s  |  Event: %s  | (BO%s) %s vs. %s  |  (%.1f:%.1f) | Total Coins: %i' % \n",
    "              (v['startTime'][:10], v['championship'], det['bestOfMaps'], v['matchBet']['buckets'][0]['label'], \n",
    "               v['matchBet']['buckets'][1]['label'], wr[0], wr[1], v['matchBet']['amount']))\n",
    "        bet_games.append({'1': v['matchBet']['buckets'][0]['label'], '2': v['matchBet']['buckets'][1]['label'], 'bo': det['bestOfMaps'], 'o1': odds[0], 'o2': odds[1], 'wr': wr[0]})\n",
    "bet_games = pd.DataFrame(bet_games)"
   ]
  },
  {
   "cell_type": "markdown",
   "metadata": {},
   "source": [
    "## Load Ratings Model"
   ]
  },
  {
   "cell_type": "code",
   "execution_count": 42,
   "metadata": {},
   "outputs": [],
   "source": [
    "TEAM_SET = 'mdlau'\n",
    "\n",
    "teams = np.load('saved_model/'+TEAM_SET+'/teams.npy')\n",
    "maps = np.load('saved_model/'+TEAM_SET+'/maps.npy')\n",
    "filt = np.load('saved_model/'+TEAM_SET+'/filter_teams.npy')\n",
    "h_teams = pd.read_csv('hltv_csv/teams.csv').set_index('ID').loc[teams]\n",
    "h_teams = fix_teams(h_teams)\n",
    "\n",
    "h_teams_filt = h_teams[h_teams.Name.isin(filt)]\n",
    "\n",
    "def prep_pymc_model(n_teams, n_maps):\n",
    "    with pm.Model() as rating_model:\n",
    "        omega = pm.HalfCauchy('omega', 0.5)\n",
    "        tau = pm.HalfCauchy('tau', 0.5)\n",
    "        rating = pm.Normal('rating', 0, omega, shape=n_teams)\n",
    "        theta_tilde = pm.Normal('rate_t', mu=0, sd=1, shape=(n_maps, n_teams))\n",
    "        rating_map = pm.Deterministic('rating | map', rating + tau * theta_tilde)\n",
    "        alpha = pm.Gamma('alpha', 10, 5)\n",
    "        sigma = pm.HalfCauchy('sigma', 0.5, shape=n_maps)\n",
    "    return rating_model\n",
    "\n",
    "rating_model = prep_pymc_model(len(teams), len(maps))\n",
    "trace = pm.backends.text.load('saved_model/'+TEAM_SET+'/trace', model=rating_model)"
   ]
  },
  {
   "cell_type": "markdown",
   "metadata": {
    "collapsed": true
   },
   "source": [
    "## Ban/Pick Predictions"
   ]
  },
  {
   "cell_type": "code",
   "execution_count": 43,
   "metadata": {},
   "outputs": [],
   "source": [
    "h_bp = pd.read_csv('hltv_csv/picksAndBans.csv').set_index('Match ID')\n",
    "h_matches = pd.read_csv('hltv_csv/matchResults.csv').set_index('Match ID')\n",
    "h_matches['Date'] = pd.to_datetime(h_matches['Date'])\n",
    "h_matches = h_matches[h_matches['Date'] >= dt.datetime(2017,1,1)]\n",
    "h_bp = h_bp.join(h_matches[['Date']], how='left')\n",
    "h_bp['Date'] = pd.to_datetime(h_bp['Date'])\n",
    "h_bp = h_bp[h_bp['Date'] >= dt.datetime(2017,1,1)]"
   ]
  },
  {
   "cell_type": "code",
   "execution_count": 44,
   "metadata": {
    "collapsed": true
   },
   "outputs": [],
   "source": [
    "def model_mp(train, t1, t2):\n",
    "    tab = train[train['Team'].isin([t1, t2])].groupby(['Team', ' Pick Type', 'Map'])['Date'].count().unstack([' Pick Type', 'Team']).fillna(0)\n",
    "    return (tab/tab.sum(axis=0)).mean(level=0,axis=1)# get average\n",
    "\n",
    "def model_played(train, t1, t2):\n",
    "    a = train[train['Team 1 ID'].isin([t1,t2])].groupby(['Team 1 ID', 'Map'])['Date'].count()\n",
    "    b = train[train['Team 2 ID'].isin([t1,t2])].groupby(['Team 2 ID', 'Map'])['Date'].count()\n",
    "    c = pd.DataFrame([a,b], index=['a','b']).T.fillna(0)\n",
    "    c = (c['a']+c['b']).unstack(level=0).fillna(0)\n",
    "    return (c/c.sum()).mean(axis=1)\n",
    "\n",
    "def predict_map(func, data, t1, t2):\n",
    "    res = func(data, t1, t2)\n",
    "    return res.loc[res.index != 'Default'].sort_values(ascending=False)"
   ]
  },
  {
   "cell_type": "markdown",
   "metadata": {},
   "source": [
    "# Bet Predictions"
   ]
  },
  {
   "cell_type": "code",
   "execution_count": 50,
   "metadata": {
    "scrolled": false
   },
   "outputs": [
    {
     "name": "stdout",
     "output_type": "stream",
     "text": [
      "SYF (-0.139) vs Corvidae (-0.671) - I:43.37% | P:52.53% - 72.13%  -  K: 4.4% (197) - 0.5% (20)\n",
      "SYF (-0.139) vs Athletico (0.814) - I:40.00% | P:20.30% - 36.69%  -  K: -0.3% (-12) - 5.7% (258)\n",
      "Kings (2.662) vs Chiefs (2.253) - I:60.49% | P:50.79% - 68.58%  -  K: 3.3% (150) - 1.8% (82)\n",
      "Grayhound (2.244) vs Legacy (0.913) - I:60.00% | P:72.60% - 84.33%  -  K: 6.5% (291) - -0.9% (-41)\n",
      "Athletico (0.814) vs seadoggs (1.028) - I:67.00% | P:31.06% - 59.26%  -  K: 0.3% (15) - 4.4% (197)\n",
      "Athletico (0.814) vs Kings (2.662) - I:40.00% | P:9.75% - 18.87%  -  K: -2.2% (-98) - 7.9% (357)\n"
     ]
    }
   ],
   "source": [
    "money = 4500.\n",
    "bet_games['1'] = bet_games['1'].str.replace('ex-Denial', 'Denial')\n",
    "bet_games['2'] = bet_games['2'].str.replace('ex-Denial', 'Denial')\n",
    "matches = bet_games[bet_games['1'].isin(filt) & bet_games['2'].isin(filt)].drop_duplicates()\n",
    "def sig(x):\n",
    "    return 1 / (1 + np.exp(-x))\n",
    "def abs_norm_interval(start,end,loc,scale):\n",
    "    return (norm.cdf(end,loc,scale) - norm.cdf(start,loc,scale)) + (norm.cdf(-1*start,loc,scale) - norm.cdf(-1*end,loc,scale))\n",
    "\n",
    "t_rating = trace['rating']\n",
    "t_map_rating = trace['rating | map']\n",
    "t_alpha = trace['alpha']\n",
    "for i,v in matches.iterrows():\n",
    "    t1_id = h_teams_filt[h_teams_filt.Name == v['1']].index[0]; t1_ind = np.where(teams == t1_id)[0][0];\n",
    "    t2_id = h_teams_filt[h_teams_filt.Name == v['2']].index[0]; t2_ind = np.where(teams == t2_id)[0][0];\n",
    "    trace_1 = t_rating[:,t1_ind]; trace_2 = t_rating[:,t2_ind]\n",
    "    mr_1 = trace_1.mean(); mr_2 = trace_2.mean();\n",
    "    diff = trace_1-trace_2\n",
    "    p_wl = sig(diff)\n",
    "    wr_25 = np.percentile(p_wl, 25); wr_75 = np.percentile(p_wl, 75)\n",
    "    kelly_pct_1 = ((v['o1']*np.percentile(p_wl, 45)-(1.-np.percentile(p_wl, 45)))/v['o1'])*0.1\n",
    "    kelly_pct_2 = ((v['o2']*(1.-np.percentile(p_wl, 45))-(np.percentile(p_wl, 45)))/v['o2'])*0.1\n",
    "    print('%s (%.3f) vs %s (%.3f) - I:%.2f%% | P:%.2f%% - %.2f%%  -  K: %.1f%% (%i) - %.1f%% (%i)' % \n",
    "          (v['1'], mr_1, v['2'], mr_2, v['wr'], wr_25*100, wr_75*100, kelly_pct_1*100., \n",
    "           kelly_pct_1*money, kelly_pct_2*100., kelly_pct_2*money))"
   ]
  },
  {
   "cell_type": "code",
   "execution_count": 53,
   "metadata": {
    "scrolled": true
   },
   "outputs": [
    {
     "name": "stdout",
     "output_type": "stream",
     "text": [
      "    Map: Mirage (27.55)  -  SYF (0.514) vs Corvidae (-0.510) - I:43.37% | P:65.63% - 80.33%  -  K: 6.0% (268) - -1.3% (-56)\n",
      "    Map: Cobblestone (19.81)  -  SYF (1.618) vs Corvidae (-0.734) - I:43.37% | P:86.21% - 94.43%  -  K: 8.6% (388) - -4.2% (-187)\n",
      "    Map: Cache (14.37)  -  SYF (-1.279) vs Corvidae (-0.379) - I:43.37% | P:18.83% - 41.54%  -  K: -0.5% (-20) - 5.8% (259)\n",
      "    Map: Train (12.51)  -  SYF (-0.563) vs Corvidae (-0.672) - I:43.37% | P:38.23% - 67.06%  -  K: 2.8% (126) - 2.2% (98)\n",
      "    Map: Overpass (12.29)  -  SYF (0.159) vs Corvidae (0.047) - I:43.37% | P:37.80% - 67.19%  -  K: 2.9% (129) - 2.1% (95)\n",
      "    Map: Inferno (8.25)  -  SYF (-0.461) vs Corvidae (-0.795) - I:43.37% | P:42.57% - 72.55%  -  K: 3.6% (161) - 1.3% (60)\n",
      "    Map: Nuke (5.22)  -  SYF (-0.997) vs Corvidae (-1.789) - I:43.37% | P:50.51% - 82.70%  -  K: 5.1% (227) - -0.3% (-12)\n",
      "    Map: Mirage (24.55)  -  SYF (0.514) vs Athletico (1.177) - I:40.00% | P:26.23% - 43.19%  -  K: 0.6% (25) - 4.8% (215)\n",
      "    Map: Cobblestone (18.26)  -  SYF (1.618) vs Athletico (1.014) - I:40.00% | P:52.73% - 74.73%  -  K: 4.7% (212) - 0.0% (1)\n",
      "    Map: Cache (14.80)  -  SYF (-1.279) vs Athletico (0.253) - I:40.00% | P:11.56% - 26.74%  -  K: -1.6% (-73) - 7.3% (328)\n",
      "    Map: Train (14.51)  -  SYF (-0.563) vs Athletico (0.473) - I:40.00% | P:17.55% - 37.56%  -  K: -0.5% (-23) - 6.0% (271)\n",
      "    Map: Overpass (10.26)  -  SYF (0.159) vs Athletico (0.964) - I:40.00% | P:19.97% - 44.94%  -  K: 0.0% (0) - 5.4% (243)\n",
      "    Map: Inferno (9.17)  -  SYF (-0.461) vs Athletico (0.052) - I:40.00% | P:25.13% - 51.81%  -  K: 0.9% (39) - 4.4% (199)\n",
      "    Map: Nuke (8.45)  -  SYF (-0.997) vs Athletico (1.938) - I:40.00% | P:2.54% - 10.07%  -  K: -3.4% (-151) - 9.3% (417)\n",
      "    Map: Train (18.92)  -  Kings (2.962) vs Chiefs (2.986) - I:60.49% | P:41.44% - 57.55%  -  K: 1.6% (73) - 3.3% (149)\n",
      "    Map: Mirage (18.72)  -  Kings (3.050) vs Chiefs (1.603) - I:60.49% | P:75.23% - 85.55%  -  K: 6.8% (303) - -1.1% (-50)\n",
      "    Map: Inferno (17.27)  -  Kings (2.742) vs Chiefs (1.579) - I:60.49% | P:69.27% - 81.62%  -  K: 5.9% (267) - -0.4% (-18)\n",
      "    Map: Overpass (14.08)  -  Kings (2.704) vs Chiefs (3.077) - I:60.49% | P:31.73% - 50.47%  -  K: 0.2% (9) - 4.6% (204)\n",
      "    Map: Cache (12.68)  -  Kings (2.485) vs Chiefs (1.478) - I:60.49% | P:64.61% - 80.30%  -  K: 5.4% (244) - 0.0% (1)\n",
      "    Map: Nuke (11.60)  -  Kings (2.544) vs Chiefs (2.303) - I:60.49% | P:44.72% - 66.78%  -  K: 2.6% (117) - 2.5% (111)\n",
      "    Map: Cobblestone (6.74)  -  Kings (2.676) vs Chiefs (3.144) - I:60.49% | P:23.41% - 56.43%  -  K: -0.3% (-11) - 5.0% (223)\n",
      "    Map: Overpass (17.65)  -  Grayhound (2.424) vs Legacy (1.531) - I:60.00% | P:63.15% - 77.76%  -  K: 5.1% (228) - 0.3% (14)\n",
      "    Map: Mirage (16.42)  -  Grayhound (2.300) vs Legacy (0.468) - I:60.00% | P:81.23% - 89.99%  -  K: 7.6% (343) - -1.9% (-86)\n",
      "    Map: Cache (15.93)  -  Grayhound (1.432) vs Legacy (0.828) - I:60.00% | P:56.55% - 71.95%  -  K: 4.1% (186) - 1.1% (50)\n",
      "    Map: Inferno (14.72)  -  Grayhound (2.669) vs Legacy (0.145) - I:60.00% | P:89.21% - 94.82%  -  K: 8.7% (391) - -2.9% (-128)\n",
      "    Map: Nuke (13.96)  -  Grayhound (3.230) vs Legacy (0.873) - I:60.00% | P:87.88% - 93.90%  -  K: 8.5% (382) - -2.7% (-120)\n",
      "    Map: Train (12.29)  -  Grayhound (1.619) vs Legacy (0.923) - I:60.00% | P:56.59% - 75.27%  -  K: 4.4% (197) - 0.9% (41)\n",
      "    Map: Cobblestone (8.77)  -  Grayhound (2.453) vs Legacy (1.782) - I:60.00% | P:55.49% - 75.10%  -  K: 4.3% (191) - 1.0% (45)\n",
      "    Map: Dust2 (0.25)  -  Grayhound (2.264) vs Legacy (0.912) - I:60.00% | P:63.71% - 89.41%  -  K: 6.3% (285) - -0.8% (-36)\n",
      "    Map: Mirage (33.86)  -  Athletico (1.177) vs seadoggs (0.366) - I:67.00% | P:56.78% - 79.56%  -  K: 4.4% (199) - 1.1% (51)\n",
      "    Map: Inferno (26.05)  -  Athletico (0.052) vs seadoggs (1.512) - I:67.00% | P:11.14% - 30.36%  -  K: -3.8% (-170) - 7.7% (346)\n",
      "    Map: Cobblestone (11.77)  -  Athletico (1.014) vs seadoggs (1.405) - I:67.00% | P:22.71% - 60.99%  -  K: -0.4% (-20) - 5.0% (225)\n",
      "    Map: Overpass (7.23)  -  Athletico (0.964) vs seadoggs (1.026) - I:67.00% | P:27.74% - 69.22%  -  K: 0.9% (38) - 4.0% (178)\n",
      "    Map: Cache (7.23)  -  Athletico (0.253) vs seadoggs (1.035) - I:67.00% | P:16.45% - 51.53%  -  K: -2.0% (-91) - 6.3% (283)\n",
      "    Map: Train (6.94)  -  Athletico (0.473) vs seadoggs (1.016) - I:67.00% | P:19.40% - 58.18%  -  K: -1.2% (-52) - 5.6% (251)\n",
      "    Map: Nuke (6.94)  -  Athletico (1.938) vs seadoggs (1.008) - I:67.00% | P:51.47% - 85.73%  -  K: 4.7% (210) - 0.9% (42)\n",
      "    Map: Mirage (27.47)  -  Athletico (1.177) vs Kings (3.050) - I:40.00% | P:10.34% - 17.21%  -  K: -2.2% (-99) - 8.0% (358)\n",
      "    Map: Overpass (15.05)  -  Athletico (0.964) vs Kings (2.704) - I:40.00% | P:10.94% - 20.10%  -  K: -2.0% (-89) - 7.7% (346)\n",
      "    Map: Cache (15.05)  -  Athletico (0.253) vs Kings (2.485) - I:40.00% | P:6.81% - 13.82%  -  K: -2.7% (-121) - 8.5% (383)\n",
      "    Map: Inferno (14.23)  -  Athletico (0.052) vs Kings (2.742) - I:40.00% | P:4.27% - 9.53%  -  K: -3.2% (-142) - 9.0% (407)\n",
      "    Map: Train (13.56)  -  Athletico (0.473) vs Kings (2.962) - I:40.00% | P:5.35% - 11.07%  -  K: -3.0% (-134) - 8.8% (397)\n",
      "    Map: Nuke (9.97)  -  Athletico (1.938) vs Kings (2.544) - I:40.00% | P:25.85% - 46.24%  -  K: 0.7% (32) - 4.6% (207)\n",
      "    Map: Cobblestone (4.65)  -  Athletico (1.014) vs Kings (2.676) - I:40.00% | P:8.33% - 28.15%  -  K: -2.0% (-89) - 7.7% (346)\n"
     ]
    }
   ],
   "source": [
    "PRINT_RD_DIFF = False\n",
    "for i,v in matches.iterrows():\n",
    "    t1_id = h_teams_filt[h_teams_filt.Name == v['1']].index[0]; t1_ind = np.where(teams == t1_id)[0][0];\n",
    "    t2_id = h_teams_filt[h_teams_filt.Name == v['2']].index[0]; t2_ind = np.where(teams == t2_id)[0][0];\n",
    "    pred_maps = predict_map(model_played, h_matches, t1_id, t2_id)\n",
    "    pred_maps = pred_maps/pred_maps.sum()\n",
    "    for m,s in pred_maps.iteritems():\n",
    "        m_ind = np.where(maps == m)[0][0]\n",
    "        trace_1 = t_map_rating[:,m_ind,t1_ind]; trace_2 = t_map_rating[:,m_ind,t2_ind]\n",
    "        mr_1 = trace_1.mean(); mr_2 = trace_2.mean();\n",
    "        diff = trace_1-trace_2\n",
    "        p_wl = sig(diff)\n",
    "        wr_25 = np.percentile(p_wl, 25); wr_75 = np.percentile(p_wl, 75)\n",
    "        kappa = 32*sig(t_alpha*diff)-16.\n",
    "        kelly_pct_1 = ((v['o1']*np.percentile(p_wl, 45)-(1.-np.percentile(p_wl, 45)))/v['o1'])*0.1\n",
    "        kelly_pct_2 = ((v['o2']*(1.-np.percentile(p_wl, 45))-(np.percentile(p_wl, 45)))/v['o2'])*0.1\n",
    "        print('    Map: %s (%.2f)  -  %s (%.3f) vs %s (%.3f) - I:%.2f%% | P:%.2f%% - %.2f%%  -  K: %.1f%% (%i) - %.1f%% (%i)' % \n",
    "             (m, s*100., v['1'], mr_1, v['2'], mr_2, v['wr'], wr_25*100, wr_75*100, kelly_pct_1*100., \n",
    "               kelly_pct_1*money, kelly_pct_2*100., kelly_pct_2*money))\n",
    "        \n",
    "        if(PRINT_RD_DIFF):\n",
    "            p_sc = [abs_norm_interval(x[0],x[1],kappa,trace['sigma'][:,m_ind]) for x in [[1.5,3.5],[3.5,5.5],[5.5,7.5],[7.5,9.5],[9.5,16]]]\n",
    "            for i,sd in enumerate(['2 - 3 Rounds', '4 - 5 rounds', '6 - 7 rounds', '8 - 9 rounds', '10 rounds or more']):\n",
    "                sc_25 = np.percentile(p_sc[i], 25); sc_75 = np.percentile(p_sc[i], 75)\n",
    "                print('      %s : %.2f%% - %.2f%%' % (sd, sc_25*100, sc_75*100))"
   ]
  },
  {
   "cell_type": "code",
   "execution_count": 34,
   "metadata": {},
   "outputs": [
    {
     "data": {
      "text/plain": [
       "'Default'"
      ]
     },
     "execution_count": 34,
     "metadata": {},
     "output_type": "execute_result"
    }
   ],
   "source": [
    "m"
   ]
  },
  {
   "cell_type": "code",
   "execution_count": null,
   "metadata": {},
   "outputs": [],
   "source": [
    "plt.ylim(0,1.2)\n",
    "sns.kdeplot(trace_1, shade=True, alpha=0.65, legend=True, label=v['1'])\n",
    "sns.kdeplot(trace_2, shade=True, alpha=0.65, legend=True, label=v['2'])"
   ]
  },
  {
   "cell_type": "code",
   "execution_count": null,
   "metadata": {},
   "outputs": [],
   "source": [
    "h_bp.groupby('Match ID').first().count()"
   ]
  },
  {
   "cell_type": "code",
   "execution_count": null,
   "metadata": {},
   "outputs": [],
   "source": [
    "h_bp"
   ]
  },
  {
   "cell_type": "code",
   "execution_count": null,
   "metadata": {
    "collapsed": true
   },
   "outputs": [],
   "source": []
  }
 ],
 "metadata": {
  "kernelspec": {
   "display_name": "Python 3",
   "language": "python",
   "name": "python3"
  },
  "language_info": {
   "codemirror_mode": {
    "name": "ipython",
    "version": 3
   },
   "file_extension": ".py",
   "mimetype": "text/x-python",
   "name": "python",
   "nbconvert_exporter": "python",
   "pygments_lexer": "ipython3",
   "version": "3.6.2"
  }
 },
 "nbformat": 4,
 "nbformat_minor": 2
}
