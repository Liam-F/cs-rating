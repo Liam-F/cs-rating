{
 "cells": [
  {
   "cell_type": "markdown",
   "metadata": {},
   "source": [
    "## Win/Loss Rating Model Prediction\n",
    "\n",
    "Load the model and make predictions"
   ]
  },
  {
   "cell_type": "code",
   "execution_count": 7,
   "metadata": {
    "collapsed": true
   },
   "outputs": [],
   "source": [
    "import pandas as pd\n",
    "import numpy as np\n",
    "import pymc3 as pm\n",
    "import seaborn as sns\n",
    "import datetime as dt\n",
    "import matplotlib.pyplot as plt\n",
    "from scipy.stats import norm\n",
    "from spcl_case import *\n",
    "plt.style.use('fivethirtyeight')\n",
    "%matplotlib inline"
   ]
  },
  {
   "cell_type": "markdown",
   "metadata": {},
   "source": [
    "### Get a list of all CS Games"
   ]
  },
  {
   "cell_type": "code",
   "execution_count": 31,
   "metadata": {
    "scrolled": true
   },
   "outputs": [
    {
     "name": "stdout",
     "output_type": "stream",
     "text": [
      "Date: 2017-10-30  |  Event: ESEA MDL Season 26  | (BO1) TEAM5 vs. Nexus  |  (52.3:47.7) | Total Coins: 8601\n",
      "Date: 2017-10-30  |  Event: ESEA MDL Season 26  | (BO1) Kinguin vs. Red Reserve  |  (64.8:35.2) | Total Coins: 12093\n",
      "Date: 2017-10-30  |  Event: ESEA MDL Season 26  | (BO1) Red Reserve vs. Nexus  |  (73.7:26.3) | Total Coins: 6644\n",
      "Date: 2017-10-30  |  Event: ESEA MDL Season 26  | (BO1) Kinguin vs. Space Soldiers  |  (19.7:80.3) | Total Coins: 8134\n",
      "Date: 2017-10-30  |  Event: ESEA MDL Season 26  | (BO1) Fragsters vs. igame.com  |  (65.9:34.1) | Total Coins: 5134\n",
      "Date: 2017-10-30  |  Event: ESEA MDL Season 26  | (BO1) Nexus vs. aAa  |  (35.0:65.0) | Total Coins: 5000\n",
      "Date: 2017-10-31  |  Event: ESEA MDL Season 26  | (BO1) SoaR vs. Morior Invictus  |  (46.2:53.8) | Total Coins: 5107\n",
      "Date: 2017-10-31  |  Event: ESEA MDL Season 26  | (BO1) Rise Nation vs. Gale Force  |  (59.6:40.4) | Total Coins: 5200\n",
      "Date: 2017-10-31  |  Event: ESEA MDL Season 26  | (BO1) Muffin Lightning vs. Good People  |  (60.8:39.2) | Total Coins: 5100\n",
      "Date: 2017-10-31  |  Event: ESEA MDL Season 26  | (BO1) seadoggs vs. conspiracy  |  (75.2:24.8) | Total Coins: 6986\n",
      "Date: 2017-10-31  |  Event: ESEA MDL Season 26  | (BO1) Noxide vs. SIN  |  (40.0:60.0) | Total Coins: 5000\n",
      "Date: 2017-11-01  |  Event: ESEA MDL Season 26  | (BO1) Gale Force vs. GX  |  (60.0:40.0) | Total Coins: 5000\n",
      "Date: 2017-11-01  |  Event: ESEA MDL Season 26  | (BO1) SoaR vs. Mythic  |  (40.0:60.0) | Total Coins: 5000\n",
      "Date: 2017-11-01  |  Event: ESEA MDL Season 26  | (BO1) CLG Academy vs. Naventic  |  (47.0:53.0) | Total Coins: 5000\n"
     ]
    }
   ],
   "source": [
    "import cfscrape # need nodejs\n",
    "import json\n",
    "scraper = cfscrape.create_scraper()\n",
    "games = json.loads(scraper.get(\"http://thunderpick.com/api/matches\").content)\n",
    "games = pd.DataFrame(games['data'])\n",
    "games = games[games.gameId == 6].sort_values('startTime')\n",
    "games = games[games['championship'].str.contains('ESEA')]\n",
    "\n",
    "bet_games = []\n",
    "for i,v in games.iterrows():\n",
    "    if((v['isTournament'] == False )& (v['canWager'] == True)):\n",
    "        ratio = v['matchBet']['buckets'][0]['amount']/v['matchBet']['buckets'][1]['amount']\n",
    "        odds = (ratio**-1+1, ratio+1)\n",
    "        wr = (odds[1]/np.sum(odds)*100., odds[0]/np.sum(odds)*100.)\n",
    "        det = json.loads(scraper.get('https://thunderpick.com/api/matches/'+str(v['id'])).content)['data']\n",
    "        print('Date: %s  |  Event: %s  | (BO%s) %s vs. %s  |  (%.1f:%.1f) | Total Coins: %i' % \n",
    "              (v['startTime'][:10], v['championship'], det['bestOfMaps'], v['matchBet']['buckets'][0]['label'], \n",
    "               v['matchBet']['buckets'][1]['label'], wr[0], wr[1], v['matchBet']['amount']))\n",
    "        bet_games.append({'1': v['matchBet']['buckets'][0]['label'], '2': v['matchBet']['buckets'][1]['label'], 'bo': det['bestOfMaps'], 'o1': odds[0], 'o2': odds[1], 'wr': wr[0]})\n",
    "bet_games = pd.DataFrame(bet_games)"
   ]
  },
  {
   "cell_type": "markdown",
   "metadata": {},
   "source": [
    "## Load Ratings Model"
   ]
  },
  {
   "cell_type": "code",
   "execution_count": 9,
   "metadata": {
    "collapsed": true
   },
   "outputs": [],
   "source": [
    "TEAM_SET = 'mdleu'\n",
    "\n",
    "teams = np.load('saved_model/'+TEAM_SET+'/teams.npy')\n",
    "maps = np.load('saved_model/'+TEAM_SET+'/maps.npy')\n",
    "filt = np.chararray.lower(np.load('saved_model/'+TEAM_SET+'/filter_teams.npy'))\n",
    "h_teams = pd.read_csv('hltv_csv/teams.csv').set_index('ID').loc[teams]\n",
    "h_teams = fix_teams(h_teams)\n",
    "h_teams.Name = h_teams.Name.str.lower()\n",
    "h_teams_filt = h_teams[h_teams.Name.isin(filt)]\n",
    "\n",
    "rating_model = prep_pymc_model(len(teams), len(maps))\n",
    "trace = pm.backends.text.load('saved_model/'+TEAM_SET+'/trace', model=rating_model)"
   ]
  },
  {
   "cell_type": "markdown",
   "metadata": {
    "collapsed": true
   },
   "source": [
    "## Ban/Pick Predictions"
   ]
  },
  {
   "cell_type": "code",
   "execution_count": 10,
   "metadata": {
    "collapsed": true
   },
   "outputs": [],
   "source": [
    "h_bp = pd.read_csv('hltv_csv/picksAndBans.csv').set_index('Match ID')\n",
    "h_matches = pd.read_csv('hltv_csv/matchResults.csv').set_index('Match ID')\n",
    "h_matches['Date'] = pd.to_datetime(h_matches['Date'])\n",
    "h_matches = h_matches[h_matches['Date'] >= dt.datetime(2017,1,1)]\n",
    "h_bp = h_bp.join(h_matches[['Date']], how='left')\n",
    "h_bp['Date'] = pd.to_datetime(h_bp['Date'])\n",
    "h_bp = h_bp[h_bp['Date'] >= dt.datetime(2017,1,1)]"
   ]
  },
  {
   "cell_type": "code",
   "execution_count": 11,
   "metadata": {
    "collapsed": true
   },
   "outputs": [],
   "source": [
    "def model_mp(train, t1, t2):\n",
    "    tab = train[train['Team'].isin([t1, t2])].groupby(['Team', ' Pick Type', 'Map'])['Date'].count().unstack([' Pick Type', 'Team']).fillna(0)\n",
    "    return (tab/tab.sum(axis=0)).mean(level=0,axis=1)# get average\n",
    "\n",
    "def model_played(train, t1, t2):\n",
    "    a = train[train['Team 1 ID'].isin([t1,t2])].groupby(['Team 1 ID', 'Map'])['Date'].count()\n",
    "    b = train[train['Team 2 ID'].isin([t1,t2])].groupby(['Team 2 ID', 'Map'])['Date'].count()\n",
    "    c = pd.DataFrame([a,b], index=['a','b']).T.fillna(0)\n",
    "    c = (c['a']+c['b']).unstack(level=0).fillna(0)\n",
    "    return (c/c.sum()).mean(axis=1)\n",
    "\n",
    "def predict_map(func, data, t1, t2):\n",
    "    res = func(data, t1, t2)\n",
    "    return res.loc[res.index != 'Default'].sort_values(ascending=False)"
   ]
  },
  {
   "cell_type": "markdown",
   "metadata": {},
   "source": [
    "# Bet Predictions"
   ]
  },
  {
   "cell_type": "code",
   "execution_count": 36,
   "metadata": {
    "scrolled": false
   },
   "outputs": [
    {
     "name": "stdout",
     "output_type": "stream",
     "text": [
      "team5 (0.026) vs nexus (1.330) - P:13.12% - 52.34% - 33.24%  -  K: -3.4% (-151) - 10.7% (479)\n",
      "kinguin (1.598) vs japaleno (1.133) - P:48.54% - 64.82% - 72.78%  -  K: 4.7% (213) - 3.1% (141)\n",
      "japaleno (1.133) vs nexus (1.330) - P:31.96% - 73.66% - 58.62%  -  K: 0.0% (0) - 7.0% (312)\n",
      "kinguin (1.598) vs space soldiers (2.443) - P:21.36% - 19.67% - 40.38%  -  K: 2.1% (95) - 7.4% (330)\n",
      "fragsters (1.186) vs igame.com (1.074) - P:41.28% - 65.91% - 64.20%  -  K: 2.7% (120) - 4.8% (217)\n",
      "nexus (1.330) vs aaa (0.804) - P:43.22% - 35.00% - 78.90%  -  K: 6.8% (304) - 0.3% (13)\n"
     ]
    }
   ],
   "source": [
    "money = 4500.\n",
    "bet_games['1'] = bet_games['1'].str.lower().replace({'ex-denial': 'denial', 'red reserve': 'japaleno'})\n",
    "bet_games['2'] = bet_games['2'].str.lower().replace({'ex-denial': 'denial', 'red reserve': 'japaleno'})\n",
    "matches = bet_games[bet_games['1'].isin(filt) & bet_games['2'].isin(filt)].drop_duplicates()\n",
    "def sig(x):\n",
    "    return 1 / (1 + np.exp(-x))\n",
    "def abs_norm_interval(start,end,loc,scale):\n",
    "    return (norm.cdf(end,loc,scale) - norm.cdf(start,loc,scale)) + (norm.cdf(-1*start,loc,scale) - norm.cdf(-1*end,loc,scale))\n",
    "\n",
    "t_rating = trace['rating']\n",
    "t_map_rating = trace['rating | map']\n",
    "t_alpha = 0.3485\n",
    "for i,v in matches.iterrows():\n",
    "    t1_id = h_teams_filt[h_teams_filt.Name == v['1']].index[0]; t1_ind = np.where(teams == t1_id)[0][0];\n",
    "    t2_id = h_teams_filt[h_teams_filt.Name == v['2']].index[0]; t2_ind = np.where(teams == t2_id)[0][0];\n",
    "    trace_1 = t_rating[:,t1_ind]; trace_2 = t_rating[:,t2_ind]\n",
    "    mr_1 = trace_1.mean(); mr_2 = trace_2.mean();\n",
    "    diff = trace_1-trace_2\n",
    "    p_wl = sig(diff)\n",
    "    wr_25 = np.percentile(p_wl, 25); wr_75 = np.percentile(p_wl, 75)\n",
    "    kelly_pct_1 = ((v['o1']*np.percentile(p_wl, 45)-(1.-np.percentile(p_wl, 45)))/v['o1'])*0.15\n",
    "    kelly_pct_2 = ((v['o2']*(1.-np.percentile(p_wl, 45))-(np.percentile(p_wl, 45)))/v['o2'])*0.15\n",
    "    print('%s (%.3f) vs %s (%.3f) - P:%.2f%% - %.2f%% - %.2f%%  -  K: %.1f%% (%i) - %.1f%% (%i)' % \n",
    "          (v['1'], mr_1, v['2'], mr_2,  wr_25*100, v['wr'], wr_75*100, kelly_pct_1*100., \n",
    "           kelly_pct_1*money, kelly_pct_2*100., kelly_pct_2*money))"
   ]
  },
  {
   "cell_type": "code",
   "execution_count": null,
   "metadata": {
    "scrolled": false
   },
   "outputs": [],
   "source": [
    "PRINT_RD_DIFF = False\n",
    "for i,v in matches.iterrows():\n",
    "    t1_id = h_teams_filt[h_teams_filt.Name == v['1']].index[0]; t1_ind = np.where(teams == t1_id)[0][0];\n",
    "    t2_id = h_teams_filt[h_teams_filt.Name == v['2']].index[0]; t2_ind = np.where(teams == t2_id)[0][0];\n",
    "    print('---------- %s vs %s ---------------------------------' % (v['1'], v['2']))\n",
    "    pred_maps = predict_map(model_played, h_matches, t1_id, t2_id)\n",
    "    pred_maps = pred_maps/pred_maps.sum()\n",
    "    for m,s in pred_maps.iteritems():\n",
    "        m_ind = np.where(maps == m)[0][0]\n",
    "        trace_1 = t_map_rating[:,m_ind,t1_ind]; trace_2 = t_map_rating[:,m_ind,t2_ind]\n",
    "        mr_1 = trace_1.mean(); mr_2 = trace_2.mean();\n",
    "        diff = trace_1-trace_2\n",
    "        p_wl = sig(diff)\n",
    "        wr_25 = np.percentile(p_wl, 25); wr_75 = np.percentile(p_wl, 75)\n",
    "        kappa = 32*sig(t_alpha*diff)-16.\n",
    "        kelly_pct_1 = ((v['o1']*np.percentile(p_wl, 45)-(1.-np.percentile(p_wl, 45)))/v['o1'])*0.1\n",
    "        kelly_pct_2 = ((v['o2']*(1.-np.percentile(p_wl, 45))-(np.percentile(p_wl, 45)))/v['o2'])*0.1\n",
    "        print('    Map: %s (%.2f)  -  %s (%.3f) vs %s (%.3f) - P:%.2f%% - %.2f%% - %.2f%%  -  K: %.1f%% (%i) - %.1f%% (%i)' % \n",
    "             (m, s*100., v['1'], mr_1, v['2'], mr_2,  wr_25*100, v['wr'], wr_75*100, kelly_pct_1*100., \n",
    "               kelly_pct_1*money, kelly_pct_2*100., kelly_pct_2*money))\n",
    "        \n",
    "        if(PRINT_RD_DIFF):\n",
    "            p_sc = [abs_norm_interval(x[0],x[1],kappa,trace['sigma'][:,m_ind]) for x in [[1.5,3.5],[3.5,5.5],[5.5,7.5],[7.5,9.5],[9.5,16]]]\n",
    "            for i,sd in enumerate(['2 - 3 Rounds', '4 - 5 rounds', '6 - 7 rounds', '8 - 9 rounds', '10 rounds or more']):\n",
    "                sc_25 = np.percentile(p_sc[i], 25); sc_75 = np.percentile(p_sc[i], 75)\n",
    "                print('      %s : %.2f%% - %.2f%%' % (sd, sc_25*100, sc_75*100))"
   ]
  },
  {
   "cell_type": "code",
   "execution_count": null,
   "metadata": {
    "collapsed": true
   },
   "outputs": [],
   "source": [
    "np.inner(np.ones((8,25)), np.ones((8,25))).shape"
   ]
  },
  {
   "cell_type": "code",
   "execution_count": null,
   "metadata": {
    "collapsed": true
   },
   "outputs": [],
   "source": [
    "np.ones((8,25)).flatten().shape"
   ]
  },
  {
   "cell_type": "code",
   "execution_count": null,
   "metadata": {
    "collapsed": true
   },
   "outputs": [],
   "source": [
    "np.zeros((8000, 200))"
   ]
  },
  {
   "cell_type": "code",
   "execution_count": null,
   "metadata": {
    "collapsed": true
   },
   "outputs": [],
   "source": [
    "plt.ylim(0,1.2)\n",
    "sns.kdeplot(trace_1, shade=True, alpha=0.65, legend=True, label=v['1'])\n",
    "sns.kdeplot(trace_2, shade=True, alpha=0.65, legend=True, label=v['2'])"
   ]
  },
  {
   "cell_type": "code",
   "execution_count": null,
   "metadata": {
    "collapsed": true
   },
   "outputs": [],
   "source": [
    "h_bp.groupby('Match ID').first().count()"
   ]
  },
  {
   "cell_type": "code",
   "execution_count": null,
   "metadata": {
    "collapsed": true
   },
   "outputs": [],
   "source": [
    "h_bp"
   ]
  },
  {
   "cell_type": "code",
   "execution_count": null,
   "metadata": {
    "collapsed": true
   },
   "outputs": [],
   "source": []
  }
 ],
 "metadata": {
  "kernelspec": {
   "display_name": "Python 3",
   "language": "python",
   "name": "python3"
  },
  "language_info": {
   "codemirror_mode": {
    "name": "ipython",
    "version": 3
   },
   "file_extension": ".py",
   "mimetype": "text/x-python",
   "name": "python",
   "nbconvert_exporter": "python",
   "pygments_lexer": "ipython3",
   "version": "3.6.2"
  }
 },
 "nbformat": 4,
 "nbformat_minor": 2
}
