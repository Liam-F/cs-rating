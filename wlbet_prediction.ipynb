{
 "cells": [
  {
   "cell_type": "markdown",
   "metadata": {},
   "source": [
    "## Win/Loss Rating Model Prediction\n",
    "\n",
    "Load the model and make predictions"
   ]
  },
  {
   "cell_type": "code",
   "execution_count": 1,
   "metadata": {},
   "outputs": [],
   "source": [
    "import requests\n",
    "import pandas as pd\n",
    "import numpy as np\n",
    "import pymc3 as pm\n",
    "import seaborn as sns\n",
    "import datetime as dt\n",
    "import matplotlib.pyplot as plt\n",
    "from scipy.stats import norm\n",
    "from spcl_case import *\n",
    "plt.style.use('fivethirtyeight')\n",
    "%matplotlib inline"
   ]
  },
  {
   "cell_type": "markdown",
   "metadata": {},
   "source": [
    "### Get a list of all CS Games"
   ]
  },
  {
   "cell_type": "code",
   "execution_count": 2,
   "metadata": {
    "scrolled": true
   },
   "outputs": [
    {
     "name": "stdout",
     "output_type": "stream",
     "text": [
      "Date: 2017-10-26  |  Event: ECS Season 4 Development League  | (BO1) Ghost vs. Immortals  |  (37.0:63.0) | Total Coins: 2000\n",
      "Date: 2017-10-25  |  Event: ECS Season 4 Development League  | (BO1) EnVyUs vs. fnatic  |  (52.0:48.0) | Total Coins: 2000\n",
      "Date: 2017-10-25  |  Event: ECS Season 4 Development League  | (BO1) fnatic vs. EnVyUs  |  (45.0:55.0) | Total Coins: 2000\n",
      "Date: 2017-10-25  |  Event: ECS Season 4 Development League  | (BO1) FaZe vs. mousesports  |  (63.2:36.8) | Total Coins: 10324\n",
      "Date: 2017-10-25  |  Event: ECS Season 4 Development League  | (BO1) mousesports vs. FaZe  |  (36.1:63.9) | Total Coins: 2050\n",
      "Date: 2017-10-24  |  Event: ECS Season 4 Development League  | (BO1) G2 vs. Heroic  |  (68.5:31.5) | Total Coins: 2540\n",
      "Date: 2017-10-26  |  Event: ECS Season 4 Development League  | (BO1) Liquid vs. SK  |  (40.0:60.0) | Total Coins: 10000\n",
      "Date: 2017-10-26  |  Event: ECS Season 4 Development League  | (BO1) SK vs. Liquid  |  (62.8:37.2) | Total Coins: 2150\n",
      "Date: 2017-10-25  |  Event: ECS Season 4 Development League  | (BO1) Luminosity vs. Immortals  |  (40.0:60.0) | Total Coins: 2000\n",
      "Date: 2017-10-26  |  Event: ECS Season 4 Development League  | (BO1) Immortals vs. Ghost  |  (61.0:39.0) | Total Coins: 2050\n",
      "Date: 2017-10-24  |  Event: ECS Season 4 Development League  | (BO1) GODSENT vs. fnatic  |  (39.0:61.0) | Total Coins: 2050\n",
      "Date: 2017-10-24  |  Event: ECS Season 4 Development League  | (BO1) Heroic vs. G2  |  (37.7:62.3) | Total Coins: 2121\n",
      "Date: 2017-10-25  |  Event: ECS Season 4 Development League  | (BO1) Cloud9 vs. Luminosity  |  (61.4:38.6) | Total Coins: 10350\n",
      "Date: 2017-10-26  |  Event: ECS Season 4 Development League  | (BO1) EnVyUs vs. FaZe  |  (37.0:63.0) | Total Coins: 10000\n",
      "Date: 2017-10-26  |  Event: ECS Season 4 Development League  | (BO1) FaZe vs. EnVyUs  |  (63.0:37.0) | Total Coins: 10000\n",
      "Date: 2017-10-26  |  Event: ECS Season 4 Development League  | (BO1) NiP vs. fnatic  |  (57.0:43.0) | Total Coins: 10000\n",
      "Date: 2017-10-26  |  Event: ECS Season 4 Development League  | (BO1) fnatic vs. NiP  |  (43.0:57.0) | Total Coins: 10000\n",
      "Date: 2017-10-27  |  Event: ECS Season 4 Development League  | (BO1) OpTic vs. Liquid  |  (60.0:40.0) | Total Coins: 10000\n",
      "Date: 2017-10-27  |  Event: ECS Season 4 Development League  | (BO1) Liquid vs. OpTic  |  (40.0:60.0) | Total Coins: 10000\n",
      "Date: 2017-10-27  |  Event: ECS Season 4 Development League  | (BO1) NRG vs. CLG  |  (43.0:57.0) | Total Coins: 10000\n",
      "Date: 2017-10-25  |  Event: ECS Season 4 Development League  | (BO1) Immortals vs. Luminosity  |  (60.0:40.0) | Total Coins: 2000\n",
      "Date: 2017-10-27  |  Event: ECS Season 4 Development League  | (BO1) CLG vs. NRG  |  (57.0:43.0) | Total Coins: 10000\n",
      "Date: 2017-10-25  |  Event: ECS Season 4 Development League  | (BO1) Luminosity vs. Cloud9  |  (39.8:60.2) | Total Coins: 10050\n",
      "Date: 2017-10-24  |  Event: ECS Season 4 Development League  | (BO1) fnatic vs. GODSENT  |  (65.6:34.4) | Total Coins: 2325\n",
      "Date: 2017-10-25  |  Event: ESEA MDL Season 26  | (BO1) Iceberg vs. ANTI ECO  |  (60.0:40.0) | Total Coins: 4000\n",
      "Date: 2017-10-25  |  Event: ESEA MDL Season 26  | (BO1) GX vs. Mythic  |  (63.9:36.1) | Total Coins: 2384\n",
      "Date: 2017-10-24  |  Event: ESEA MDL Season 26  | (BO1) ex-Nitrious vs. Rise Nation  |  (22.7:77.3) | Total Coins: 7263\n",
      "Date: 2017-10-26  |  Event: ESEA MDL Season 26  | (BO1) FRENCH CANADIANS vs. Gale Force  |  (53.3:46.7) | Total Coins: 4500\n",
      "Date: 2017-10-26  |  Event: ESEA MDL Season 26  | (BO1) ex-Denial vs. FRENCH CANADIANS  |  (40.0:60.0) | Total Coins: 4000\n",
      "Date: 2017-10-26  |  Event: ESEA MDL Season 26  | (BO1) GX vs. SoaR  |  (66.0:34.0) | Total Coins: 4700\n",
      "Date: 2017-10-27  |  Event: ESEA MDL Season 26  | (BO1) Gale Force vs. Beacon  |  (60.0:40.0) | Total Coins: 4500\n",
      "Date: 2017-10-27  |  Event: ESEA MDL Season 26  | (BO1) LFAO vs. ANTI ECO  |  (60.0:40.0) | Total Coins: 4300\n",
      "Date: 2017-10-26  |  Event: ESEA MDL Season 26  | (BO1) Mythic vs. Torqued  |  (44.2:55.8) | Total Coins: 4300\n",
      "Date: 2017-10-25  |  Event: ESEA MDL Season 26  | (BO1) Adaptation vs. Rise Nation  |  (40.0:60.0) | Total Coins: 2000\n",
      "Date: 2017-10-25  |  Event: ESEA MDL Season 26  | (BO1) Beacon vs. ex-Denial  |  (43.0:57.0) | Total Coins: 4000\n",
      "Date: 2017-10-25  |  Event: ESEA MDL Season 26  | (BO1) GX vs. subtLe  |  (65.6:34.4) | Total Coins: 2500\n",
      "Date: 2017-10-24  |  Event: ESEA MDL Season 26  | (BO1) subtLe vs. Morior Invictus  |  (60.0:40.0) | Total Coins: 2000\n",
      "Date: 2017-10-24  |  Event: ESEA MDL Season 26  | (BO1) Mythic vs. ex-Denial  |  (71.8:28.2) | Total Coins: 5599\n",
      "Date: 2017-10-24  |  Event: ESEA MDL Season 26  | (BO1) ANTI ECO vs. CLG Academy  |  (28.4:71.6) | Total Coins: 2779\n",
      "Date: 2017-10-24  |  Event: ESEA MDL Season 26  | (BO1) Good People vs. Ambition  |  (70.0:30.0) | Total Coins: 4000\n",
      "Date: 2017-10-24  |  Event: ESEA MDL Season 26  | (BO1) Torqued vs. subtLe  |  (65.0:35.0) | Total Coins: 4000\n",
      "Date: 2017-10-24  |  Event: ESEA MDL Season 26  | (BO1) SYF vs. Corvidae  |  (43.4:56.6) | Total Coins: 4150\n",
      "Date: 2017-10-24  |  Event: ESEA MDL Season 26  | (BO1) SYF vs. Athletico  |  (40.0:60.0) | Total Coins: 4000\n",
      "Date: 2017-10-24  |  Event: ESEA MDL Season 26  | (BO1) Kings vs. Chiefs  |  (60.5:39.5) | Total Coins: 4050\n",
      "Date: 2017-10-25  |  Event: ESEA MDL Season 26  | (BO1) Naventic vs. Muffin Lightning  |  (45.0:55.0) | Total Coins: 2000\n",
      "Date: 2017-10-24  |  Event: ESEA MDL Season 26  | (BO1) Grayhound vs. Legacy  |  (60.0:40.0) | Total Coins: 4000\n",
      "Date: 2017-10-24  |  Event: ESEA MDL Season 26  | (BO1) Athletico vs. seadoggs  |  (67.0:33.0) | Total Coins: 4000\n",
      "Date: 2017-10-24  |  Event: ESEA MDL Season 26  | (BO1) Athletico vs. Kings  |  (40.0:60.0) | Total Coins: 4000\n",
      "Date: 2017-10-24  |  Event: ESEA MDL Season 26  | (BO1) Kinguin vs. igame.com  |  (65.0:35.0) | Total Coins: 4000\n",
      "Date: 2017-10-24  |  Event: ESEA MDL Season 26  | (BO1) eXtatus vs. PRIDE  |  (65.0:35.0) | Total Coins: 4000\n",
      "Date: 2017-10-24  |  Event: ESEA MDL Season 26  | (BO1) MK vs. Japaleno  |  (35.0:65.0) | Total Coins: 2000\n",
      "Date: 2017-10-24  |  Event: ESEA MDL Season 26  | (BO1) eXtatus vs. Invictus Aquilas  |  (68.0:32.0) | Total Coins: 2000\n",
      "Date: 2017-10-24  |  Event: ESEA MDL Season 26  | (BO1) Invictus Aquilas vs. Singularity  |  (27.0:73.0) | Total Coins: 4000\n",
      "Date: 2017-10-27  |  Event: ESEA MDL Season 26  | (BO1) Ambition vs. Naventic  |  (40.0:60.0) | Total Coins: 4000\n",
      "Date: 2017-10-27  |  Event: ESEA MDL Season 26  | (BO1) Mostly Harmless vs. Iceberg  |  (40.0:60.0) | Total Coins: 4000\n",
      "Date: 2017-10-24  |  Event: Epicenter 2017  | (BO3) Gambit vs. FaZe  |  (25.5:74.5) | Total Coins: 13399\n",
      "Date: 2017-10-24  |  Event: Epicenter 2017  | (BO3) SK vs. Virtus.pro  |  (80.6:19.4) | Total Coins: 32146\n",
      "Date: 2017-10-24  |  Event: Epicenter 2017  | (BO3) North vs. Liquid  |  (61.3:38.7) | Total Coins: 10604\n",
      "Date: 2017-10-24  |  Event: Epicenter 2017  | (BO3) Astralis vs. G2  |  (59.9:40.1) | Total Coins: 12493\n",
      "Date: 2017-10-26  |  Event: Esports Balkan League Season 1  | (BO3) Valiance vs. MK  |  (57.0:43.0) | Total Coins: 4000\n",
      "Date: 2017-10-26  |  Event: Esports Balkan League Season 1  | (BO3) Valiance vs. KlikTech  |  (60.0:40.0) | Total Coins: 4000\n",
      "Date: 2017-10-24  |  Event: Skinhub CS:GO Championship  | (BO1) Valiance vs. igame.com  |  (58.0:42.0) | Total Coins: 4000\n",
      "Date: 2017-10-24  |  Event: WESG 2017  | (BO3) AGO vs. Virtus.pro  |  (33.1:66.9) | Total Coins: 2113\n",
      "Date: 2017-10-24  |  Event: None  | (BO3) BootKamp vs. Brasil Gaming House  |  (71.4:28.6) | Total Coins: 7232\n",
      "Date: 2017-10-24  |  Event: None  | (BO3) EnVyUs Academy vs. Nexus  |  (63.0:37.0) | Total Coins: 2300\n",
      "Date: 2017-10-24  |  Event: None  | (BO3) Spirit Academy vs. eSuba  |  (40.0:60.0) | Total Coins: 2000\n"
     ]
    }
   ],
   "source": [
    "r = requests.get('https://thunderpick.com/api/matches')\n",
    "games = pd.DataFrame(r.json()['data'])\n",
    "games = games[games.gameId == 6].sort_values('championship')\n",
    "\n",
    "bet_games = []\n",
    "for i,v in games.iterrows():\n",
    "    if((v['isTournament'] == False )& (v['canWager'] == True)):\n",
    "        ratio = v['matchBet']['buckets'][0]['amount']/v['matchBet']['buckets'][1]['amount']\n",
    "        odds = (ratio**-1+1, ratio+1)\n",
    "        wr = (odds[1]/np.sum(odds)*100., odds[0]/np.sum(odds)*100.)\n",
    "        det = requests.get('https://thunderpick.com/api/matches/'+str(v['id'])).json()['data']\n",
    "        print('Date: %s  |  Event: %s  | (BO%s) %s vs. %s  |  (%.1f:%.1f) | Total Coins: %i' % \n",
    "              (v['startTime'][:10], v['championship'], det['bestOfMaps'], v['matchBet']['buckets'][0]['label'], \n",
    "               v['matchBet']['buckets'][1]['label'], wr[0], wr[1], v['matchBet']['amount']))\n",
    "        bet_games.append({'1': v['matchBet']['buckets'][0]['label'], '2': v['matchBet']['buckets'][1]['label'], 'bo': det['bestOfMaps'], 'o1': odds[0], 'o2': odds[1], 'wr': wr[0]})\n",
    "bet_games = pd.DataFrame(bet_games)"
   ]
  },
  {
   "cell_type": "markdown",
   "metadata": {},
   "source": [
    "## Load Ratings Model"
   ]
  },
  {
   "cell_type": "code",
   "execution_count": 54,
   "metadata": {},
   "outputs": [],
   "source": [
    "TEAM_SET = 'mdlna'\n",
    "\n",
    "teams = np.load('saved_model/'+TEAM_SET+'/teams.npy')\n",
    "maps = np.load('saved_model/'+TEAM_SET+'/maps.npy')\n",
    "filt = np.load('saved_model/'+TEAM_SET+'/filter_teams.npy')\n",
    "h_teams = pd.read_csv('hltv_csv/teams.csv').set_index('ID').loc[teams]\n",
    "h_teams = fix_teams(h_teams)\n",
    "\n",
    "h_teams_filt = h_teams[h_teams.Name.isin(filt)]\n",
    "\n",
    "def prep_pymc_model(n_teams, n_maps):\n",
    "    with pm.Model() as rating_model:\n",
    "        omega = pm.HalfCauchy('omega', 0.5)\n",
    "        tau = pm.HalfCauchy('tau', 0.5)\n",
    "        rating = pm.Normal('rating', 0, omega, shape=n_teams)\n",
    "        theta_tilde = pm.Normal('rate_t', mu=0, sd=1, shape=(n_maps, n_teams))\n",
    "        rating_map = pm.Deterministic('rating | map', rating + tau * theta_tilde)\n",
    "        alpha = pm.Gamma('alpha', 10, 5)\n",
    "        sigma = pm.HalfCauchy('sigma', 0.5, shape=n_maps)\n",
    "    return rating_model\n",
    "\n",
    "rating_model = prep_pymc_model(len(teams), len(maps))\n",
    "trace = pm.backends.text.load('saved_model/'+TEAM_SET+'/trace', model=rating_model)"
   ]
  },
  {
   "cell_type": "markdown",
   "metadata": {
    "collapsed": true
   },
   "source": [
    "## Ban/Pick Predictions"
   ]
  },
  {
   "cell_type": "code",
   "execution_count": 55,
   "metadata": {},
   "outputs": [],
   "source": [
    "h_bp = pd.read_csv('hltv_csv/picksAndBans.csv').set_index('Match ID')\n",
    "h_matches = pd.read_csv('hltv_csv/matchResults.csv').set_index('Match ID')\n",
    "h_matches['Date'] = pd.to_datetime(h_matches['Date'])\n",
    "h_matches = h_matches[h_matches['Date'] >= dt.datetime(2017,1,1)]\n",
    "h_bp = h_bp.join(h_matches[['Date']], how='left')\n",
    "h_bp['Date'] = pd.to_datetime(h_bp['Date'])\n",
    "h_bp = h_bp[h_bp['Date'] >= dt.datetime(2017,1,1)]"
   ]
  },
  {
   "cell_type": "code",
   "execution_count": 56,
   "metadata": {
    "collapsed": true
   },
   "outputs": [],
   "source": [
    "def model_mp(train, t1, t2):\n",
    "    tab = train[train['Team'].isin([t1, t2])].groupby(['Team', ' Pick Type', 'Map'])['Date'].count().unstack([' Pick Type', 'Team']).fillna(0)\n",
    "    return (tab/tab.sum(axis=0)).mean(level=0,axis=1)# get average\n",
    "\n",
    "def model_played(train, t1, t2):\n",
    "    a = train[train['Team 1 ID'].isin([t1,t2])].groupby(['Team 1 ID', 'Map'])['Date'].count()\n",
    "    b = train[train['Team 2 ID'].isin([t1,t2])].groupby(['Team 2 ID', 'Map'])['Date'].count()\n",
    "    c = pd.DataFrame([a,b], index=['a','b']).T.fillna(0)\n",
    "    c = (c['a']+c['b']).unstack(level=0).fillna(0)\n",
    "    return (c/c.sum()).mean(axis=1)\n",
    "\n",
    "def predict_map(func, data, t1, t2):\n",
    "    res = func(data, t1, t2)\n",
    "    return res.loc[res.index != 'Default'].sort_values(ascending=False)"
   ]
  },
  {
   "cell_type": "markdown",
   "metadata": {},
   "source": [
    "# Bet Predictions"
   ]
  },
  {
   "cell_type": "code",
   "execution_count": 57,
   "metadata": {
    "scrolled": false
   },
   "outputs": [
    {
     "name": "stdout",
     "output_type": "stream",
     "text": [
      "Iceberg (-0.245) vs ANTI ECO (-1.202) - I:60.00% | P:42.17% - 90.23%  -  K: 4.7% (211) - 0.6% (28)\n",
      "GX (2.920) vs Mythic (0.923) - I:63.93% | P:66.75% - 96.31%  -  K: 7.5% (336) - -1.5% (-68)\n",
      "ex-Nitrious (-0.123) vs Rise Nation (2.571) - I:22.68% | P:2.15% - 17.40%  -  K: -1.6% (-72) - 9.1% (407)\n",
      "FRENCH CANADIANS (1.579) vs Gale Force (1.863) - I:53.33% | P:20.84% - 67.66%  -  K: 0.5% (23) - 4.4% (198)\n",
      "Denial (1.820) vs FRENCH CANADIANS (1.579) - I:40.00% | P:33.40% - 77.06%  -  K: 3.3% (148) - 1.7% (74)\n",
      "GX (2.920) vs SoaR (1.345) - I:65.96% | P:55.63% - 94.96%  -  K: 6.5% (292) - -0.6% (-25)\n",
      "Gale Force (1.863) vs Beacon (0.203) - I:60.00% | P:64.69% - 93.65%  -  K: 7.1% (317) - -1.4% (-63)\n",
      "LFAO (0.117) vs ANTI ECO (-1.202) - I:60.00% | P:52.40% - 92.69%  -  K: 6.0% (268) - -0.5% (-21)\n",
      "Mythic (0.923) vs Torqued (1.340) - I:44.19% | P:18.19% - 65.46%  -  K: 0.6% (26) - 4.6% (206)\n",
      "Adaptation (-0.732) vs Rise Nation (2.571) - I:40.00% | P:1.30% - 9.82%  -  K: -3.6% (-161) - 9.5% (429)\n",
      "Beacon (0.203) vs Denial (1.820) - I:43.00% | P:6.86% - 35.69%  -  K: -2.2% (-99) - 7.7% (346)\n",
      "GX (2.920) vs subtLe (-0.236) - I:65.60% | P:86.25% - 98.83%  -  K: 9.1% (410) - -2.7% (-123)\n",
      "subtLe (-0.236) vs Morior Invictus (-0.290) - I:60.00% | P:26.64% - 75.79%  -  K: 1.4% (61) - 3.6% (160)\n",
      "Mythic (0.923) vs Denial (1.820) - I:71.78% | P:13.97% - 50.56%  -  K: -2.7% (-122) - 6.7% (300)\n",
      "ANTI ECO (-1.202) vs CLG Academy (0.469) - I:28.43% | P:6.21% - 35.15%  -  K: -1.1% (-49) - 7.7% (344)\n",
      "Good People (0.409) vs Ambition (-0.835) - I:70.00% | P:49.13% - 92.35%  -  K: 5.4% (244) - 0.5% (21)\n",
      "Torqued (1.340) vs subtLe (-0.236) - I:65.00% | P:61.98% - 93.49%  -  K: 6.6% (298) - -0.7% (-33)\n",
      "Naventic (0.831) vs Muffin Lightning (0.992) - I:45.00% | P:22.49% - 71.47%  -  K: 1.4% (64) - 3.7% (164)\n",
      "Ambition (-0.835) vs Naventic (0.831) - I:40.00% | P:5.25% - 39.12%  -  K: -2.2% (-97) - 7.9% (355)\n",
      "Mostly Harmless (-0.877) vs Iceberg (-0.245) - I:40.00% | P:13.34% - 65.24%  -  K: 0.2% (8) - 5.2% (234)\n"
     ]
    }
   ],
   "source": [
    "money = 4500.\n",
    "bet_games['1'] = bet_games['1'].str.replace('ex-Denial', 'Denial')\n",
    "bet_games['2'] = bet_games['2'].str.replace('ex-Denial', 'Denial')\n",
    "matches = bet_games[bet_games['1'].isin(filt) & bet_games['2'].isin(filt)].drop_duplicates()\n",
    "def sig(x):\n",
    "    return 1 / (1 + np.exp(-x))\n",
    "def abs_norm_interval(start,end,loc,scale):\n",
    "    return (norm.cdf(end,loc,scale) - norm.cdf(start,loc,scale)) + (norm.cdf(-1*start,loc,scale) - norm.cdf(-1*end,loc,scale))\n",
    "\n",
    "t_rating = trace['rating']\n",
    "t_map_rating = trace['rating | map']\n",
    "t_alpha = trace['alpha']\n",
    "for i,v in matches.iterrows():\n",
    "    t1_id = h_teams_filt[h_teams_filt.Name == v['1']].index[0]; t1_ind = np.where(teams == t1_id)[0][0];\n",
    "    t2_id = h_teams_filt[h_teams_filt.Name == v['2']].index[0]; t2_ind = np.where(teams == t2_id)[0][0];\n",
    "    trace_1 = t_rating[:,t1_ind]; trace_2 = t_rating[:,t2_ind]\n",
    "    mr_1 = trace_1.mean(); mr_2 = trace_2.mean();\n",
    "    diff = trace_1-trace_2\n",
    "    p_wl = sig(diff)\n",
    "    wr_25 = np.percentile(p_wl, 25); wr_75 = np.percentile(p_wl, 75)\n",
    "    kelly_pct_1 = ((v['o1']*np.percentile(p_wl, 45)-(1.-np.percentile(p_wl, 45)))/v['o1'])*0.1\n",
    "    kelly_pct_2 = ((v['o2']*(1.-np.percentile(p_wl, 45))-(np.percentile(p_wl, 45)))/v['o2'])*0.1\n",
    "    print('%s (%.3f) vs %s (%.3f) - I:%.2f%% | P:%.2f%% - %.2f%%  -  K: %.1f%% (%i) - %.1f%% (%i)' % \n",
    "          (v['1'], mr_1, v['2'], mr_2, v['wr'], wr_25*100, wr_75*100, kelly_pct_1*100., \n",
    "           kelly_pct_1*money, kelly_pct_2*100., kelly_pct_2*money))"
   ]
  },
  {
   "cell_type": "code",
   "execution_count": 58,
   "metadata": {
    "scrolled": true
   },
   "outputs": [
    {
     "name": "stdout",
     "output_type": "stream",
     "text": [
      "    Map: Mirage (37.80)  -  Iceberg (-1.188) vs ANTI ECO (-2.318) - I:60.00% | P:49.70% - 90.15%  -  K: 5.4% (242) - 0.0% (1)\n",
      "    Map: Train (18.90)  -  Iceberg (0.816) vs ANTI ECO (2.658) - I:60.00% | P:3.49% - 42.49%  -  K: -4.2% (-188) - 8.4% (378)\n",
      "    Map: Inferno (15.07)  -  Iceberg (1.745) vs ANTI ECO (-1.842) - I:60.00% | P:88.32% - 99.36%  -  K: 9.3% (420) - -3.4% (-154)\n",
      "    Map: Overpass (10.53)  -  Iceberg (-0.289) vs ANTI ECO (-0.429) - I:60.00% | P:10.52% - 91.33%  -  K: 0.9% (40) - 4.0% (178)\n",
      "    Map: Cache (9.81)  -  Iceberg (-2.636) vs ANTI ECO (-1.804) - I:60.00% | P:7.53% - 69.95%  -  K: -2.2% (-97) - 6.6% (298)\n",
      "    Map: Nuke (5.26)  -  Iceberg (-0.252) vs ANTI ECO (-2.384) - I:60.00% | P:37.05% - 99.13%  -  K: 7.2% (321) - -1.5% (-67)\n",
      "    Map: Cobblestone (2.63)  -  Iceberg (-0.264) vs ANTI ECO (-3.485) - I:60.00% | P:66.66% - 99.67%  -  K: 9.0% (406) - -3.2% (-142)\n",
      "    Map: Mirage (33.75)  -  GX (3.783) vs Mythic (1.780) - I:63.93% | P:72.25% - 95.18%  -  K: 7.6% (340) - -1.6% (-71)\n",
      "    Map: Inferno (27.23)  -  GX (6.187) vs Mythic (1.264) - I:63.93% | P:97.89% - 99.73%  -  K: 9.8% (443) - -3.5% (-156)\n",
      "    Map: Train (15.84)  -  GX (1.176) vs Mythic (-1.857) - I:63.93% | P:82.71% - 98.86%  -  K: 9.0% (405) - -2.8% (-125)\n",
      "    Map: Cobblestone (8.70)  -  GX (2.882) vs Mythic (2.544) - I:63.93% | P:13.21% - 92.91%  -  K: 1.4% (61) - 3.6% (160)\n",
      "    Map: Cache (6.52)  -  GX (2.897) vs Mythic (1.563) - I:63.93% | P:28.11% - 97.29%  -  K: 5.2% (231) - 0.4% (18)\n",
      "    Map: Overpass (3.62)  -  GX (2.900) vs Mythic (-1.069) - I:63.93% | P:84.00% - 99.81%  -  K: 9.5% (429) - -3.2% (-144)\n",
      "    Map: Nuke (3.62)  -  GX (2.920) vs Mythic (1.764) - I:63.93% | P:23.30% - 97.00%  -  K: 4.7% (209) - 0.8% (37)\n",
      "    Map: Dust2 (0.72)  -  GX (2.946) vs Mythic (2.019) - I:63.93% | P:14.94% - 97.13%  -  K: 3.3% (146) - 2.0% (89)\n",
      "    Map: Mirage (22.10)  -  ex-Nitrious (2.136) vs Rise Nation (2.877) - I:22.68% | P:19.38% - 48.52%  -  K: 1.4% (63) - 4.7% (210)\n",
      "    Map: Inferno (22.10)  -  ex-Nitrious (-2.180) vs Rise Nation (4.515) - I:22.68% | P:0.05% - 0.39%  -  K: -2.3% (-101) - 10.0% (449)\n",
      "    Map: Cobblestone (19.16)  -  ex-Nitrious (0.492) vs Rise Nation (2.975) - I:22.68% | P:2.65% - 22.22%  -  K: -1.4% (-63) - 8.8% (394)\n",
      "    Map: Cache (15.04)  -  ex-Nitrious (-1.709) vs Rise Nation (0.786) - I:22.68% | P:2.81% - 19.22%  -  K: -1.5% (-65) - 8.8% (397)\n",
      "    Map: Nuke (11.24)  -  ex-Nitrious (0.457) vs Rise Nation (3.756) - I:22.68% | P:1.01% - 14.23%  -  K: -1.8% (-82) - 9.4% (421)\n",
      "    Map: Train (5.81)  -  ex-Nitrious (-0.114) vs Rise Nation (4.127) - I:22.68% | P:0.17% - 11.34%  -  K: -2.2% (-96) - 9.8% (442)\n",
      "    Map: Overpass (4.56)  -  ex-Nitrious (-0.175) vs Rise Nation (1.199) - I:22.68% | P:3.06% - 67.51%  -  K: -0.4% (-17) - 7.3% (327)\n",
      "    Map: Inferno (21.61)  -  FRENCH CANADIANS (2.071) vs Gale Force (1.889) - I:53.33% | P:38.11% - 69.72%  -  K: 2.6% (114) - 2.5% (110)\n",
      "    Map: Mirage (17.73)  -  FRENCH CANADIANS (-0.270) vs Gale Force (0.033) - I:53.33% | P:25.84% - 60.79%  -  K: 0.7% (32) - 4.2% (189)\n",
      "    Map: Train (17.29)  -  FRENCH CANADIANS (-0.239) vs Gale Force (-0.009) - I:53.33% | P:28.39% - 61.55%  -  K: 0.9% (42) - 4.0% (179)\n",
      "    Map: Cobblestone (16.68)  -  FRENCH CANADIANS (1.641) vs Gale Force (3.307) - I:53.33% | P:6.71% - 33.48%  -  K: -3.2% (-145) - 8.0% (359)\n",
      "    Map: Cache (12.53)  -  FRENCH CANADIANS (1.190) vs Gale Force (3.612) - I:53.33% | P:2.92% - 21.40%  -  K: -4.2% (-190) - 8.9% (402)\n",
      "    Map: Overpass (11.18)  -  FRENCH CANADIANS (4.873) vs Gale Force (3.545) - I:53.33% | P:51.21% - 92.97%  -  K: 6.2% (276) - -1.0% (-44)\n",
      "    Map: Nuke (2.99)  -  FRENCH CANADIANS (3.068) vs Gale Force (1.830) - I:53.33% | P:27.92% - 96.81%  -  K: 5.2% (235) - -0.1% (-5)\n",
      "    Map: Cache (17.18)  -  Denial (2.007) vs FRENCH CANADIANS (1.190) - I:40.00% | P:54.30% - 81.00%  -  K: 5.3% (240) - -0.7% (-30)\n",
      "    Map: Inferno (16.63)  -  Denial (1.711) vs FRENCH CANADIANS (2.071) - I:40.00% | P:28.31% - 55.61%  -  K: 1.4% (64) - 3.8% (170)\n",
      "    Map: Train (15.55)  -  Denial (1.191) vs FRENCH CANADIANS (-0.239) - I:40.00% | P:69.91% - 87.96%  -  K: 7.0% (314) - -2.6% (-115)\n",
      "    Map: Mirage (13.82)  -  Denial (1.112) vs FRENCH CANADIANS (-0.270) - I:40.00% | P:65.39% - 88.89%  -  K: 6.9% (309) - -2.4% (-109)\n",
      "    Map: Overpass (13.43)  -  Denial (1.973) vs FRENCH CANADIANS (4.873) - I:40.00% | P:1.93% - 13.96%  -  K: -3.3% (-150) - 9.3% (416)\n",
      "    Map: Cobblestone (12.87)  -  Denial (3.237) vs FRENCH CANADIANS (1.641) - I:40.00% | P:67.60% - 92.06%  -  K: 7.3% (328) - -2.9% (-131)\n",
      "    Map: Nuke (9.21)  -  Denial (2.173) vs FRENCH CANADIANS (3.068) - I:40.00% | P:15.50% - 48.60%  -  K: -0.3% (-15) - 5.8% (261)\n",
      "    Map: Dust2 (1.31)  -  Denial (3.176) vs FRENCH CANADIANS (1.630) - I:40.00% | P:35.66% - 97.47%  -  K: 6.6% (296) - -2.1% (-94)\n",
      "    Map: Mirage (33.93)  -  GX (3.783) vs SoaR (0.650) - I:65.96% | P:87.41% - 98.55%  -  K: 9.1% (409) - -2.7% (-120)\n",
      "    Map: Inferno (26.43)  -  GX (6.187) vs SoaR (3.264) - I:65.96% | P:83.80% - 98.40%  -  K: 8.9% (399) - -2.5% (-112)\n",
      "    Map: Cobblestone (17.50)  -  GX (2.882) vs SoaR (4.207) - I:65.96% | P:2.58% - 72.13%  -  K: -4.2% (-187) - 8.0% (362)\n",
      "    Map: Train (9.64)  -  GX (1.176) vs SoaR (2.024) - I:65.96% | P:5.08% - 78.39%  -  K: -2.7% (-121) - 6.9% (308)\n",
      "    Map: Nuke (7.50)  -  GX (2.920) vs SoaR (3.052) - I:65.96% | P:7.64% - 90.17%  -  K: -0.6% (-26) - 5.1% (231)\n",
      "    Map: Overpass (2.50)  -  GX (2.900) vs SoaR (-0.403) - I:65.96% | P:66.02% - 99.70%  -  K: 9.1% (408) - -2.7% (-119)\n",
      "    Map: Cache (2.50)  -  GX (2.897) vs SoaR (-2.257) - I:65.96% | P:93.16% - 99.95%  -  K: 9.8% (442) - -3.3% (-146)\n",
      "    Map: Inferno (19.90)  -  Gale Force (1.889) vs Beacon (2.069) - I:60.00% | P:25.72% - 68.35%  -  K: 0.7% (33) - 4.1% (184)\n",
      "    Map: Train (18.33)  -  Gale Force (-0.009) vs Beacon (1.528) - I:60.00% | P:8.40% - 34.25%  -  K: -3.5% (-158) - 7.8% (352)\n",
      "    Map: Mirage (15.52)  -  Gale Force (0.033) vs Beacon (0.048) - I:60.00% | P:27.31% - 72.10%  -  K: 1.1% (51) - 3.7% (168)\n",
      "    Map: Cobblestone (14.71)  -  Gale Force (3.307) vs Beacon (2.983) - I:60.00% | P:22.14% - 87.09%  -  K: 2.2% (99) - 2.8% (126)\n",
      "    Map: Overpass (13.95)  -  Gale Force (3.545) vs Beacon (-1.990) - I:60.00% | P:98.60% - 99.88%  -  K: 9.9% (446) - -3.9% (-176)\n",
      "    Map: Cache (13.57)  -  Gale Force (3.612) vs Beacon (-1.392) - I:60.00% | P:97.83% - 99.78%  -  K: 9.9% (443) - -3.9% (-174)\n",
      "    Map: Nuke (4.00)  -  Gale Force (1.830) vs Beacon (-1.814) - I:60.00% | P:78.60% - 99.74%  -  K: 9.4% (422) - -3.5% (-156)\n",
      "    Map: Mirage (29.28)  -  LFAO (-0.495) vs ANTI ECO (-2.318) - I:60.00% | P:63.77% - 95.35%  -  K: 7.1% (321) - -1.5% (-67)\n",
      "    Map: Inferno (23.03)  -  LFAO (3.626) vs ANTI ECO (-1.842) - I:60.00% | P:98.41% - 99.88%  -  K: 9.9% (445) - -3.9% (-176)\n",
      "    Map: Nuke (17.76)  -  LFAO (-0.887) vs ANTI ECO (-2.384) - I:60.00% | P:38.46% - 96.57%  -  K: 5.8% (262) - -0.4% (-16)\n",
      "    Map: Overpass (16.78)  -  LFAO (-1.631) vs ANTI ECO (-0.429) - I:60.00% | P:6.40% - 59.61%  -  K: -2.9% (-131) - 7.3% (328)\n",
      "    Map: Train (5.26)  -  LFAO (0.112) vs ANTI ECO (2.658) - I:60.00% | P:0.74% - 46.69%  -  K: -5.2% (-236) - 9.3% (420)\n",
      "    Map: Cache (5.26)  -  LFAO (0.070) vs ANTI ECO (-1.804) - I:60.00% | P:37.84% - 98.53%  -  K: 6.7% (301) - -1.1% (-50)\n",
      "    Map: Cobblestone (2.63)  -  LFAO (0.137) vs ANTI ECO (-3.485) - I:60.00% | P:75.02% - 99.77%  -  K: 9.3% (417) - -3.4% (-151)\n",
      "    Map: Cache (25.27)  -  Mythic (1.563) vs Torqued (0.660) - I:44.19% | P:47.88% - 86.52%  -  K: 5.3% (236) - -0.5% (-20)\n",
      "    Map: Train (17.03)  -  Mythic (-1.857) vs Torqued (2.991) - I:44.19% | P:0.27% - 2.48%  -  K: -4.3% (-194) - 9.9% (445)\n",
      "    Map: Cobblestone (14.95)  -  Mythic (2.544) vs Torqued (1.068) - I:44.19% | P:56.29% - 93.67%  -  K: 6.8% (303) - -2.1% (-93)\n",
      "    Map: Mirage (14.40)  -  Mythic (1.780) vs Torqued (-0.742) - I:44.19% | P:69.41% - 98.51%  -  K: 8.5% (383) - -4.0% (-178)\n",
      "    Map: Inferno (14.13)  -  Mythic (1.264) vs Torqued (5.133) - I:44.19% | P:0.74% - 5.83%  -  K: -4.2% (-187) - 9.7% (437)\n"
     ]
    },
    {
     "name": "stdout",
     "output_type": "stream",
     "text": [
      "    Map: Overpass (9.87)  -  Mythic (-1.069) vs Torqued (0.025) - I:44.19% | P:7.40% - 58.17%  -  K: -1.5% (-68) - 6.9% (308)\n",
      "    Map: Nuke (3.62)  -  Mythic (1.764) vs Torqued (1.353) - I:44.19% | P:13.45% - 93.49%  -  K: 2.7% (122) - 2.3% (102)\n",
      "    Map: Dust2 (0.72)  -  Mythic (2.019) vs Torqued (1.316) - I:44.19% | P:13.36% - 96.45%  -  K: 3.5% (159) - 1.4% (62)\n",
      "    Map: Mirage (23.89)  -  Adaptation (-0.088) vs Rise Nation (2.877) - I:40.00% | P:2.51% - 9.54%  -  K: -3.4% (-152) - 9.3% (418)\n",
      "    Map: Inferno (22.10)  -  Adaptation (-0.978) vs Rise Nation (4.515) - I:40.00% | P:0.19% - 0.96%  -  K: -3.9% (-177) - 9.9% (447)\n",
      "    Map: Train (16.57)  -  Adaptation (-0.229) vs Rise Nation (4.127) - I:40.00% | P:0.51% - 3.26%  -  K: -3.8% (-173) - 9.8% (442)\n",
      "    Map: Cobblestone (16.17)  -  Adaptation (-0.075) vs Rise Nation (2.975) - I:40.00% | P:1.65% - 11.65%  -  K: -3.5% (-155) - 9.4% (421)\n",
      "    Map: Overpass (9.94)  -  Adaptation (-1.193) vs Rise Nation (1.199) - I:40.00% | P:2.81% - 23.80%  -  K: -3.0% (-134) - 8.9% (398)\n",
      "    Map: Nuke (8.85)  -  Adaptation (-2.717) vs Rise Nation (3.756) - I:40.00% | P:0.03% - 0.94%  -  K: -4.0% (-179) - 10.0% (449)\n",
      "    Map: Cache (2.49)  -  Adaptation (-0.706) vs Rise Nation (0.786) - I:40.00% | P:2.71% - 64.41%  -  K: -2.1% (-95) - 7.9% (353)\n",
      "    Map: Cache (18.24)  -  Beacon (-1.392) vs Denial (2.007) - I:43.00% | P:1.63% - 6.64%  -  K: -3.9% (-174) - 9.5% (429)\n",
      "    Map: Train (16.60)  -  Beacon (1.528) vs Denial (1.191) - I:43.00% | P:36.11% - 77.51%  -  K: 3.4% (152) - 1.6% (70)\n",
      "    Map: Overpass (16.22)  -  Beacon (-1.990) vs Denial (1.973) - I:43.00% | P:0.71% - 5.14%  -  K: -4.1% (-183) - 9.7% (438)\n",
      "    Map: Inferno (14.92)  -  Beacon (2.069) vs Denial (1.711) - I:43.00% | P:37.09% - 77.16%  -  K: 3.4% (154) - 1.5% (68)\n",
      "    Map: Mirage (11.59)  -  Beacon (0.048) vs Denial (1.112) - I:43.00% | P:11.61% - 47.63%  -  K: -1.1% (-48) - 6.5% (291)\n",
      "    Map: Cobblestone (10.89)  -  Beacon (2.983) vs Denial (3.237) - I:43.00% | P:13.62% - 78.39%  -  K: 0.8% (37) - 4.4% (196)\n",
      "    Map: Nuke (10.24)  -  Beacon (-1.814) vs Denial (2.173) - I:43.00% | P:0.48% - 6.68%  -  K: -4.1% (-183) - 9.8% (439)\n",
      "    Map: Dust2 (1.31)  -  Beacon (0.158) vs Denial (3.176) - I:43.00% | P:0.57% - 28.58%  -  K: -3.8% (-172) - 9.5% (426)\n",
      "    Map: Mirage (29.65)  -  GX (3.783) vs subtLe (-1.405) - I:65.60% | P:98.23% - 99.81%  -  K: 9.9% (444) - -3.3% (-150)\n",
      "    Map: Inferno (28.96)  -  GX (6.187) vs subtLe (1.403) - I:65.60% | P:97.51% - 99.70%  -  K: 9.8% (442) - -3.3% (-148)\n",
      "    Map: Train (13.99)  -  GX (1.176) vs subtLe (0.323) - I:65.60% | P:34.43% - 91.56%  -  K: 4.2% (188) - 1.3% (57)\n",
      "    Map: Cobblestone (8.22)  -  GX (2.882) vs subtLe (-1.401) - I:65.60% | P:87.77% - 99.86%  -  K: 9.6% (432) - -3.1% (-141)\n",
      "    Map: Cache (7.53)  -  GX (2.897) vs subtLe (0.779) - I:65.60% | P:47.27% - 98.72%  -  K: 7.3% (330) - -1.3% (-57)\n",
      "    Map: Overpass (6.85)  -  GX (2.900) vs subtLe (1.241) - I:65.60% | P:35.49% - 97.99%  -  K: 6.4% (288) - -0.5% (-23)\n",
      "    Map: Nuke (2.74)  -  GX (2.920) vs subtLe (0.447) - I:65.60% | P:52.63% - 99.22%  -  K: 8.2% (369) - -2.0% (-89)\n",
      "    Map: Dust2 (2.05)  -  GX (2.946) vs subtLe (-3.909) - I:65.60% | P:98.88% - 99.99%  -  K: 10.0% (448) - -3.4% (-153)\n",
      "    Map: Train (25.45)  -  subtLe (0.323) vs Morior Invictus (-1.857) - I:60.00% | P:76.35% - 95.99%  -  K: 8.1% (362) - -2.3% (-103)\n",
      "    Map: Cache (19.16)  -  subtLe (0.779) vs Morior Invictus (2.320) - I:60.00% | P:6.58% - 39.95%  -  K: -3.6% (-164) - 7.9% (357)\n",
      "    Map: Mirage (16.36)  -  subtLe (-1.405) vs Morior Invictus (1.172) - I:60.00% | P:2.97% - 16.12%  -  K: -5.0% (-224) - 9.1% (410)\n",
      "    Map: Overpass (13.83)  -  subtLe (1.241) vs Morior Invictus (2.198) - I:60.00% | P:15.51% - 45.16%  -  K: -2.0% (-88) - 6.5% (291)\n",
      "    Map: Cobblestone (10.54)  -  subtLe (-1.401) vs Morior Invictus (-2.266) - I:60.00% | P:29.99% - 92.21%  -  K: 3.9% (175) - 1.3% (59)\n",
      "    Map: Inferno (7.53)  -  subtLe (1.403) vs Morior Invictus (-0.239) - I:60.00% | P:37.40% - 97.73%  -  K: 6.5% (292) - -0.9% (-42)\n",
      "    Map: Nuke (5.07)  -  subtLe (0.447) vs Morior Invictus (-3.322) - I:60.00% | P:85.76% - 99.65%  -  K: 9.4% (424) - -3.5% (-157)\n",
      "    Map: Dust2 (2.05)  -  subtLe (-3.909) vs Morior Invictus (-0.258) - I:60.00% | P:0.27% - 19.63%  -  K: -5.7% (-257) - 9.8% (439)\n",
      "    Map: Mirage (17.95)  -  Mythic (1.780) vs Denial (1.112) - I:71.78% | P:50.54% - 78.96%  -  K: 3.7% (165) - 1.9% (85)\n",
      "    Map: Cobblestone (15.62)  -  Mythic (2.544) vs Denial (3.237) - I:71.78% | P:21.02% - 48.18%  -  K: -1.9% (-83) - 6.0% (271)\n",
      "    Map: Train (15.29)  -  Mythic (-1.857) vs Denial (1.191) - I:71.78% | P:2.15% - 9.57%  -  K: -6.5% (-291) - 9.5% (426)\n",
      "    Map: Cache (14.73)  -  Mythic (1.563) vs Denial (2.007) - I:71.78% | P:24.53% - 56.21%  -  K: -1.0% (-44) - 5.4% (241)\n",
      "    Map: Inferno (12.70)  -  Mythic (1.264) vs Denial (1.711) - I:71.78% | P:24.43% - 55.70%  -  K: -0.9% (-42) - 5.3% (240)\n",
      "    Map: Overpass (11.82)  -  Mythic (-1.069) vs Denial (1.973) - I:71.78% | P:2.07% - 10.39%  -  K: -6.5% (-291) - 9.5% (426)\n",
      "    Map: Nuke (9.86)  -  Mythic (1.764) vs Denial (2.173) - I:71.78% | P:19.58% - 65.61%  -  K: -1.0% (-43) - 5.4% (241)\n",
      "    Map: Dust2 (2.04)  -  Mythic (2.019) vs Denial (3.176) - I:71.78% | P:5.03% - 63.73%  -  K: -3.8% (-171) - 7.5% (336)\n",
      "    Map: Overpass (25.07)  -  ANTI ECO (-0.429) vs CLG Academy (1.850) - I:28.43% | P:4.29% - 19.49%  -  K: -1.8% (-80) - 8.6% (386)\n",
      "    Map: Inferno (22.34)  -  ANTI ECO (-1.842) vs CLG Academy (2.465) - I:28.43% | P:0.53% - 3.62%  -  K: -2.7% (-120) - 9.8% (440)\n",
      "    Map: Mirage (15.98)  -  ANTI ECO (-2.318) vs CLG Academy (-0.163) - I:28.43% | P:3.56% - 27.32%  -  K: -1.7% (-77) - 8.5% (382)\n",
      "    Map: Train (12.54)  -  ANTI ECO (2.658) vs CLG Academy (-2.246) - I:28.43% | P:96.91% - 99.81%  -  K: 9.9% (444) - -7.0% (-314)\n",
      "    Map: Cache (10.72)  -  ANTI ECO (-1.804) vs CLG Academy (2.063) - I:28.43% | P:0.53% - 7.99%  -  K: -2.6% (-118) - 9.7% (437)\n",
      "    Map: Nuke (7.99)  -  ANTI ECO (-2.384) vs CLG Academy (-0.167) - I:28.43% | P:1.80% - 41.12%  -  K: -1.8% (-82) - 8.6% (389)\n",
      "    Map: Cobblestone (5.36)  -  ANTI ECO (-3.485) vs CLG Academy (0.023) - I:28.43% | P:0.57% - 14.82%  -  K: -2.6% (-115) - 9.6% (433)\n",
      "    Map: Inferno (22.40)  -  Good People (0.537) vs Ambition (1.115) - I:70.00% | P:10.26% - 74.47%  -  K: -1.7% (-77) - 6.0% (268)\n",
      "    Map: Cobblestone (18.83)  -  Good People (-2.640) vs Ambition (-2.593) - I:70.00% | P:14.78% - 84.15%  -  K: -0.1% (-6) - 4.8% (214)\n",
      "    Map: Nuke (18.18)  -  Good People (0.382) vs Ambition (0.447) - I:70.00% | P:8.59% - 89.81%  -  K: -0.7% (-32) - 5.2% (234)\n",
      "    Map: Mirage (17.21)  -  Good People (-2.928) vs Ambition (-1.189) - I:70.00% | P:3.53% - 47.07%  -  K: -4.9% (-219) - 8.4% (376)\n",
      "    Map: Dust2 (9.09)  -  Good People (0.474) vs Ambition (-2.783) - I:70.00% | P:70.63% - 99.60%  -  K: 9.0% (404) - -2.2% (-100)\n",
      "    Map: Train (7.14)  -  Good People (3.222) vs Ambition (-0.828) - I:70.00% | P:84.20% - 99.84%  -  K: 9.5% (429) - -2.6% (-119)\n",
      "    Map: Cache (7.14)  -  Good People (4.121) vs Ambition (-0.820) - I:70.00% | P:92.00% - 99.93%  -  K: 9.8% (440) - -2.8% (-127)\n",
      "    Map: Cache (26.28)  -  Torqued (0.660) vs subtLe (0.779) - I:65.00% | P:26.11% - 69.79%  -  K: 0.4% (20) - 4.3% (194)\n",
      "    Map: Inferno (15.87)  -  Torqued (5.133) vs subtLe (1.403) - I:65.00% | P:93.08% - 99.13%  -  K: 9.5% (427) - -3.1% (-139)\n",
      "    Map: Train (15.18)  -  Torqued (2.991) vs subtLe (0.323) - I:65.00% | P:81.94% - 97.79%  -  K: 8.6% (388) - -2.4% (-107)\n",
      "    Map: Cobblestone (14.47)  -  Torqued (1.068) vs subtLe (-1.401) - I:65.00% | P:77.20% - 97.61%  -  K: 8.4% (375) - -2.2% (-96)\n",
      "    Map: Overpass (13.10)  -  Torqued (0.025) vs subtLe (1.241) - I:65.00% | P:7.63% - 53.23%  -  K: -3.2% (-145) - 7.3% (329)\n",
      "    Map: Mirage (10.30)  -  Torqued (-0.742) vs subtLe (-1.405) - I:65.00% | P:25.75% - 91.34%  -  K: 3.3% (148) - 2.0% (89)\n",
      "    Map: Nuke (2.74)  -  Torqued (1.353) vs subtLe (0.447) - I:65.00% | P:20.96% - 95.82%  -  K: 3.7% (166) - 1.6% (74)\n",
      "    Map: Dust2 (2.05)  -  Torqued (1.316) vs subtLe (-3.909) - I:65.00% | P:95.14% - 99.95%  -  K: 9.9% (443) - -3.4% (-152)\n"
     ]
    },
    {
     "name": "stdout",
     "output_type": "stream",
     "text": [
      "    Map: Mirage (24.93)  -  Naventic (1.427) vs Muffin Lightning (2.235) - I:45.00% | P:15.59% - 53.03%  -  K: -0.5% (-20) - 5.7% (255)\n",
      "    Map: Inferno (18.48)  -  Naventic (-3.141) vs Muffin Lightning (0.125) - I:45.00% | P:1.14% - 11.19%  -  K: -4.1% (-183) - 9.5% (429)\n",
      "    Map: Cache (14.88)  -  Naventic (4.695) vs Muffin Lightning (0.083) - I:45.00% | P:96.23% - 99.74%  -  K: 9.8% (441) - -5.3% (-238)\n",
      "    Map: Cobblestone (12.61)  -  Naventic (0.587) vs Muffin Lightning (1.476) - I:45.00% | P:9.93% - 63.42%  -  K: -0.6% (-29) - 5.9% (264)\n",
      "    Map: Overpass (10.04)  -  Naventic (5.356) vs Muffin Lightning (0.564) - I:45.00% | P:95.01% - 99.86%  -  K: 9.8% (442) - -5.3% (-239)\n",
      "    Map: Dust2 (8.06)  -  Naventic (0.835) vs Muffin Lightning (2.486) - I:45.00% | P:2.21% - 62.12%  -  K: -2.7% (-121) - 8.1% (363)\n",
      "    Map: Train (6.16)  -  Naventic (-3.347) vs Muffin Lightning (1.611) - I:45.00% | P:0.11% - 4.53%  -  K: -4.4% (-199) - 9.9% (446)\n",
      "    Map: Nuke (4.84)  -  Naventic (0.895) vs Muffin Lightning (0.080) - I:45.00% | P:18.27% - 95.61%  -  K: 4.1% (184) - 0.8% (35)\n",
      "    Map: Mirage (27.27)  -  Ambition (-1.189) vs Naventic (1.427) - I:40.00% | P:2.76% - 16.30%  -  K: -3.2% (-142) - 9.1% (407)\n",
      "    Map: Nuke (18.18)  -  Ambition (0.447) vs Naventic (0.895) - I:40.00% | P:6.93% - 85.33%  -  K: 0.2% (10) - 5.2% (231)\n",
      "    Map: Inferno (18.18)  -  Ambition (1.115) vs Naventic (-3.141) - I:40.00% | P:91.85% - 99.74%  -  K: 9.7% (436) - -5.7% (-254)\n",
      "    Map: Dust2 (9.09)  -  Ambition (-2.783) vs Naventic (0.835) - I:40.00% | P:0.29% - 20.64%  -  K: -3.8% (-169) - 9.7% (437)\n",
      "    Map: Cobblestone (9.09)  -  Ambition (-2.593) vs Naventic (0.587) - I:40.00% | P:0.62% - 22.88%  -  K: -3.6% (-162) - 9.6% (430)\n",
      "    Map: Overpass (6.82)  -  Ambition (-0.814) vs Naventic (5.356) - I:40.00% | P:0.02% - 2.23%  -  K: -4.0% (-178) - 10.0% (448)\n",
      "    Map: Cache (6.82)  -  Ambition (-0.820) vs Naventic (4.695) - I:40.00% | P:0.04% - 4.20%  -  K: -4.0% (-178) - 10.0% (447)\n",
      "    Map: Train (4.55)  -  Ambition (-0.828) vs Naventic (-3.347) - I:40.00% | P:55.87% - 99.15%  -  K: 8.4% (377) - -4.2% (-187)\n",
      "    Map: Mirage (35.89)  -  Mostly Harmless (-1.481) vs Iceberg (-1.188) - I:40.00% | P:20.20% - 69.86%  -  K: 1.4% (61) - 3.9% (173)\n",
      "    Map: Train (17.08)  -  Mostly Harmless (-1.256) vs Iceberg (0.816) - I:40.00% | P:2.33% - 40.91%  -  K: -2.9% (-128) - 8.7% (390)\n",
      "    Map: Inferno (16.61)  -  Mostly Harmless (2.520) vs Iceberg (1.745) - I:40.00% | P:35.26% - 90.08%  -  K: 4.9% (221) - -0.2% (-8)\n",
      "    Map: Overpass (8.62)  -  Mostly Harmless (0.772) vs Iceberg (-0.289) - I:40.00% | P:24.27% - 96.47%  -  K: 5.2% (233) - -0.5% (-22)\n",
      "    Map: Cache (7.99)  -  Mostly Harmless (-3.973) vs Iceberg (-2.636) - I:40.00% | P:4.60% - 59.67%  -  K: -1.7% (-76) - 7.4% (332)\n",
      "    Map: Nuke (5.17)  -  Mostly Harmless (-2.017) vs Iceberg (-0.252) - I:40.00% | P:1.53% - 66.97%  -  K: -2.5% (-113) - 8.3% (374)\n",
      "    Map: Cobblestone (5.17)  -  Mostly Harmless (-2.540) vs Iceberg (-0.264) - I:40.00% | P:0.86% - 55.83%  -  K: -3.2% (-144) - 9.1% (409)\n",
      "    Map: Dust2 (3.45)  -  Mostly Harmless (0.462) vs Iceberg (-0.248) - I:40.00% | P:15.68% - 95.80%  -  K: 4.0% (180) - 0.8% (37)\n"
     ]
    }
   ],
   "source": [
    "PRINT_RD_DIFF = False\n",
    "for i,v in matches.iterrows():\n",
    "    t1_id = h_teams_filt[h_teams_filt.Name == v['1']].index[0]; t1_ind = np.where(teams == t1_id)[0][0];\n",
    "    t2_id = h_teams_filt[h_teams_filt.Name == v['2']].index[0]; t2_ind = np.where(teams == t2_id)[0][0];\n",
    "    pred_maps = predict_map(model_played, h_matches, t1_id, t2_id)\n",
    "    pred_maps = pred_maps/pred_maps.sum()\n",
    "    for m,s in pred_maps.iteritems():\n",
    "        m_ind = np.where(maps == m)[0][0]\n",
    "        trace_1 = t_map_rating[:,m_ind,t1_ind]; trace_2 = t_map_rating[:,m_ind,t2_ind]\n",
    "        mr_1 = trace_1.mean(); mr_2 = trace_2.mean();\n",
    "        diff = trace_1-trace_2\n",
    "        p_wl = sig(diff)\n",
    "        wr_25 = np.percentile(p_wl, 25); wr_75 = np.percentile(p_wl, 75)\n",
    "        kappa = 32*sig(t_alpha*diff)-16.\n",
    "        kelly_pct_1 = ((v['o1']*np.percentile(p_wl, 45)-(1.-np.percentile(p_wl, 45)))/v['o1'])*0.1\n",
    "        kelly_pct_2 = ((v['o2']*(1.-np.percentile(p_wl, 45))-(np.percentile(p_wl, 45)))/v['o2'])*0.1\n",
    "        print('    Map: %s (%.2f)  -  %s (%.3f) vs %s (%.3f) - I:%.2f%% | P:%.2f%% - %.2f%%  -  K: %.1f%% (%i) - %.1f%% (%i)' % \n",
    "             (m, s*100., v['1'], mr_1, v['2'], mr_2, v['wr'], wr_25*100, wr_75*100, kelly_pct_1*100., \n",
    "               kelly_pct_1*money, kelly_pct_2*100., kelly_pct_2*money))\n",
    "        \n",
    "        if(PRINT_RD_DIFF):\n",
    "            p_sc = [abs_norm_interval(x[0],x[1],kappa,trace['sigma'][:,m_ind]) for x in [[1.5,3.5],[3.5,5.5],[5.5,7.5],[7.5,9.5],[9.5,16]]]\n",
    "            for i,sd in enumerate(['2 - 3 Rounds', '4 - 5 rounds', '6 - 7 rounds', '8 - 9 rounds', '10 rounds or more']):\n",
    "                sc_25 = np.percentile(p_sc[i], 25); sc_75 = np.percentile(p_sc[i], 75)\n",
    "                print('      %s : %.2f%% - %.2f%%' % (sd, sc_25*100, sc_75*100))"
   ]
  },
  {
   "cell_type": "code",
   "execution_count": 34,
   "metadata": {},
   "outputs": [
    {
     "data": {
      "text/plain": [
       "'Default'"
      ]
     },
     "execution_count": 34,
     "metadata": {},
     "output_type": "execute_result"
    }
   ],
   "source": [
    "m"
   ]
  },
  {
   "cell_type": "code",
   "execution_count": null,
   "metadata": {},
   "outputs": [],
   "source": [
    "plt.ylim(0,1.2)\n",
    "sns.kdeplot(trace_1, shade=True, alpha=0.65, legend=True, label=v['1'])\n",
    "sns.kdeplot(trace_2, shade=True, alpha=0.65, legend=True, label=v['2'])"
   ]
  },
  {
   "cell_type": "code",
   "execution_count": null,
   "metadata": {},
   "outputs": [],
   "source": [
    "h_bp.groupby('Match ID').first().count()"
   ]
  },
  {
   "cell_type": "code",
   "execution_count": null,
   "metadata": {},
   "outputs": [],
   "source": [
    "h_bp"
   ]
  },
  {
   "cell_type": "code",
   "execution_count": null,
   "metadata": {
    "collapsed": true
   },
   "outputs": [],
   "source": []
  }
 ],
 "metadata": {
  "kernelspec": {
   "display_name": "Python 3",
   "language": "python",
   "name": "python3"
  },
  "language_info": {
   "codemirror_mode": {
    "name": "ipython",
    "version": 3
   },
   "file_extension": ".py",
   "mimetype": "text/x-python",
   "name": "python",
   "nbconvert_exporter": "python",
   "pygments_lexer": "ipython3",
   "version": "3.6.2"
  }
 },
 "nbformat": 4,
 "nbformat_minor": 2
}
