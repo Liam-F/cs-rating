{
 "cells": [
  {
   "cell_type": "markdown",
   "metadata": {},
   "source": [
    "## Win/Loss Rating Model Prediction\n",
    "\n",
    "Load the model and make predictions"
   ]
  },
  {
   "cell_type": "code",
   "execution_count": 1,
   "metadata": {
    "collapsed": true
   },
   "outputs": [],
   "source": [
    "import pandas as pd\n",
    "import numpy as np\n",
    "import pymc3 as pm\n",
    "import seaborn as sns\n",
    "import datetime as dt\n",
    "import matplotlib.pyplot as plt\n",
    "from scipy.stats import norm\n",
    "from spcl_case import *\n",
    "plt.style.use('fivethirtyeight')\n",
    "%matplotlib inline"
   ]
  },
  {
   "cell_type": "markdown",
   "metadata": {},
   "source": [
    "### Get a list of all CS Games"
   ]
  },
  {
   "cell_type": "code",
   "execution_count": 6,
   "metadata": {
    "scrolled": true
   },
   "outputs": [
    {
     "name": "stdout",
     "output_type": "stream",
     "text": [
      "Date: 2017-10-26  |  Event: AOC CS:GO CUP  | (BO3) ALTERNATE aTTaX vs. Venatores  |  (60.0:40.0) | Total Coins: 4000\n",
      "Date: 2017-10-27  |  Event: Asia Minor ELEAGUE Major  | (BO1) Flash vs. B.O.O.T-d[S]  |  (60.5:39.5) | Total Coins: 4050\n",
      "Date: 2017-10-27  |  Event: Asia Minor ELEAGUE Major  | (BO1) Tyloo vs. Tainted Minds  |  (63.0:37.0) | Total Coins: 4000\n",
      "Date: 2017-10-27  |  Event: CIS MINOR OPEN  | (BO1) AVANGAR vs. QUANTUM BELLATOR FIRE  |  (60.0:40.0) | Total Coins: 4000\n",
      "Date: 2017-10-27  |  Event: CIS MINOR OPEN  | (BO1) Tengri vs. forZE  |  (60.0:40.0) | Total Coins: 4000\n",
      "Date: 2017-10-27  |  Event: ECS Season 4 Development League  | (BO1) GODSENT vs. mousesports  |  (40.0:60.0) | Total Coins: 10000\n",
      "Date: 2017-10-27  |  Event: ECS Season 4 Development League  | (BO1) OpTic vs. Liquid  |  (59.4:40.6) | Total Coins: 10100\n",
      "Date: 2017-10-26  |  Event: ECS Season 4 Development League  | (BO1) fnatic vs. NiP  |  (44.1:55.9) | Total Coins: 10188\n",
      "Date: 2017-10-27  |  Event: ECS Season 4 Development League  | (BO1) mousesports vs. GODSENT  |  (60.0:40.0) | Total Coins: 10000\n",
      "Date: 2017-10-27  |  Event: ECS Season 4 Development League  | (BO1) CLG vs. NRG  |  (57.0:43.0) | Total Coins: 10000\n",
      "Date: 2017-10-26  |  Event: ECS Season 4 Development League  | (BO1) NiP vs. fnatic  |  (56.1:43.9) | Total Coins: 10250\n",
      "Date: 2017-10-26  |  Event: ECS Season 4 Development League  | (BO1) FaZe vs. EnVyUs  |  (65.9:34.1) | Total Coins: 10854\n",
      "Date: 2017-10-26  |  Event: ECS Season 4 Development League  | (BO1) EnVyUs vs. FaZe  |  (34.0:66.0) | Total Coins: 10884\n",
      "Date: 2017-10-27  |  Event: ECS Season 4 Development League  | (BO1) G2 vs. EnVyUs  |  (55.0:45.0) | Total Coins: 10000\n",
      "Date: 2017-10-27  |  Event: ECS Season 4 Development League  | (BO1) EnVyUs vs. G2  |  (45.0:55.0) | Total Coins: 10000\n",
      "Date: 2017-10-27  |  Event: ECS Season 4 Development League  | (BO1) Liquid vs. OpTic  |  (40.0:60.0) | Total Coins: 10000\n",
      "Date: 2017-10-27  |  Event: ECS Season 4 Development League  | (BO1) NRG vs. CLG  |  (42.6:57.4) | Total Coins: 10100\n",
      "Date: 2017-10-27  |  Event: ESEA MDL Season 26  | (BO1) Mythic vs. ex-Denial  |  (60.0:40.0) | Total Coins: 4000\n",
      "Date: 2017-10-27  |  Event: ESEA MDL Season 26  | (BO1) Adaptation vs. CLG Academy  |  (45.0:55.0) | Total Coins: 4000\n",
      "Date: 2017-10-27  |  Event: ESEA MDL Season 26  | (BO1) LFAO vs. ANTI ECO  |  (60.0:40.0) | Total Coins: 4300\n",
      "Date: 2017-10-27  |  Event: ESEA MDL Season 26  | (BO1) Gorilla Core vs. CheckSix  |  (45.0:55.0) | Total Coins: 4000\n",
      "Date: 2017-10-27  |  Event: ESEA MDL Season 26  | (BO1) Ambition vs. Naventic  |  (40.0:60.0) | Total Coins: 4000\n",
      "Date: 2017-10-27  |  Event: ESEA MDL Season 26  | (BO1) Mostly Harmless vs. Iceberg  |  (40.0:60.0) | Total Coins: 4000\n",
      "Date: 2017-10-27  |  Event: ESEA MDL Season 26  | (BO1) ALTERNATE aTTaX vs. Endpoint  |  (60.0:40.0) | Total Coins: 4000\n",
      "Date: 2017-10-26  |  Event: ESEA MDL Season 26  | (BO1) Space Soldiers vs. Not Academy  |  (82.0:18.0) | Total Coins: 10000\n",
      "Date: 2017-10-26  |  Event: ESEA MDL Season 26  | (BO1) Invictus Aquilas vs. PRIDE  |  (27.0:73.0) | Total Coins: 4000\n",
      "Date: 2017-10-26  |  Event: ESEA MDL Season 26  | (BO1) aAa vs. Seed  |  (43.0:57.0) | Total Coins: 4000\n",
      "Date: 2017-10-26  |  Event: ESEA MDL Season 26  | (BO1) Invictus Aquilas vs. AGO  |  (22.0:78.0) | Total Coins: 4000\n",
      "Date: 2017-10-26  |  Event: ESEA MDL Season 26  | (BO1) igame.com vs. Nexus  |  (58.0:42.0) | Total Coins: 4000\n",
      "Date: 2017-10-26  |  Event: ESEA MDL Season 26  | (BO1) Seed vs. Space Soldiers  |  (17.7:82.3) | Total Coins: 10147\n",
      "Date: 2017-10-26  |  Event: ESEA MDL Season 26  | (BO1) AGO vs. PRIDE  |  (69.2:30.8) | Total Coins: 4219\n",
      "Date: 2017-10-26  |  Event: ESEA MDL Season 26  | (BO1) TEAM5 vs. igame.com  |  (63.0:37.0) | Total Coins: 2000\n",
      "Date: 2017-10-27  |  Event: ESEA MDL Season 26  | (BO1) Gale Force vs. Beacon  |  (60.0:40.0) | Total Coins: 4500\n",
      "Date: 2017-10-26  |  Event: Epicenter 2017  | (BO3) Astralis vs. North  |  (79.9:20.1) | Total Coins: 47491\n",
      "Date: 2017-10-26  |  Event: Esports Balkan League Season 1  | (BO3) Valiance vs. KlikTech  |  (64.4:35.6) | Total Coins: 4499\n",
      "Date: 2017-10-26  |  Event: Esports Balkan League Season 1  | (BO3) Valiance vs. MK  |  (58.2:41.8) | Total Coins: 4110\n",
      "Date: 2017-10-26  |  Event: Esports Balkan League Season 1  | (BO3) Nexus vs. RESISTANCE  |  (76.0:24.0) | Total Coins: 4050\n",
      "Date: 2017-10-26  |  Event: Skinhub CS:GO Championship  | (BO1) eXtatus vs. AGO  |  (35.3:64.7) | Total Coins: 2150\n",
      "Date: 2017-10-26  |  Event: Skinhub CS:GO Championship  | (BO1) TEAM5 vs. ALTERNATE aTTaX  |  (66.0:34.0) | Total Coins: 2000\n",
      "Date: 2017-10-27  |  Event: None  | (BO3) BootKamp vs. Furia  |  (40.0:60.0) | Total Coins: 2000\n",
      "Date: 2017-10-27  |  Event: None  | (BO1) Movistar Riders vs. Giants  |  (60.0:40.0) | Total Coins: 4000\n",
      "Date: 2017-10-27  |  Event: None  | (BO1) Kinguin vs. EnVyUs Academy  |  (60.5:39.5) | Total Coins: 4050\n",
      "Date: 2017-10-27  |  Event: None  | (BO1) Panthers vs. Endpoint  |  (52.0:48.0) | Total Coins: 4000\n",
      "Date: 2017-10-27  |  Event: None  | (BO1) Ex-Outlaws vs. KPI  |  (60.0:40.0) | Total Coins: 4000\n"
     ]
    }
   ],
   "source": [
    "import cfscrape # need nodejs\n",
    "import json\n",
    "scraper = cfscrape.create_scraper()\n",
    "games = json.loads(scraper.get(\"http://thunderpick.com/api/matches\").content)\n",
    "games = pd.DataFrame(games['data'])\n",
    "games = games[games.gameId == 6].sort_values('championship')\n",
    "\n",
    "bet_games = []\n",
    "for i,v in games.iterrows():\n",
    "    if((v['isTournament'] == False )& (v['canWager'] == True)):\n",
    "        ratio = v['matchBet']['buckets'][0]['amount']/v['matchBet']['buckets'][1]['amount']\n",
    "        odds = (ratio**-1+1, ratio+1)\n",
    "        wr = (odds[1]/np.sum(odds)*100., odds[0]/np.sum(odds)*100.)\n",
    "        det = json.loads(scraper.get('https://thunderpick.com/api/matches/'+str(v['id'])).content)['data']\n",
    "        print('Date: %s  |  Event: %s  | (BO%s) %s vs. %s  |  (%.1f:%.1f) | Total Coins: %i' % \n",
    "              (v['startTime'][:10], v['championship'], det['bestOfMaps'], v['matchBet']['buckets'][0]['label'], \n",
    "               v['matchBet']['buckets'][1]['label'], wr[0], wr[1], v['matchBet']['amount']))\n",
    "        bet_games.append({'1': v['matchBet']['buckets'][0]['label'], '2': v['matchBet']['buckets'][1]['label'], 'bo': det['bestOfMaps'], 'o1': odds[0], 'o2': odds[1], 'wr': wr[0]})\n",
    "bet_games = pd.DataFrame(bet_games)"
   ]
  },
  {
   "cell_type": "markdown",
   "metadata": {},
   "source": [
    "## Load Ratings Model"
   ]
  },
  {
   "cell_type": "code",
   "execution_count": 13,
   "metadata": {
    "collapsed": true
   },
   "outputs": [],
   "source": [
    "TEAM_SET = 'mdleu'\n",
    "\n",
    "teams = np.load('saved_model/'+TEAM_SET+'/teams.npy')\n",
    "maps = np.load('saved_model/'+TEAM_SET+'/maps.npy')\n",
    "filt = np.chararray.lower(np.load('saved_model/'+TEAM_SET+'/filter_teams.npy'))\n",
    "h_teams = pd.read_csv('hltv_csv/teams.csv').set_index('ID').loc[teams]\n",
    "h_teams = fix_teams(h_teams)\n",
    "h_teams.Name = h_teams.Name.str.lower()\n",
    "h_teams_filt = h_teams[h_teams.Name.isin(filt)]\n",
    "\n",
    "rating_model = prep_pymc_model(len(teams), len(maps))\n",
    "trace = pm.backends.text.load('saved_model/'+TEAM_SET+'/trace', model=rating_model)"
   ]
  },
  {
   "cell_type": "markdown",
   "metadata": {
    "collapsed": true
   },
   "source": [
    "## Ban/Pick Predictions"
   ]
  },
  {
   "cell_type": "code",
   "execution_count": 14,
   "metadata": {
    "collapsed": true
   },
   "outputs": [],
   "source": [
    "h_bp = pd.read_csv('hltv_csv/picksAndBans.csv').set_index('Match ID')\n",
    "h_matches = pd.read_csv('hltv_csv/matchResults.csv').set_index('Match ID')\n",
    "h_matches['Date'] = pd.to_datetime(h_matches['Date'])\n",
    "h_matches = h_matches[h_matches['Date'] >= dt.datetime(2017,1,1)]\n",
    "h_bp = h_bp.join(h_matches[['Date']], how='left')\n",
    "h_bp['Date'] = pd.to_datetime(h_bp['Date'])\n",
    "h_bp = h_bp[h_bp['Date'] >= dt.datetime(2017,1,1)]"
   ]
  },
  {
   "cell_type": "code",
   "execution_count": 15,
   "metadata": {
    "collapsed": true
   },
   "outputs": [],
   "source": [
    "def model_mp(train, t1, t2):\n",
    "    tab = train[train['Team'].isin([t1, t2])].groupby(['Team', ' Pick Type', 'Map'])['Date'].count().unstack([' Pick Type', 'Team']).fillna(0)\n",
    "    return (tab/tab.sum(axis=0)).mean(level=0,axis=1)# get average\n",
    "\n",
    "def model_played(train, t1, t2):\n",
    "    a = train[train['Team 1 ID'].isin([t1,t2])].groupby(['Team 1 ID', 'Map'])['Date'].count()\n",
    "    b = train[train['Team 2 ID'].isin([t1,t2])].groupby(['Team 2 ID', 'Map'])['Date'].count()\n",
    "    c = pd.DataFrame([a,b], index=['a','b']).T.fillna(0)\n",
    "    c = (c['a']+c['b']).unstack(level=0).fillna(0)\n",
    "    return (c/c.sum()).mean(axis=1)\n",
    "\n",
    "def predict_map(func, data, t1, t2):\n",
    "    res = func(data, t1, t2)\n",
    "    return res.loc[res.index != 'Default'].sort_values(ascending=False)"
   ]
  },
  {
   "cell_type": "markdown",
   "metadata": {},
   "source": [
    "# Bet Predictions"
   ]
  },
  {
   "cell_type": "code",
   "execution_count": 16,
   "metadata": {
    "scrolled": false
   },
   "outputs": [
    {
     "name": "stdout",
     "output_type": "stream",
     "text": [
      "alternate attax (0.338) vs endpoint (-0.651) - P:61.79% - 60.00% - 81.44%  -  K: 5.3% (240) - 0.1% (3)\n",
      "space soldiers (2.443) vs not academy (-0.185) - P:87.90% - 82.00% - 96.37%  -  K: 8.6% (387) - -0.9% (-40)\n",
      "invictus aquilas (-0.206) vs pride (0.842) - P:17.38% - 27.00% - 36.61%  -  K: 0.4% (18) - 5.8% (259)\n",
      "aaa (0.804) vs seed (0.645) - P:33.58% - 43.00% - 73.01%  -  K: 2.9% (130) - 2.1% (94)\n",
      "invictus aquilas (-0.206) vs ago (1.872) - P:6.81% - 22.00% - 17.54%  -  K: -1.0% (-43) - 8.2% (368)\n",
      "igame.com (1.074) vs nexus (1.330) - P:32.71% - 58.00% - 55.21%  -  K: 0.8% (34) - 4.1% (184)\n",
      "seed (0.645) vs space soldiers (2.443) - P:8.63% - 17.74% - 22.57%  -  K: -0.3% (-11) - 7.7% (344)\n",
      "ago (1.872) vs pride (0.842) - P:63.18% - 69.19% - 82.10%  -  K: 5.2% (234) - 0.6% (28)\n",
      "team5 (0.026) vs igame.com (1.074) - P:16.18% - 63.00% - 38.81%  -  K: -2.4% (-108) - 6.7% (302)\n",
      "extatus (1.457) vs ago (1.872) - P:29.64% - 35.35% - 51.06%  -  K: 1.5% (69) - 3.8% (172)\n",
      "team5 (0.026) vs alternate attax (0.338) - P:29.06% - 66.00% - 57.08%  -  K: 0.0% (1) - 4.7% (209)\n"
     ]
    }
   ],
   "source": [
    "money = 4500.\n",
    "bet_games['1'] = bet_games['1'].str.lower().replace('ex-Denial', 'Denial')\n",
    "bet_games['2'] = bet_games['2'].str.lower().replace('ex-Denial', 'Denial')\n",
    "matches = bet_games[bet_games['1'].isin(filt) & bet_games['2'].isin(filt)].drop_duplicates()\n",
    "def sig(x):\n",
    "    return 1 / (1 + np.exp(-x))\n",
    "def abs_norm_interval(start,end,loc,scale):\n",
    "    return (norm.cdf(end,loc,scale) - norm.cdf(start,loc,scale)) + (norm.cdf(-1*start,loc,scale) - norm.cdf(-1*end,loc,scale))\n",
    "\n",
    "t_rating = trace['rating']\n",
    "t_map_rating = trace['rating | map']\n",
    "t_alpha = 0.3485\n",
    "for i,v in matches.iterrows():\n",
    "    t1_id = h_teams_filt[h_teams_filt.Name == v['1']].index[0]; t1_ind = np.where(teams == t1_id)[0][0];\n",
    "    t2_id = h_teams_filt[h_teams_filt.Name == v['2']].index[0]; t2_ind = np.where(teams == t2_id)[0][0];\n",
    "    trace_1 = t_rating[:,t1_ind]; trace_2 = t_rating[:,t2_ind]\n",
    "    mr_1 = trace_1.mean(); mr_2 = trace_2.mean();\n",
    "    diff = trace_1-trace_2\n",
    "    p_wl = sig(diff)\n",
    "    wr_25 = np.percentile(p_wl, 25); wr_75 = np.percentile(p_wl, 75)\n",
    "    kelly_pct_1 = ((v['o1']*np.percentile(p_wl, 45)-(1.-np.percentile(p_wl, 45)))/v['o1'])*0.1\n",
    "    kelly_pct_2 = ((v['o2']*(1.-np.percentile(p_wl, 45))-(np.percentile(p_wl, 45)))/v['o2'])*0.1\n",
    "    print('%s (%.3f) vs %s (%.3f) - P:%.2f%% - %.2f%% - %.2f%%  -  K: %.1f%% (%i) - %.1f%% (%i)' % \n",
    "          (v['1'], mr_1, v['2'], mr_2,  wr_25*100, v['wr'], wr_75*100, kelly_pct_1*100., \n",
    "           kelly_pct_1*money, kelly_pct_2*100., kelly_pct_2*money))"
   ]
  },
  {
   "cell_type": "code",
   "execution_count": 12,
   "metadata": {
    "scrolled": false
   },
   "outputs": [
    {
     "name": "stdout",
     "output_type": "stream",
     "text": [
      "---------- godsent vs mousesports ---------------------------------\n",
      "    Map: Mirage (22.22)  -  godsent (2.004) vs mousesports (2.940) - P:23.70% - 40.00% - 33.18%  -  K: -0.2% (-8) - 5.6% (253)\n",
      "    Map: Cobblestone (16.08)  -  godsent (1.650) vs mousesports (2.931) - P:17.30% - 40.00% - 27.00%  -  K: -1.1% (-48) - 6.7% (299)\n",
      "    Map: Cache (15.41)  -  godsent (1.973) vs mousesports (2.423) - P:33.01% - 40.00% - 45.19%  -  K: 1.3% (58) - 4.0% (177)\n",
      "    Map: Train (14.18)  -  godsent (0.982) vs mousesports (2.392) - P:15.42% - 40.00% - 24.94%  -  K: -1.4% (-61) - 7.0% (315)\n",
      "    Map: Inferno (10.56)  -  godsent (1.286) vs mousesports (2.461) - P:17.82% - 40.00% - 30.48%  -  K: -0.9% (-38) - 6.4% (288)\n",
      "    Map: Overpass (10.54)  -  godsent (2.269) vs mousesports (2.436) - P:37.69% - 40.00% - 54.14%  -  K: 2.2% (98) - 2.9% (131)\n",
      "    Map: Nuke (9.09)  -  godsent (1.629) vs mousesports (2.579) - P:19.33% - 40.00% - 38.76%  -  K: -0.3% (-15) - 5.8% (261)\n",
      "    Map: Dust2 (1.92)  -  godsent (2.830) vs mousesports (2.518) - P:40.89% - 40.00% - 72.45%  -  K: 3.7% (165) - 1.2% (54)\n",
      "---------- optic vs liquid ---------------------------------\n",
      "    Map: Cobblestone (21.61)  -  optic (2.418) vs liquid (3.369) - P:24.06% - 59.41% - 31.86%  -  K: -1.6% (-72) - 6.2% (278)\n",
      "    Map: Train (18.32)  -  optic (2.665) vs liquid (2.928) - P:37.98% - 59.41% - 49.22%  -  K: 0.8% (36) - 4.0% (181)\n",
      "    Map: Mirage (16.65)  -  optic (3.139) vs liquid (2.828) - P:51.94% - 59.41% - 63.30%  -  K: 3.1% (137) - 2.1% (92)\n",
      "    Map: Inferno (14.45)  -  optic (2.532) vs liquid (2.986) - P:32.87% - 59.41% - 45.03%  -  K: 0.1% (3) - 4.7% (210)\n",
      "    Map: Nuke (9.55)  -  optic (2.273) vs liquid (2.242) - P:43.88% - 59.41% - 57.43%  -  K: 1.9% (87) - 3.0% (137)\n",
      "    Map: Overpass (9.39)  -  optic (1.964) vs liquid (2.265) - P:34.79% - 59.41% - 50.56%  -  K: 0.6% (25) - 4.3% (191)\n",
      "    Map: Cache (9.22)  -  optic (1.474) vs liquid (1.902) - P:32.16% - 59.41% - 47.21%  -  K: 0.1% (5) - 4.7% (209)\n",
      "    Map: Dust2 (0.81)  -  optic (2.597) vs liquid (1.079) - P:68.52% - 59.41% - 90.36%  -  K: 6.7% (303) - -1.2% (-53)\n",
      "---------- fnatic vs nip ---------------------------------\n",
      "    Map: Train (20.85)  -  fnatic (2.868) vs nip (2.812) - P:45.05% - 44.05% - 57.39%  -  K: 2.8% (127) - 2.2% (96)\n",
      "    Map: Cache (18.10)  -  fnatic (2.657) vs nip (2.574) - P:46.52% - 44.05% - 57.61%  -  K: 2.9% (132) - 2.0% (91)\n",
      "    Map: Inferno (17.40)  -  fnatic (3.961) vs nip (2.675) - P:74.10% - 44.05% - 82.11%  -  K: 6.8% (303) - -2.1% (-93)\n",
      "    Map: Cobblestone (13.51)  -  fnatic (2.642) vs nip (2.340) - P:50.69% - 44.05% - 64.00%  -  K: 3.7% (165) - 1.2% (55)\n",
      "    Map: Mirage (13.22)  -  fnatic (2.797) vs nip (2.925) - P:39.15% - 44.05% - 54.57%  -  K: 2.1% (95) - 2.9% (132)\n",
      "    Map: Overpass (8.81)  -  fnatic (3.370) vs nip (2.560) - P:61.67% - 44.05% - 75.84%  -  K: 5.4% (241) - -0.6% (-25)\n",
      "    Map: Nuke (7.18)  -  fnatic (3.167) vs nip (2.784) - P:48.40% - 44.05% - 69.52%  -  K: 3.8% (171) - 1.1% (49)\n",
      "    Map: Dust2 (0.91)  -  fnatic (4.468) vs nip (1.738) - P:87.77% - 44.05% - 97.04%  -  K: 9.0% (404) - -4.5% (-202)\n",
      "---------- mousesports vs godsent ---------------------------------\n",
      "    Map: Mirage (22.22)  -  mousesports (2.940) vs godsent (2.004) - P:66.82% - 60.00% - 76.30%  -  K: 5.4% (241) - 0.1% (2)\n",
      "    Map: Cobblestone (16.08)  -  mousesports (2.931) vs godsent (1.650) - P:73.00% - 60.00% - 82.70%  -  K: 6.4% (286) - -0.8% (-36)\n",
      "    Map: Cache (15.41)  -  mousesports (2.423) vs godsent (1.973) - P:54.81% - 60.00% - 66.99%  -  K: 3.6% (160) - 1.6% (73)\n",
      "    Map: Train (14.18)  -  mousesports (2.392) vs godsent (0.982) - P:75.06% - 60.00% - 84.58%  -  K: 6.7% (302) - -1.1% (-50)\n",
      "    Map: Inferno (10.56)  -  mousesports (2.461) vs godsent (1.286) - P:69.52% - 60.00% - 82.18%  -  K: 6.0% (271) - -0.5% (-23)\n",
      "    Map: Overpass (10.54)  -  mousesports (2.436) vs godsent (2.269) - P:45.86% - 60.00% - 62.31%  -  K: 2.4% (109) - 2.6% (117)\n",
      "    Map: Nuke (9.09)  -  mousesports (2.579) vs godsent (1.629) - P:61.24% - 60.00% - 80.67%  -  K: 5.2% (235) - 0.2% (7)\n",
      "    Map: Dust2 (1.92)  -  mousesports (2.518) vs godsent (2.830) - P:27.55% - 60.00% - 59.11%  -  K: 0.3% (13) - 4.5% (201)\n",
      "---------- clg vs nrg ---------------------------------\n",
      "    Map: Cobblestone (20.02)  -  clg (2.475) vs nrg (1.255) - P:73.00% - 57.00% - 80.81%  -  K: 6.3% (283) - -0.9% (-41)\n",
      "    Map: Mirage (19.38)  -  clg (2.680) vs nrg (1.946) - P:62.41% - 57.00% - 72.19%  -  K: 4.8% (213) - 0.5% (21)\n",
      "    Map: Train (16.65)  -  clg (2.506) vs nrg (1.750) - P:62.31% - 57.00% - 73.18%  -  K: 4.8% (216) - 0.4% (19)\n",
      "    Map: Inferno (16.19)  -  clg (1.129) vs nrg (2.975) - P:10.68% - 57.00% - 17.33%  -  K: -3.6% (-164) - 8.1% (365)\n",
      "    Map: Cache (14.79)  -  clg (2.384) vs nrg (1.698) - P:60.67% - 57.00% - 72.00%  -  K: 4.6% (205) - 0.6% (29)\n",
      "    Map: Overpass (11.31)  -  clg (1.965) vs nrg (1.107) - P:63.88% - 57.00% - 75.89%  -  K: 5.1% (230) - 0.2% (6)\n",
      "    Map: Nuke (1.26)  -  clg (2.250) vs nrg (1.679) - P:45.49% - 57.00% - 78.96%  -  K: 3.8% (169) - 1.4% (62)\n",
      "    Map: Dust2 (0.40)  -  clg (3.037) vs nrg (1.715) - P:60.78% - 57.00% - 89.95%  -  K: 6.3% (281) - -0.9% (-40)\n",
      "---------- nip vs fnatic ---------------------------------\n",
      "    Map: Train (20.85)  -  nip (2.812) vs fnatic (2.868) - P:42.61% - 56.10% - 54.95%  -  K: 1.8% (80) - 3.2% (143)\n",
      "    Map: Cache (18.10)  -  nip (2.574) vs fnatic (2.657) - P:42.39% - 56.10% - 53.48%  -  K: 1.7% (76) - 3.3% (146)\n",
      "    Map: Inferno (17.40)  -  nip (2.675) vs fnatic (3.961) - P:17.89% - 56.10% - 25.90%  -  K: -2.3% (-104) - 7.0% (313)\n",
      "    Map: Cobblestone (13.51)  -  nip (2.340) vs fnatic (2.642) - P:36.00% - 56.10% - 49.31%  -  K: 0.8% (37) - 4.1% (182)\n",
      "    Map: Mirage (13.22)  -  nip (2.925) vs fnatic (2.797) - P:45.43% - 56.10% - 60.85%  -  K: 2.4% (109) - 2.6% (115)\n",
      "    Map: Overpass (8.81)  -  nip (2.560) vs fnatic (3.370) - P:24.16% - 56.10% - 38.33%  -  K: -1.0% (-46) - 5.8% (260)\n",
      "    Map: Nuke (7.18)  -  nip (2.784) vs fnatic (3.167) - P:30.48% - 56.10% - 51.60%  -  K: 0.4% (20) - 4.4% (198)\n",
      "    Map: Dust2 (0.91)  -  nip (1.738) vs fnatic (4.468) - P:2.96% - 56.10% - 12.23%  -  K: -4.8% (-214) - 9.2% (414)\n",
      "---------- g2 vs envyus ---------------------------------\n",
      "    Map: Cobblestone (19.70)  -  g2 (4.025) vs envyus (2.550) - P:77.79% - 55.00% - 84.51%  -  K: 7.0% (315) - -1.7% (-76)\n",
      "    Map: Inferno (18.38)  -  g2 (3.142) vs envyus (2.638) - P:57.40% - 55.00% - 67.08%  -  K: 4.0% (180) - 1.1% (49)\n",
      "    Map: Train (17.22)  -  g2 (3.192) vs envyus (2.755) - P:54.95% - 55.00% - 66.22%  -  K: 3.8% (169) - 1.3% (60)\n",
      "    Map: Cache (15.41)  -  g2 (3.034) vs envyus (2.364) - P:60.67% - 55.00% - 71.19%  -  K: 4.6% (207) - 0.6% (24)\n",
      "    Map: Nuke (15.37)  -  g2 (4.139) vs envyus (3.161) - P:67.62% - 55.00% - 77.06%  -  K: 5.6% (252) - -0.4% (-18)\n",
      "    Map: Overpass (9.07)  -  g2 (3.398) vs envyus (1.782) - P:77.75% - 55.00% - 87.80%  -  K: 7.3% (327) - -2.0% (-88)\n",
      "    Map: Mirage (2.60)  -  g2 (4.586) vs envyus (0.778) - P:96.03% - 55.00% - 98.82%  -  K: 9.6% (432) - -4.1% (-186)\n",
      "    Map: Dust2 (2.25)  -  g2 (3.969) vs envyus (3.355) - P:51.85% - 55.00% - 75.94%  -  K: 4.2% (189) - 0.9% (41)\n",
      "---------- envyus vs g2 ---------------------------------\n",
      "    Map: Cobblestone (19.70)  -  envyus (2.550) vs g2 (4.025) - P:15.49% - 45.00% - 22.21%  -  K: -1.9% (-84) - 7.2% (323)\n",
      "    Map: Inferno (18.38)  -  envyus (2.638) vs g2 (3.142) - P:32.92% - 45.00% - 42.60%  -  K: 0.8% (37) - 4.3% (193)\n",
      "    Map: Train (17.22)  -  envyus (2.755) vs g2 (3.192) - P:33.78% - 45.00% - 45.05%  -  K: 1.0% (46) - 4.1% (183)\n",
      "    Map: Cache (15.41)  -  envyus (2.364) vs g2 (3.034) - P:28.81% - 45.00% - 39.33%  -  K: 0.3% (12) - 4.9% (220)\n",
      "    Map: Nuke (15.37)  -  envyus (3.161) vs g2 (4.139) - P:22.94% - 45.00% - 32.38%  -  K: -0.7% (-30) - 5.9% (265)\n",
      "    Map: Overpass (9.07)  -  envyus (1.782) vs g2 (3.398) - P:12.20% - 45.00% - 22.25%  -  K: -2.2% (-99) - 7.6% (340)\n",
      "    Map: Mirage (2.60)  -  envyus (0.778) vs g2 (4.586) - P:1.18% - 45.00% - 3.97%  -  K: -4.2% (-189) - 9.7% (436)\n",
      "    Map: Dust2 (2.25)  -  envyus (3.355) vs g2 (3.969) - P:24.06% - 45.00% - 48.15%  -  K: 0.3% (12) - 4.9% (220)\n"
     ]
    },
    {
     "name": "stdout",
     "output_type": "stream",
     "text": [
      "---------- liquid vs optic ---------------------------------\n",
      "    Map: Cobblestone (21.61)  -  liquid (3.369) vs optic (2.418) - P:68.14% - 40.00% - 75.94%  -  K: 6.0% (269) - -1.4% (-63)\n",
      "    Map: Train (18.32)  -  liquid (2.928) vs optic (2.665) - P:50.78% - 40.00% - 62.02%  -  K: 3.8% (169) - 1.1% (50)\n",
      "    Map: Mirage (16.65)  -  liquid (2.828) vs optic (3.139) - P:36.70% - 40.00% - 48.06%  -  K: 1.8% (79) - 3.4% (152)\n",
      "    Map: Inferno (14.45)  -  liquid (2.986) vs optic (2.532) - P:54.97% - 40.00% - 67.13%  -  K: 4.4% (197) - 0.4% (18)\n",
      "    Map: Nuke (9.55)  -  liquid (2.242) vs optic (2.273) - P:42.57% - 40.00% - 56.12%  -  K: 2.7% (123) - 2.3% (103)\n",
      "    Map: Overpass (9.39)  -  liquid (2.265) vs optic (1.964) - P:49.44% - 40.00% - 65.21%  -  K: 3.9% (173) - 1.0% (46)\n",
      "    Map: Cache (9.22)  -  liquid (1.902) vs optic (1.474) - P:52.79% - 40.00% - 67.84%  -  K: 4.3% (193) - 0.5% (23)\n",
      "    Map: Dust2 (0.81)  -  liquid (1.079) vs optic (2.597) - P:9.64% - 40.00% - 31.48%  -  K: -1.7% (-77) - 7.4% (332)\n",
      "---------- nrg vs clg ---------------------------------\n",
      "    Map: Cobblestone (20.02)  -  nrg (1.255) vs clg (2.475) - P:19.19% - 42.57% - 27.00%  -  K: -1.1% (-49) - 6.5% (292)\n",
      "    Map: Mirage (19.38)  -  nrg (1.946) vs clg (2.680) - P:27.81% - 42.57% - 37.59%  -  K: 0.2% (10) - 5.0% (226)\n",
      "    Map: Train (16.65)  -  nrg (1.750) vs clg (2.506) - P:26.82% - 42.57% - 37.69%  -  K: 0.2% (7) - 5.1% (230)\n",
      "    Map: Inferno (16.19)  -  nrg (2.975) vs clg (1.129) - P:82.67% - 42.57% - 89.32%  -  K: 8.0% (358) - -3.5% (-157)\n",
      "    Map: Cache (14.79)  -  nrg (1.698) vs clg (2.384) - P:28.00% - 42.57% - 39.33%  -  K: 0.4% (16) - 4.9% (220)\n",
      "    Map: Overpass (11.31)  -  nrg (1.107) vs clg (1.965) - P:24.11% - 42.57% - 36.12%  -  K: -0.1% (-5) - 5.4% (244)\n",
      "    Map: Nuke (1.26)  -  nrg (1.679) vs clg (2.250) - P:21.04% - 42.57% - 54.51%  -  K: 0.4% (18) - 4.9% (218)\n",
      "    Map: Dust2 (0.40)  -  nrg (1.715) vs clg (3.037) - P:10.05% - 42.57% - 39.22%  -  K: -1.6% (-73) - 7.1% (319)\n"
     ]
    }
   ],
   "source": [
    "PRINT_RD_DIFF = False\n",
    "for i,v in matches.iterrows():\n",
    "    t1_id = h_teams_filt[h_teams_filt.Name == v['1']].index[0]; t1_ind = np.where(teams == t1_id)[0][0];\n",
    "    t2_id = h_teams_filt[h_teams_filt.Name == v['2']].index[0]; t2_ind = np.where(teams == t2_id)[0][0];\n",
    "    print('---------- %s vs %s ---------------------------------' % (v['1'], v['2']))\n",
    "    pred_maps = predict_map(model_played, h_matches, t1_id, t2_id)\n",
    "    pred_maps = pred_maps/pred_maps.sum()\n",
    "    for m,s in pred_maps.iteritems():\n",
    "        m_ind = np.where(maps == m)[0][0]\n",
    "        trace_1 = t_map_rating[:,m_ind,t1_ind]; trace_2 = t_map_rating[:,m_ind,t2_ind]\n",
    "        mr_1 = trace_1.mean(); mr_2 = trace_2.mean();\n",
    "        diff = trace_1-trace_2\n",
    "        p_wl = sig(diff)\n",
    "        wr_25 = np.percentile(p_wl, 25); wr_75 = np.percentile(p_wl, 75)\n",
    "        kappa = 32*sig(t_alpha*diff)-16.\n",
    "        kelly_pct_1 = ((v['o1']*np.percentile(p_wl, 45)-(1.-np.percentile(p_wl, 45)))/v['o1'])*0.1\n",
    "        kelly_pct_2 = ((v['o2']*(1.-np.percentile(p_wl, 45))-(np.percentile(p_wl, 45)))/v['o2'])*0.1\n",
    "        print('    Map: %s (%.2f)  -  %s (%.3f) vs %s (%.3f) - P:%.2f%% - %.2f%% - %.2f%%  -  K: %.1f%% (%i) - %.1f%% (%i)' % \n",
    "             (m, s*100., v['1'], mr_1, v['2'], mr_2,  wr_25*100, v['wr'], wr_75*100, kelly_pct_1*100., \n",
    "               kelly_pct_1*money, kelly_pct_2*100., kelly_pct_2*money))\n",
    "        \n",
    "        if(PRINT_RD_DIFF):\n",
    "            p_sc = [abs_norm_interval(x[0],x[1],kappa,trace['sigma'][:,m_ind]) for x in [[1.5,3.5],[3.5,5.5],[5.5,7.5],[7.5,9.5],[9.5,16]]]\n",
    "            for i,sd in enumerate(['2 - 3 Rounds', '4 - 5 rounds', '6 - 7 rounds', '8 - 9 rounds', '10 rounds or more']):\n",
    "                sc_25 = np.percentile(p_sc[i], 25); sc_75 = np.percentile(p_sc[i], 75)\n",
    "                print('      %s : %.2f%% - %.2f%%' % (sd, sc_25*100, sc_75*100))"
   ]
  },
  {
   "cell_type": "code",
   "execution_count": null,
   "metadata": {
    "collapsed": true
   },
   "outputs": [],
   "source": [
    "np.inner(np.ones((8,25)), np.ones((8,25))).shape"
   ]
  },
  {
   "cell_type": "code",
   "execution_count": null,
   "metadata": {
    "collapsed": true
   },
   "outputs": [],
   "source": [
    "np.ones((8,25)).flatten().shape"
   ]
  },
  {
   "cell_type": "code",
   "execution_count": null,
   "metadata": {
    "collapsed": true
   },
   "outputs": [],
   "source": [
    "np.zeros((8000, 200))"
   ]
  },
  {
   "cell_type": "code",
   "execution_count": null,
   "metadata": {
    "collapsed": true
   },
   "outputs": [],
   "source": [
    "plt.ylim(0,1.2)\n",
    "sns.kdeplot(trace_1, shade=True, alpha=0.65, legend=True, label=v['1'])\n",
    "sns.kdeplot(trace_2, shade=True, alpha=0.65, legend=True, label=v['2'])"
   ]
  },
  {
   "cell_type": "code",
   "execution_count": null,
   "metadata": {
    "collapsed": true
   },
   "outputs": [],
   "source": [
    "h_bp.groupby('Match ID').first().count()"
   ]
  },
  {
   "cell_type": "code",
   "execution_count": null,
   "metadata": {
    "collapsed": true
   },
   "outputs": [],
   "source": [
    "h_bp"
   ]
  },
  {
   "cell_type": "code",
   "execution_count": null,
   "metadata": {
    "collapsed": true
   },
   "outputs": [],
   "source": []
  }
 ],
 "metadata": {
  "kernelspec": {
   "display_name": "Python 3",
   "language": "python",
   "name": "python3"
  },
  "language_info": {
   "codemirror_mode": {
    "name": "ipython",
    "version": 3
   },
   "file_extension": ".py",
   "mimetype": "text/x-python",
   "name": "python",
   "nbconvert_exporter": "python",
   "pygments_lexer": "ipython3",
   "version": "3.6.2"
  }
 },
 "nbformat": 4,
 "nbformat_minor": 2
}
