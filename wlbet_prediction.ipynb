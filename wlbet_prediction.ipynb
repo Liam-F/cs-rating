{
 "cells": [
  {
   "cell_type": "markdown",
   "metadata": {},
   "source": [
    "## Win/Loss Rating Model Prediction\n",
    "\n",
    "Load the model and make predictions"
   ]
  },
  {
   "cell_type": "code",
   "execution_count": 1,
   "metadata": {
    "collapsed": true
   },
   "outputs": [],
   "source": [
    "import requests\n",
    "import pandas as pd\n",
    "import numpy as np\n",
    "import pymc3 as pm\n",
    "import seaborn as sns\n",
    "import datetime as dt\n",
    "import matplotlib.pyplot as plt\n",
    "from scipy.stats import norm\n",
    "from spcl_case import *\n",
    "plt.style.use('fivethirtyeight')\n",
    "%matplotlib inline"
   ]
  },
  {
   "cell_type": "markdown",
   "metadata": {},
   "source": [
    "### Get a list of all CS Games"
   ]
  },
  {
   "cell_type": "code",
   "execution_count": 2,
   "metadata": {
    "scrolled": true
   },
   "outputs": [
    {
     "name": "stdout",
     "output_type": "stream",
     "text": [
      "Date: 2017-10-25  |  Event: ECS Season 4 Development League  | (BO1) EnVyUs vs. fnatic  |  (52.0:48.0) | Total Coins: 2000\n",
      "Date: 2017-10-26  |  Event: ECS Season 4 Development League  | (BO1) SK vs. Liquid  |  (62.8:37.2) | Total Coins: 2150\n",
      "Date: 2017-10-25  |  Event: ECS Season 4 Development League  | (BO1) Immortals vs. Luminosity  |  (56.0:44.0) | Total Coins: 2144\n",
      "Date: 2017-10-25  |  Event: ECS Season 4 Development League  | (BO1) Luminosity vs. Cloud9  |  (39.6:60.4) | Total Coins: 10100\n",
      "Date: 2017-10-25  |  Event: ECS Season 4 Development League  | (BO1) Cloud9 vs. Luminosity  |  (64.5:35.5) | Total Coins: 11258\n",
      "Date: 2017-10-26  |  Event: ECS Season 4 Development League  | (BO1) Immortals vs. Ghost  |  (61.0:39.0) | Total Coins: 2050\n",
      "Date: 2017-10-24  |  Event: ECS Season 4 Development League  | (BO1) GODSENT vs. fnatic  |  (39.0:61.0) | Total Coins: 2050\n",
      "Date: 2017-10-25  |  Event: ECS Season 4 Development League  | (BO1) fnatic vs. EnVyUs  |  (45.0:55.0) | Total Coins: 2000\n",
      "Date: 2017-10-24  |  Event: ECS Season 4 Development League  | (BO1) fnatic vs. GODSENT  |  (58.6:41.4) | Total Coins: 2775\n",
      "Date: 2017-10-26  |  Event: ECS Season 4 Development League  | (BO1) Liquid vs. SK  |  (40.0:60.0) | Total Coins: 10000\n",
      "Date: 2017-10-26  |  Event: ECS Season 4 Development League  | (BO1) Ghost vs. Immortals  |  (37.0:63.0) | Total Coins: 2000\n",
      "Date: 2017-10-24  |  Event: ECS Season 4 Development League  | (BO1) Heroic vs. G2  |  (37.7:62.3) | Total Coins: 2121\n",
      "Date: 2017-10-26  |  Event: ECS Season 4 Development League  | (BO1) FaZe vs. EnVyUs  |  (63.0:37.0) | Total Coins: 10000\n",
      "Date: 2017-10-26  |  Event: ECS Season 4 Development League  | (BO1) NiP vs. fnatic  |  (57.0:43.0) | Total Coins: 10000\n",
      "Date: 2017-10-26  |  Event: ECS Season 4 Development League  | (BO1) fnatic vs. NiP  |  (43.0:57.0) | Total Coins: 10000\n",
      "Date: 2017-10-27  |  Event: ECS Season 4 Development League  | (BO1) OpTic vs. Liquid  |  (60.0:40.0) | Total Coins: 10000\n",
      "Date: 2017-10-24  |  Event: ECS Season 4 Development League  | (BO1) G2 vs. Heroic  |  (75.0:25.0) | Total Coins: 3206\n",
      "Date: 2017-10-27  |  Event: ECS Season 4 Development League  | (BO1) Liquid vs. OpTic  |  (40.0:60.0) | Total Coins: 10000\n",
      "Date: 2017-10-27  |  Event: ECS Season 4 Development League  | (BO1) NRG vs. CLG  |  (43.0:57.0) | Total Coins: 10000\n",
      "Date: 2017-10-25  |  Event: ECS Season 4 Development League  | (BO1) mousesports vs. FaZe  |  (36.1:63.9) | Total Coins: 2050\n",
      "Date: 2017-10-27  |  Event: ECS Season 4 Development League  | (BO1) CLG vs. NRG  |  (57.0:43.0) | Total Coins: 10000\n",
      "Date: 2017-10-25  |  Event: ECS Season 4 Development League  | (BO1) FaZe vs. mousesports  |  (63.2:36.8) | Total Coins: 10324\n",
      "Date: 2017-10-26  |  Event: ECS Season 4 Development League  | (BO1) EnVyUs vs. FaZe  |  (37.0:63.0) | Total Coins: 10000\n",
      "Date: 2017-10-25  |  Event: ECS Season 4 Development League  | (BO1) Luminosity vs. Immortals  |  (40.0:60.0) | Total Coins: 2000\n",
      "Date: 2017-10-25  |  Event: ESEA Global Challenge  | (BO1) CLG Academy vs. ex-Nitrious  |  (47.0:53.0) | Total Coins: 4000\n",
      "Date: 2017-10-25  |  Event: ESEA MDL Season 26  | (BO1) Adaptation vs. Rise Nation  |  (40.0:60.0) | Total Coins: 2000\n",
      "Date: 2017-10-26  |  Event: ESEA MDL Season 26  | (BO1) FRENCH CANADIANS vs. Gale Force  |  (53.3:46.7) | Total Coins: 4500\n",
      "Date: 2017-10-26  |  Event: ESEA MDL Season 26  | (BO1) GX vs. SoaR  |  (66.0:34.0) | Total Coins: 4700\n",
      "Date: 2017-10-27  |  Event: ESEA MDL Season 26  | (BO1) Gale Force vs. Beacon  |  (60.0:40.0) | Total Coins: 4500\n",
      "Date: 2017-10-27  |  Event: ESEA MDL Season 26  | (BO1) LFAO vs. ANTI ECO  |  (60.0:40.0) | Total Coins: 4300\n",
      "Date: 2017-10-26  |  Event: ESEA MDL Season 26  | (BO1) Mythic vs. Torqued  |  (44.2:55.8) | Total Coins: 4300\n",
      "Date: 2017-10-26  |  Event: ESEA MDL Season 26  | (BO1) ex-Denial vs. FRENCH CANADIANS  |  (40.0:60.0) | Total Coins: 4000\n",
      "Date: 2017-10-27  |  Event: ESEA MDL Season 26  | (BO1) Mostly Harmless vs. Iceberg  |  (40.0:60.0) | Total Coins: 4000\n",
      "Date: 2017-10-25  |  Event: ESEA MDL Season 26  | (BO1) GX vs. Mythic  |  (63.9:36.1) | Total Coins: 2384\n",
      "Date: 2017-10-24  |  Event: ESEA MDL Season 26  | (BO1) Kinguin vs. igame.com  |  (67.7:32.3) | Total Coins: 4339\n",
      "Date: 2017-10-24  |  Event: ESEA MDL Season 26  | (BO1) eXtatus vs. PRIDE  |  (68.8:31.2) | Total Coins: 4482\n",
      "Date: 2017-10-24  |  Event: ESEA MDL Season 26  | (BO1) MK vs. Japaleno  |  (34.9:65.1) | Total Coins: 2150\n",
      "Date: 2017-10-24  |  Event: ESEA MDL Season 26  | (BO1) eXtatus vs. Invictus Aquilas  |  (71.3:28.7) | Total Coins: 2230\n",
      "Date: 2017-10-25  |  Event: ESEA MDL Season 26  | (BO1) Iceberg vs. ANTI ECO  |  (60.0:40.0) | Total Coins: 4000\n",
      "Date: 2017-10-24  |  Event: ESEA MDL Season 26  | (BO1) Singularity vs. Endpoint  |  (79.0:21.0) | Total Coins: 2000\n",
      "Date: 2017-10-24  |  Event: ESEA MDL Season 26  | (BO1) Invictus Aquilas vs. Singularity  |  (27.0:73.0) | Total Coins: 4000\n",
      "Date: 2017-10-24  |  Event: ESEA MDL Season 26  | (BO1) 1337HUANIA vs. Space Soldiers  |  (16.6:83.4) | Total Coins: 10821\n",
      "Date: 2017-10-24  |  Event: ESEA MDL Season 26  | (BO1) VITALIS vs. Singularity  |  (37.0:63.0) | Total Coins: 4000\n",
      "Date: 2017-10-25  |  Event: ESEA MDL Season 26  | (BO1) Beacon vs. ex-Denial  |  (43.0:57.0) | Total Coins: 4000\n",
      "Date: 2017-10-25  |  Event: ESEA MDL Season 26  | (BO1) ex-Nitrious vs. Rise Nation  |  (24.2:75.8) | Total Coins: 9087\n",
      "Date: 2017-10-25  |  Event: ESEA MDL Season 26  | (BO1) GX vs. subtLe  |  (65.6:34.4) | Total Coins: 2500\n",
      "Date: 2017-10-25  |  Event: ESEA MDL Season 26  | (BO1) Naventic vs. Muffin Lightning  |  (45.0:55.0) | Total Coins: 2000\n",
      "Date: 2017-10-27  |  Event: ESEA MDL Season 26  | (BO1) Ambition vs. Naventic  |  (40.0:60.0) | Total Coins: 4000\n",
      "Date: 2017-10-24  |  Event: ESEA MDL Season 26  | (BO1) PRIDE vs. aAa  |  (55.6:44.4) | Total Coins: 4100\n",
      "Date: 2017-10-24  |  Event: Epicenter 2017  | (BO3) North vs. Liquid  |  (60.2:39.8) | Total Coins: 14559\n",
      "Date: 2017-10-24  |  Event: Epicenter 2017  | (BO3) Gambit vs. FaZe  |  (24.9:75.1) | Total Coins: 35584\n",
      "Date: 2017-10-24  |  Event: Epicenter 2017  | (BO3) Astralis vs. G2  |  (57.4:42.6) | Total Coins: 57021\n",
      "Date: 2017-10-26  |  Event: Esports Balkan League Season 1  | (BO3) Valiance vs. MK  |  (57.0:43.0) | Total Coins: 4000\n",
      "Date: 2017-10-26  |  Event: Esports Balkan League Season 1  | (BO3) Valiance vs. KlikTech  |  (60.0:40.0) | Total Coins: 4000\n",
      "Date: 2017-10-24  |  Event: Skinhub CS:GO Championship  | (BO1) Valiance vs. igame.com  |  (60.5:39.5) | Total Coins: 4250\n",
      "Date: 2017-10-24  |  Event: WESG 2017  | (BO3) AGO vs. Virtus.pro  |  (52.2:47.8) | Total Coins: 6048\n",
      "Date: 2017-10-24  |  Event: None  | (BO3) EnVyUs Academy vs. Nexus  |  (62.5:37.5) | Total Coins: 4133\n",
      "Date: 2017-10-24  |  Event: None  | (BO3) Spirit Academy vs. eSuba  |  (40.0:60.0) | Total Coins: 2000\n"
     ]
    }
   ],
   "source": [
    "r = requests.get('https://thunderpick.com/api/matches')\n",
    "games = pd.DataFrame(r.json()['data'])\n",
    "games = games[games.gameId == 6].sort_values('championship')\n",
    "\n",
    "bet_games = []\n",
    "for i,v in games.iterrows():\n",
    "    if((v['isTournament'] == False )& (v['canWager'] == True)):\n",
    "        ratio = v['matchBet']['buckets'][0]['amount']/v['matchBet']['buckets'][1]['amount']\n",
    "        odds = (ratio**-1+1, ratio+1)\n",
    "        wr = (odds[1]/np.sum(odds)*100., odds[0]/np.sum(odds)*100.)\n",
    "        det = requests.get('https://thunderpick.com/api/matches/'+str(v['id'])).json()['data']\n",
    "        print('Date: %s  |  Event: %s  | (BO%s) %s vs. %s  |  (%.1f:%.1f) | Total Coins: %i' % \n",
    "              (v['startTime'][:10], v['championship'], det['bestOfMaps'], v['matchBet']['buckets'][0]['label'], \n",
    "               v['matchBet']['buckets'][1]['label'], wr[0], wr[1], v['matchBet']['amount']))\n",
    "        bet_games.append({'1': v['matchBet']['buckets'][0]['label'], '2': v['matchBet']['buckets'][1]['label'], 'bo': det['bestOfMaps'], 'o1': odds[0], 'o2': odds[1], 'wr': wr[0]})\n",
    "bet_games = pd.DataFrame(bet_games)"
   ]
  },
  {
   "cell_type": "markdown",
   "metadata": {},
   "source": [
    "## Load Ratings Model"
   ]
  },
  {
   "cell_type": "code",
   "execution_count": 27,
   "metadata": {},
   "outputs": [],
   "source": [
    "TEAM_SET = 'mdleu'\n",
    "\n",
    "teams = np.load('saved_model/'+TEAM_SET+'/teams.npy')\n",
    "maps = np.load('saved_model/'+TEAM_SET+'/maps.npy')\n",
    "filt = np.chararray.lower(np.load('saved_model/'+TEAM_SET+'/filter_teams.npy'))\n",
    "h_teams = pd.read_csv('hltv_csv/teams.csv').set_index('ID').loc[teams]\n",
    "h_teams = fix_teams(h_teams)\n",
    "h_teams.Name = h_teams.Name.str.lower()\n",
    "h_teams_filt = h_teams[h_teams.Name.isin(filt)]\n",
    "\n",
    "rating_model = prep_pymc_model(len(teams), len(maps))\n",
    "trace = pm.backends.text.load('saved_model/'+TEAM_SET+'/trace', model=rating_model)"
   ]
  },
  {
   "cell_type": "markdown",
   "metadata": {
    "collapsed": true
   },
   "source": [
    "## Ban/Pick Predictions"
   ]
  },
  {
   "cell_type": "code",
   "execution_count": 11,
   "metadata": {
    "collapsed": true
   },
   "outputs": [],
   "source": [
    "h_bp = pd.read_csv('hltv_csv/picksAndBans.csv').set_index('Match ID')\n",
    "h_matches = pd.read_csv('hltv_csv/matchResults.csv').set_index('Match ID')\n",
    "h_matches['Date'] = pd.to_datetime(h_matches['Date'])\n",
    "h_matches = h_matches[h_matches['Date'] >= dt.datetime(2017,1,1)]\n",
    "h_bp = h_bp.join(h_matches[['Date']], how='left')\n",
    "h_bp['Date'] = pd.to_datetime(h_bp['Date'])\n",
    "h_bp = h_bp[h_bp['Date'] >= dt.datetime(2017,1,1)]"
   ]
  },
  {
   "cell_type": "code",
   "execution_count": 12,
   "metadata": {
    "collapsed": true
   },
   "outputs": [],
   "source": [
    "def model_mp(train, t1, t2):\n",
    "    tab = train[train['Team'].isin([t1, t2])].groupby(['Team', ' Pick Type', 'Map'])['Date'].count().unstack([' Pick Type', 'Team']).fillna(0)\n",
    "    return (tab/tab.sum(axis=0)).mean(level=0,axis=1)# get average\n",
    "\n",
    "def model_played(train, t1, t2):\n",
    "    a = train[train['Team 1 ID'].isin([t1,t2])].groupby(['Team 1 ID', 'Map'])['Date'].count()\n",
    "    b = train[train['Team 2 ID'].isin([t1,t2])].groupby(['Team 2 ID', 'Map'])['Date'].count()\n",
    "    c = pd.DataFrame([a,b], index=['a','b']).T.fillna(0)\n",
    "    c = (c['a']+c['b']).unstack(level=0).fillna(0)\n",
    "    return (c/c.sum()).mean(axis=1)\n",
    "\n",
    "def predict_map(func, data, t1, t2):\n",
    "    res = func(data, t1, t2)\n",
    "    return res.loc[res.index != 'Default'].sort_values(ascending=False)"
   ]
  },
  {
   "cell_type": "markdown",
   "metadata": {},
   "source": [
    "# Bet Predictions"
   ]
  },
  {
   "cell_type": "code",
   "execution_count": 29,
   "metadata": {
    "scrolled": false
   },
   "outputs": [
    {
     "name": "stdout",
     "output_type": "stream",
     "text": [
      "kinguin (1.584) vs igame.com (1.104) - I:67.73% | P:50.71% - 71.74%  -  K: 3.2% (144) - 2.1% (95)\n",
      "extatus (1.474) vs pride (0.835) - I:68.76% | P:54.92% - 74.78%  -  K: 3.8% (172) - 1.7% (75)\n",
      "mk (0.951) vs japaleno (1.166) - I:34.88% | P:31.58% - 58.52%  -  K: 2.2% (97) - 3.1% (138)\n",
      "extatus (1.474) vs invictus aquilas (-0.205) - I:71.30% | P:76.45% - 89.83%  -  K: 7.1% (318) - -0.7% (-30)\n",
      "singularity (1.499) vs endpoint (-0.660) - I:79.00% | P:83.93% - 93.51%  -  K: 8.0% (359) - -0.7% (-33)\n",
      "invictus aquilas (-0.205) vs singularity (1.499) - I:27.00% | P:9.78% - 23.36%  -  K: -0.9% (-39) - 7.5% (338)\n",
      "1337huania (0.036) vs space soldiers (2.429) - I:16.63% | P:4.96% - 13.87%  -  K: -0.8% (-35) - 8.6% (387)\n",
      "vitalis (0.930) vs singularity (1.499) - I:37.00% | P:25.26% - 49.07%  -  K: 1.0% (43) - 4.4% (200)\n",
      "pride (0.835) vs aaa (0.817) - I:55.61% | P:31.64% - 69.35%  -  K: 1.7% (76) - 3.3% (147)\n",
      "ago (1.863) vs virtus.pro (1.743) - I:52.20% | P:41.16% - 64.52%  -  K: 2.5% (112) - 2.5% (112)\n"
     ]
    }
   ],
   "source": [
    "money = 4500.\n",
    "bet_games['1'] = bet_games['1'].str.lower().replace('ex-Denial', 'Denial')\n",
    "bet_games['2'] = bet_games['2'].str.lower().replace('ex-Denial', 'Denial')\n",
    "matches = bet_games[bet_games['1'].isin(filt) & bet_games['2'].isin(filt)].drop_duplicates()\n",
    "def sig(x):\n",
    "    return 1 / (1 + np.exp(-x))\n",
    "def abs_norm_interval(start,end,loc,scale):\n",
    "    return (norm.cdf(end,loc,scale) - norm.cdf(start,loc,scale)) + (norm.cdf(-1*start,loc,scale) - norm.cdf(-1*end,loc,scale))\n",
    "\n",
    "t_rating = trace['rating']\n",
    "t_map_rating = trace['rating | map']\n",
    "t_alpha = trace['alpha']\n",
    "for i,v in matches.iterrows():\n",
    "    t1_id = h_teams_filt[h_teams_filt.Name == v['1']].index[0]; t1_ind = np.where(teams == t1_id)[0][0];\n",
    "    t2_id = h_teams_filt[h_teams_filt.Name == v['2']].index[0]; t2_ind = np.where(teams == t2_id)[0][0];\n",
    "    trace_1 = t_rating[:,t1_ind]; trace_2 = t_rating[:,t2_ind]\n",
    "    mr_1 = trace_1.mean(); mr_2 = trace_2.mean();\n",
    "    diff = trace_1-trace_2\n",
    "    p_wl = sig(diff)\n",
    "    wr_25 = np.percentile(p_wl, 25); wr_75 = np.percentile(p_wl, 75)\n",
    "    kelly_pct_1 = ((v['o1']*np.percentile(p_wl, 45)-(1.-np.percentile(p_wl, 45)))/v['o1'])*0.1\n",
    "    kelly_pct_2 = ((v['o2']*(1.-np.percentile(p_wl, 45))-(np.percentile(p_wl, 45)))/v['o2'])*0.1\n",
    "    print('%s (%.3f) vs %s (%.3f) - I:%.2f%% | P:%.2f%% - %.2f%%  -  K: %.1f%% (%i) - %.1f%% (%i)' % \n",
    "          (v['1'], mr_1, v['2'], mr_2, v['wr'], wr_25*100, wr_75*100, kelly_pct_1*100., \n",
    "           kelly_pct_1*money, kelly_pct_2*100., kelly_pct_2*money))"
   ]
  },
  {
   "cell_type": "code",
   "execution_count": 21,
   "metadata": {},
   "outputs": [
    {
     "data": {
      "text/plain": [
       "array(['Virtus.pro', 'FlipSid3', 'eXtatus', 'AGO', 'Fragsters', 'Gambit',\n",
       "       'PRIDE', '1337HUANIA', 'VITALIS', 'Epsilon', 'CHAOS', 'Crowns',\n",
       "       'MK', 'Japaleno', 'Not Academy', 'aAa', 'Space Soldiers',\n",
       "       'Singularity', 'Nexus', 'Invictus Aquilas', 'Spirit', 'Kinguin',\n",
       "       'Seed', 'Endpoint', 'iGame.com', 'TEAM5', 'ALTERNATE aTTaX'],\n",
       "      dtype='<U16')"
      ]
     },
     "execution_count": 21,
     "metadata": {},
     "output_type": "execute_result"
    }
   ],
   "source": [
    "filt"
   ]
  },
  {
   "cell_type": "code",
   "execution_count": 30,
   "metadata": {
    "scrolled": false
   },
   "outputs": [
    {
     "name": "stdout",
     "output_type": "stream",
     "text": [
      "---------- kinguin vs igame.com ---------------------------------\n",
      "    Map: Train (20.45)  -  kinguin (1.930) vs igame.com (1.988) - I:67.73% | P:43.04% - 54.17%  -  K: 1.2% (53) - 3.7% (167)\n",
      "    Map: Overpass (17.51)  -  kinguin (1.674) vs igame.com (1.021) - I:67.73% | P:59.64% - 71.44%  -  K: 4.1% (182) - 1.5% (65)\n",
      "    Map: Mirage (15.37)  -  kinguin (2.070) vs igame.com (0.185) - I:67.73% | P:83.34% - 89.61%  -  K: 7.7% (345) - -1.4% (-63)\n",
      "    Map: Cobblestone (12.25)  -  kinguin (1.350) vs igame.com (-0.230) - I:67.73% | P:77.98% - 86.92%  -  K: 7.0% (313) - -0.8% (-37)\n",
      "    Map: Inferno (11.47)  -  kinguin (1.872) vs igame.com (1.756) - I:67.73% | P:44.85% - 61.00%  -  K: 1.8% (81) - 3.2% (145)\n",
      "    Map: Cache (10.23)  -  kinguin (0.445) vs igame.com (1.120) - I:67.73% | P:25.36% - 43.04%  -  K: -1.4% (-62) - 5.7% (258)\n",
      "    Map: Nuke (9.88)  -  kinguin (2.532) vs igame.com (1.423) - I:67.73% | P:66.72% - 81.99%  -  K: 5.6% (253) - 0.2% (9)\n",
      "    Map: Dust2 (2.85)  -  kinguin (1.913) vs igame.com (2.391) - I:67.73% | P:24.13% - 54.02%  -  K: -0.9% (-41) - 5.4% (242)\n",
      "---------- extatus vs pride ---------------------------------\n",
      "    Map: Mirage (23.62)  -  extatus (2.523) vs pride (2.265) - I:68.76% | P:51.05% - 61.89%  -  K: 2.5% (111) - 2.7% (122)\n",
      "    Map: Train (17.31)  -  extatus (1.434) vs pride (1.979) - I:68.76% | P:31.37% - 42.28%  -  K: -0.8% (-37) - 5.3% (238)\n",
      "    Map: Cache (14.85)  -  extatus (0.620) vs pride (0.936) - I:68.76% | P:35.77% - 49.13%  -  K: 0.0% (1) - 4.6% (208)\n",
      "    Map: Cobblestone (12.55)  -  extatus (1.661) vs pride (0.681) - I:68.76% | P:66.59% - 78.18%  -  K: 5.2% (233) - 0.6% (27)\n",
      "    Map: Inferno (12.41)  -  extatus (2.258) vs pride (0.463) - I:68.76% | P:81.36% - 89.23%  -  K: 7.4% (335) - -1.1% (-51)\n",
      "    Map: Nuke (9.61)  -  extatus (-0.115) vs pride (1.372) - I:68.76% | P:12.56% - 26.52%  -  K: -4.0% (-177) - 7.7% (347)\n",
      "    Map: Overpass (8.43)  -  extatus (1.718) vs pride (0.880) - I:68.76% | P:61.77% - 76.76%  -  K: 4.7% (209) - 1.0% (46)\n",
      "    Map: Dust2 (1.21)  -  extatus (2.625) vs pride (-1.399) - I:68.76% | P:96.20% - 99.20%  -  K: 9.6% (434) - -2.8% (-128)\n",
      "---------- mk vs japaleno ---------------------------------\n",
      "    Map: Mirage (23.86)  -  mk (0.560) vs japaleno (0.823) - I:34.88% | P:31.06% - 56.38%  -  K: 2.0% (91) - 3.2% (145)\n",
      "    Map: Train (21.03)  -  mk (0.615) vs japaleno (1.889) - I:34.88% | P:14.34% - 31.94%  -  K: -0.7% (-32) - 6.6% (298)\n",
      "    Map: Cobblestone (20.20)  -  mk (1.330) vs japaleno (1.301) - I:34.88% | P:37.08% - 64.41%  -  K: 3.0% (135) - 2.1% (92)\n",
      "    Map: Inferno (15.05)  -  mk (0.990) vs japaleno (1.746) - I:34.88% | P:18.93% - 49.12%  -  K: 0.4% (19) - 5.2% (234)\n",
      "    Map: Overpass (13.24)  -  mk (1.444) vs japaleno (0.844) - I:34.88% | P:48.71% - 77.58%  -  K: 4.8% (217) - -0.2% (-8)\n",
      "    Map: Cache (4.13)  -  mk (0.498) vs japaleno (1.159) - I:34.88% | P:14.84% - 60.38%  -  K: 0.5% (24) - 5.1% (228)\n",
      "    Map: Dust2 (2.48)  -  mk (1.806) vs japaleno (1.167) - I:34.88% | P:37.23% - 85.70%  -  K: 4.7% (210) - 0.0% (0)\n",
      "---------- extatus vs invictus aquilas ---------------------------------\n",
      "    Map: Mirage (21.07)  -  extatus (2.523) vs invictus aquilas (-0.009) - I:71.30% | P:88.78% - 95.11%  -  K: 8.6% (387) - -1.8% (-82)\n",
      "    Map: Cobblestone (20.84)  -  extatus (1.661) vs invictus aquilas (0.160) - I:71.30% | P:75.86% - 86.48%  -  K: 6.7% (301) - -0.4% (-17)\n",
      "    Map: Cache (16.03)  -  extatus (0.620) vs invictus aquilas (-0.786) - I:71.30% | P:73.35% - 85.78%  -  K: 6.4% (287) - -0.2% (-7)\n",
      "    Map: Overpass (14.50)  -  extatus (1.718) vs invictus aquilas (0.849) - I:71.30% | P:60.32% - 78.86%  -  K: 4.6% (206) - 1.2% (53)\n",
      "    Map: Inferno (14.13)  -  extatus (2.258) vs invictus aquilas (-0.852) - I:71.30% | P:93.12% - 97.33%  -  K: 9.2% (413) - -2.3% (-101)\n",
      "    Map: Train (6.57)  -  extatus (1.434) vs invictus aquilas (-0.207) - I:71.30% | P:65.25% - 93.42%  -  K: 6.8% (303) - -0.4% (-19)\n",
      "    Map: Nuke (5.98)  -  extatus (-0.115) vs invictus aquilas (-0.718) - I:71.30% | P:47.98% - 78.67%  -  K: 3.4% (153) - 2.1% (93)\n",
      "    Map: Dust2 (0.89)  -  extatus (2.625) vs invictus aquilas (-0.207) - I:71.30% | P:84.87% - 98.07%  -  K: 8.9% (398) - -2.0% (-90)\n",
      "---------- singularity vs endpoint ---------------------------------\n",
      "    Map: Mirage (19.38)  -  singularity (1.738) vs endpoint (-0.493) - I:79.00% | P:85.11% - 93.75%  -  K: 8.1% (364) - -0.8% (-36)\n",
      "    Map: Train (18.26)  -  singularity (1.507) vs endpoint (-1.364) - I:79.00% | P:91.66% - 96.55%  -  K: 9.0% (403) - -1.4% (-62)\n",
      "    Map: Inferno (17.84)  -  singularity (1.005) vs endpoint (-0.131) - I:79.00% | P:67.57% - 82.22%  -  K: 5.4% (244) - 1.0% (44)\n",
      "    Map: Cobblestone (12.70)  -  singularity (1.850) vs endpoint (-0.734) - I:79.00% | P:88.67% - 95.67%  -  K: 8.6% (388) - -1.2% (-52)\n",
      "    Map: Overpass (11.76)  -  singularity (2.813) vs endpoint (-1.265) - I:79.00% | P:97.07% - 99.04%  -  K: 9.7% (434) - -1.9% (-84)\n",
      "    Map: Nuke (11.27)  -  singularity (2.550) vs endpoint (0.181) - I:79.00% | P:84.62% - 95.41%  -  K: 8.3% (372) - -0.9% (-42)\n",
      "    Map: Cache (7.40)  -  singularity (0.041) vs endpoint (-0.388) - I:79.00% | P:46.63% - 72.75%  -  K: 2.4% (110) - 3.0% (135)\n",
      "    Map: Dust2 (1.40)  -  singularity (1.498) vs endpoint (-1.533) - I:79.00% | P:86.70% - 98.47%  -  K: 9.0% (404) - -1.4% (-63)\n",
      "---------- invictus aquilas vs singularity ---------------------------------\n",
      "    Map: Mirage (19.88)  -  invictus aquilas (-0.009) vs singularity (1.738) - I:27.00% | P:10.02% - 21.67%  -  K: -0.9% (-41) - 7.6% (340)\n",
      "    Map: Cobblestone (19.18)  -  invictus aquilas (0.160) vs singularity (1.850) - I:27.00% | P:11.05% - 21.54%  -  K: -0.8% (-37) - 7.5% (335)\n",
      "    Map: Overpass (15.79)  -  invictus aquilas (0.849) vs singularity (2.813) - I:27.00% | P:8.06% - 18.40%  -  K: -1.2% (-56) - 8.0% (360)\n",
      "    Map: Cache (12.80)  -  invictus aquilas (-0.786) vs singularity (0.041) - I:27.00% | P:21.66% - 40.91%  -  K: 0.9% (42) - 5.0% (226)\n",
      "    Map: Nuke (12.26)  -  invictus aquilas (-0.718) vs singularity (2.550) - I:27.00% | P:2.02% - 6.68%  -  K: -2.3% (-102) - 9.4% (423)\n",
      "    Map: Inferno (11.68)  -  invictus aquilas (-0.852) vs singularity (1.005) - I:27.00% | P:8.62% - 20.68%  -  K: -1.1% (-49) - 7.8% (351)\n",
      "    Map: Train (8.41)  -  invictus aquilas (-0.207) vs singularity (1.507) - I:27.00% | P:6.06% - 33.32%  -  K: -1.1% (-47) - 7.8% (349)\n",
      "---------- 1337huania vs space soldiers ---------------------------------\n",
      "    Map: Mirage (27.96)  -  1337huania (1.395) vs space soldiers (2.677) - I:16.63% | P:15.30% - 29.93%  -  K: 0.7% (32) - 6.3% (281)\n",
      "    Map: Inferno (19.11)  -  1337huania (0.334) vs space soldiers (2.705) - I:16.63% | P:5.37% - 13.49%  -  K: -0.7% (-33) - 8.6% (384)\n",
      "    Map: Cache (18.70)  -  1337huania (0.544) vs space soldiers (3.320) - I:16.63% | P:3.56% - 9.64%  -  K: -1.0% (-46) - 9.0% (406)\n",
      "    Map: Overpass (10.78)  -  1337huania (-1.077) vs space soldiers (2.814) - I:16.63% | P:0.96% - 4.25%  -  K: -1.5% (-65) - 9.7% (435)\n",
      "    Map: Cobblestone (10.39)  -  1337huania (-0.407) vs space soldiers (2.826) - I:16.63% | P:1.76% - 8.18%  -  K: -1.3% (-57) - 9.4% (421)\n",
      "    Map: Train (8.75)  -  1337huania (0.036) vs space soldiers (2.732) - I:16.63% | P:2.40% - 15.77%  -  K: -1.0% (-46) - 9.0% (405)\n",
      "    Map: Nuke (3.42)  -  1337huania (-0.553) vs space soldiers (1.909) - I:16.63% | P:3.36% - 17.50%  -  K: -0.9% (-39) - 8.8% (393)\n",
      "    Map: Dust2 (0.89)  -  1337huania (0.038) vs space soldiers (2.079) - I:16.63% | P:4.09% - 28.84%  -  K: -0.5% (-24) - 8.2% (371)\n",
      "---------- vitalis vs singularity ---------------------------------\n",
      "    Map: Mirage (21.74)  -  vitalis (-0.325) vs singularity (1.738) - I:37.00% | P:7.86% - 15.87%  -  K: -2.2% (-100) - 8.3% (371)\n",
      "    Map: Inferno (16.74)  -  vitalis (1.534) vs singularity (1.005) - I:37.00% | P:52.41% - 72.41%  -  K: 4.7% (209) - 0.1% (2)\n",
      "    Map: Overpass (15.98)  -  vitalis (0.767) vs singularity (2.813) - I:37.00% | P:7.62% - 16.97%  -  K: -2.2% (-100) - 8.2% (371)\n",
      "    Map: Train (14.24)  -  vitalis (2.582) vs singularity (1.507) - I:37.00% | P:63.92% - 82.71%  -  K: 6.2% (281) - -1.8% (-82)\n"
     ]
    },
    {
     "name": "stdout",
     "output_type": "stream",
     "text": [
      "    Map: Cache (13.18)  -  vitalis (2.237) vs singularity (0.041) - I:37.00% | P:85.11% - 93.39%  -  K: 8.5% (383) - -4.5% (-204)\n",
      "    Map: Cobblestone (9.70)  -  vitalis (-0.637) vs singularity (1.850) - I:37.00% | P:4.29% - 13.62%  -  K: -2.8% (-123) - 8.9% (399)\n",
      "    Map: Nuke (8.41)  -  vitalis (0.928) vs singularity (2.550) - I:37.00% | P:6.74% - 35.22%  -  K: -1.8% (-79) - 7.7% (346)\n",
      "---------- pride vs aaa ---------------------------------\n",
      "    Map: Inferno (37.39)  -  pride (0.463) vs aaa (2.485) - I:55.61% | P:5.88% - 22.52%  -  K: -3.9% (-175) - 8.5% (380)\n",
      "    Map: Mirage (28.19)  -  pride (2.265) vs aaa (-0.300) - I:55.61% | P:84.47% - 96.78%  -  K: 8.7% (390) - -3.2% (-144)\n",
      "    Map: Train (10.71)  -  pride (1.979) vs aaa (0.826) - I:55.61% | P:50.24% - 90.75%  -  K: 5.6% (253) - -0.4% (-17)\n",
      "    Map: Cache (8.44)  -  pride (0.936) vs aaa (0.817) - I:55.61% | P:26.03% - 78.53%  -  K: 1.9% (85) - 3.1% (138)\n",
      "    Map: Nuke (7.47)  -  pride (1.372) vs aaa (0.827) - I:55.61% | P:35.78% - 84.15%  -  K: 3.5% (155) - 1.6% (73)\n",
      "    Map: Cobblestone (4.55)  -  pride (0.681) vs aaa (0.820) - I:55.61% | P:21.44% - 73.49%  -  K: 0.9% (40) - 4.0% (180)\n",
      "    Map: Overpass (2.92)  -  pride (0.880) vs aaa (0.815) - I:55.61% | P:24.81% - 77.30%  -  K: 1.7% (74) - 3.3% (148)\n",
      "    Map: Dust2 (0.32)  -  pride (-1.399) vs aaa (0.813) - I:55.61% | P:2.81% - 30.07%  -  K: -4.3% (-195) - 8.9% (398)\n",
      "---------- ago vs virtus.pro ---------------------------------\n",
      "    Map: Train (23.12)  -  ago (3.146) vs virtus.pro (2.341) - I:52.20% | P:61.06% - 76.01%  -  K: 5.1% (228) - 0.0% (0)\n",
      "    Map: Inferno (20.09)  -  ago (2.596) vs virtus.pro (1.327) - I:52.20% | P:71.19% - 83.48%  -  K: 6.5% (291) - -1.4% (-60)\n",
      "    Map: Mirage (17.17)  -  ago (1.384) vs virtus.pro (2.590) - I:52.20% | P:16.89% - 30.71%  -  K: -1.9% (-85) - 6.8% (305)\n",
      "    Map: Cobblestone (11.08)  -  ago (1.368) vs virtus.pro (2.024) - I:52.20% | P:24.42% - 45.67%  -  K: -0.3% (-12) - 5.2% (234)\n",
      "    Map: Overpass (9.49)  -  ago (2.766) vs virtus.pro (1.684) - I:52.20% | P:64.65% - 82.38%  -  K: 5.8% (262) - -0.7% (-32)\n",
      "    Map: Cache (9.49)  -  ago (2.846) vs virtus.pro (1.411) - I:52.20% | P:71.83% - 87.05%  -  K: 6.8% (306) - -1.7% (-76)\n",
      "    Map: Nuke (9.32)  -  ago (0.206) vs virtus.pro (2.440) - I:52.20% | P:4.60% - 19.16%  -  K: -3.9% (-175) - 8.7% (392)\n",
      "    Map: Dust2 (0.24)  -  ago (1.869) vs virtus.pro (1.132) - I:52.20% | P:38.83% - 87.35%  -  K: 4.2% (190) - 0.8% (37)\n"
     ]
    }
   ],
   "source": [
    "PRINT_RD_DIFF = False\n",
    "for i,v in matches.iterrows():\n",
    "    t1_id = h_teams_filt[h_teams_filt.Name == v['1']].index[0]; t1_ind = np.where(teams == t1_id)[0][0];\n",
    "    t2_id = h_teams_filt[h_teams_filt.Name == v['2']].index[0]; t2_ind = np.where(teams == t2_id)[0][0];\n",
    "    print('---------- %s vs %s ---------------------------------' % (v['1'], v['2']))\n",
    "    pred_maps = predict_map(model_played, h_matches, t1_id, t2_id)\n",
    "    pred_maps = pred_maps/pred_maps.sum()\n",
    "    for m,s in pred_maps.iteritems():\n",
    "        m_ind = np.where(maps == m)[0][0]\n",
    "        trace_1 = t_map_rating[:,m_ind,t1_ind]; trace_2 = t_map_rating[:,m_ind,t2_ind]\n",
    "        mr_1 = trace_1.mean(); mr_2 = trace_2.mean();\n",
    "        diff = trace_1-trace_2\n",
    "        p_wl = sig(diff)\n",
    "        wr_25 = np.percentile(p_wl, 25); wr_75 = np.percentile(p_wl, 75)\n",
    "        kappa = 32*sig(t_alpha*diff)-16.\n",
    "        kelly_pct_1 = ((v['o1']*np.percentile(p_wl, 45)-(1.-np.percentile(p_wl, 45)))/v['o1'])*0.1\n",
    "        kelly_pct_2 = ((v['o2']*(1.-np.percentile(p_wl, 45))-(np.percentile(p_wl, 45)))/v['o2'])*0.1\n",
    "        print('    Map: %s (%.2f)  -  %s (%.3f) vs %s (%.3f) - I:%.2f%% | P:%.2f%% - %.2f%%  -  K: %.1f%% (%i) - %.1f%% (%i)' % \n",
    "             (m, s*100., v['1'], mr_1, v['2'], mr_2, v['wr'], wr_25*100, wr_75*100, kelly_pct_1*100., \n",
    "               kelly_pct_1*money, kelly_pct_2*100., kelly_pct_2*money))\n",
    "        \n",
    "        if(PRINT_RD_DIFF):\n",
    "            p_sc = [abs_norm_interval(x[0],x[1],kappa,trace['sigma'][:,m_ind]) for x in [[1.5,3.5],[3.5,5.5],[5.5,7.5],[7.5,9.5],[9.5,16]]]\n",
    "            for i,sd in enumerate(['2 - 3 Rounds', '4 - 5 rounds', '6 - 7 rounds', '8 - 9 rounds', '10 rounds or more']):\n",
    "                sc_25 = np.percentile(p_sc[i], 25); sc_75 = np.percentile(p_sc[i], 75)\n",
    "                print('      %s : %.2f%% - %.2f%%' % (sd, sc_25*100, sc_75*100))"
   ]
  },
  {
   "cell_type": "code",
   "execution_count": 36,
   "metadata": {},
   "outputs": [
    {
     "data": {
      "text/plain": [
       "(8, 8)"
      ]
     },
     "execution_count": 36,
     "metadata": {},
     "output_type": "execute_result"
    }
   ],
   "source": [
    "np.inner(np.ones((8,25)), np.ones((8,25))).shape"
   ]
  },
  {
   "cell_type": "code",
   "execution_count": 40,
   "metadata": {},
   "outputs": [
    {
     "data": {
      "text/plain": [
       "(200,)"
      ]
     },
     "execution_count": 40,
     "metadata": {},
     "output_type": "execute_result"
    }
   ],
   "source": [
    "np.ones((8,25)).flatten().shape"
   ]
  },
  {
   "cell_type": "code",
   "execution_count": 41,
   "metadata": {},
   "outputs": [
    {
     "data": {
      "text/plain": [
       "array([[ 0.,  0.,  0., ...,  0.,  0.,  0.],\n",
       "       [ 0.,  0.,  0., ...,  0.,  0.,  0.],\n",
       "       [ 0.,  0.,  0., ...,  0.,  0.,  0.],\n",
       "       ..., \n",
       "       [ 0.,  0.,  0., ...,  0.,  0.,  0.],\n",
       "       [ 0.,  0.,  0., ...,  0.,  0.,  0.],\n",
       "       [ 0.,  0.,  0., ...,  0.,  0.,  0.]])"
      ]
     },
     "execution_count": 41,
     "metadata": {},
     "output_type": "execute_result"
    }
   ],
   "source": [
    "np.zeros((8000, 200))"
   ]
  },
  {
   "cell_type": "code",
   "execution_count": null,
   "metadata": {
    "collapsed": true
   },
   "outputs": [],
   "source": [
    "plt.ylim(0,1.2)\n",
    "sns.kdeplot(trace_1, shade=True, alpha=0.65, legend=True, label=v['1'])\n",
    "sns.kdeplot(trace_2, shade=True, alpha=0.65, legend=True, label=v['2'])"
   ]
  },
  {
   "cell_type": "code",
   "execution_count": null,
   "metadata": {
    "collapsed": true
   },
   "outputs": [],
   "source": [
    "h_bp.groupby('Match ID').first().count()"
   ]
  },
  {
   "cell_type": "code",
   "execution_count": null,
   "metadata": {
    "collapsed": true
   },
   "outputs": [],
   "source": [
    "h_bp"
   ]
  },
  {
   "cell_type": "code",
   "execution_count": null,
   "metadata": {
    "collapsed": true
   },
   "outputs": [],
   "source": []
  }
 ],
 "metadata": {
  "kernelspec": {
   "display_name": "Python 3",
   "language": "python",
   "name": "python3"
  },
  "language_info": {
   "codemirror_mode": {
    "name": "ipython",
    "version": 3
   },
   "file_extension": ".py",
   "mimetype": "text/x-python",
   "name": "python",
   "nbconvert_exporter": "python",
   "pygments_lexer": "ipython3",
   "version": "3.6.2"
  }
 },
 "nbformat": 4,
 "nbformat_minor": 2
}
